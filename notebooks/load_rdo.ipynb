{
 "metadata": {
  "language_info": {
   "codemirror_mode": {
    "name": "ipython",
    "version": 3
   },
   "file_extension": ".py",
   "mimetype": "text/x-python",
   "name": "python",
   "nbconvert_exporter": "python",
   "pygments_lexer": "ipython3",
   "version": "3.8.5-final"
  },
  "orig_nbformat": 2,
  "kernelspec": {
   "name": "python385jvsc74a57bd0967e0ad8f74b4223479a99dc6f7efc25e752c369d3f31683542303dbaeb6ed17",
   "display_name": "Python 3.8.5 64-bit ('maestro')"
  }
 },
 "nbformat": 4,
 "nbformat_minor": 2,
 "cells": [
  {
   "cell_type": "code",
   "execution_count": 12,
   "metadata": {},
   "outputs": [],
   "source": [
    "folder = \"/mnt/c/Users/lauri/Downloads/BRT-20210408T021020Z-001/BRT\""
   ]
  },
  {
   "cell_type": "code",
   "execution_count": 17,
   "metadata": {},
   "outputs": [],
   "source": [
    "from pathlib import Path\n",
    "import os\n",
    "import re\n",
    "from shutil import copy"
   ]
  },
  {
   "cell_type": "code",
   "execution_count": 19,
   "metadata": {},
   "outputs": [],
   "source": [
    "for filename in os.listdir(folder):\n",
    "    ano, mes = tuple(re.findall(\"\\d+\", filename))\n",
    "    file_path = f\"/home/lmoraes/RDO_DATA/raw/br_rj_riodejaneiro_rdo/brt_rdo40_registros/ano={ano}/mes={mes}\"\n",
    "    Path(file_path).mkdir(parents=True, exist_ok=True)\n",
    "    copy(f\"{folder}/{filename}\", file_path)\n"
   ]
  }
 ]
}