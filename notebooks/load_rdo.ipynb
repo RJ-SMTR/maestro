{
 "metadata": {
  "language_info": {
   "codemirror_mode": {
    "name": "ipython",
    "version": 3
   },
   "file_extension": ".py",
   "mimetype": "text/x-python",
   "name": "python",
   "nbconvert_exporter": "python",
   "pygments_lexer": "ipython3",
   "version": "3.8.5"
  },
  "orig_nbformat": 2,
  "kernelspec": {
   "name": "python385jvsc74a57bd05cf277a4ec1d7681f7d0dd7a91601f45b893318ad512e3543f7a4db7d6fbbadf",
   "display_name": "Python 3.8.5 64-bit ('.maestro': venv)"
  }
 },
 "nbformat": 4,
 "nbformat_minor": 2,
 "cells": [
  {
   "cell_type": "code",
   "execution_count": 12,
   "metadata": {},
   "outputs": [],
   "source": [
    "folder = \"/mnt/c/Users/lauri/Downloads/BRT-20210408T021020Z-001/BRT\""
   ]
  },
  {
   "cell_type": "code",
   "execution_count": 2,
   "metadata": {},
   "outputs": [],
   "source": [
    "from pathlib import Path\n",
    "import os\n",
    "import re\n",
    "from shutil import copy"
   ]
  },
  {
   "cell_type": "code",
   "execution_count": 19,
   "metadata": {},
   "outputs": [],
   "source": [
    "for filename in os.listdir(folder):\n",
    "    ano, mes = tuple(re.findall(\"\\d+\", filename))\n",
    "    file_path = f\"/home/lmoraes/RDO_DATA/raw/br_rj_riodejaneiro_rdo/brt_rdo40_registros/ano={ano}/mes={mes}\"\n",
    "    Path(file_path).mkdir(parents=True, exist_ok=True)\n",
    "    copy(f\"{folder}/{filename}\", file_path)\n"
   ]
  },
  {
   "cell_type": "code",
   "execution_count": 1,
   "metadata": {},
   "outputs": [],
   "source": [
    "folder = \"/mnt/c/Users/lauri/Downloads/RDO\""
   ]
  },
  {
   "cell_type": "code",
   "execution_count": 6,
   "metadata": {},
   "outputs": [
    {
     "output_type": "stream",
     "name": "stdout",
     "text": [
      "21\n"
     ]
    }
   ],
   "source": [
    "for filename in os.listdir(folder):\n",
    "    date = tuple(re.findall(\"\\d+\", filename))\n",
    "    ano = date[2][:4]\n",
    "    mes = date[2][4:6]\n",
    "    dia = date[2][6:]\n",
    "    file_path = f\"/home/lmoraes/RDO_DATA/raw/br_rj_riodejaneiro_rdo/rdo5_registros/ano={ano}/mes={mes}/dia={dia}\"\n",
    "    Path(file_path).mkdir(parents=True, exist_ok=True)\n",
    "    copy(f\"{folder}/{filename}\", file_path)"
   ]
  }
 ]
}