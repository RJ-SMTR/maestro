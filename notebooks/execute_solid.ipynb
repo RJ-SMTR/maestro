{
 "metadata": {
  "language_info": {
   "codemirror_mode": {
    "name": "ipython",
    "version": 3
   },
   "file_extension": ".py",
   "mimetype": "text/x-python",
   "name": "python",
   "nbconvert_exporter": "python",
   "pygments_lexer": "ipython3",
   "version": "3.8.5-final"
  },
  "orig_nbformat": 2,
  "kernelspec": {
   "name": "python3",
   "display_name": "Python 3.8.5 64-bit ('maestro')",
   "metadata": {
    "interpreter": {
     "hash": "967e0ad8f74b4223479a99dc6f7efc25e752c369d3f31683542303dbaeb6ed17"
    }
   }
  }
 },
 "nbformat": 4,
 "nbformat_minor": 2,
 "cells": [
  {
   "cell_type": "code",
   "execution_count": 1,
   "metadata": {},
   "outputs": [],
   "source": [
    "import dagster\n",
    "import sys\n",
    "import pandas as pd\n",
    "import pendulum\n",
    "sys.path.append(\"/home/lmoraes/maestro\")\n",
    "from pathlib import Path\n",
    "import tempfile"
   ]
  },
  {
   "cell_type": "code",
   "execution_count": 6,
   "metadata": {},
   "outputs": [],
   "source": [
    "import repositories.capturas.br_rj_riodejaneiro_onibus_rdo.registros as pipeline\n",
    "import repositories.capturas.solids as solids\n",
    "import repositories.capturas.resources as resources\n",
    "from repositories.helpers.helpers import read_config\n"
   ]
  },
  {
   "cell_type": "code",
   "execution_count": 92,
   "metadata": {},
   "outputs": [],
   "source": [
    "config = read_config(\"/home/lmoraes/maestro/repositories/capturas/br_rj_riodejaneiro_brt_rdo/registros.yaml\")\n",
    "config[\"resources\"][\"timezone_config\"][\"config\"][\"timezone\"] = \"America/Sao_Paulo\""
   ]
  },
  {
   "cell_type": "code",
   "execution_count": 121,
   "metadata": {},
   "outputs": [],
   "source": [
    "@dagster.composite_solid\n",
    "def set_header_jupyter(file_path, header):\n",
    "    file_path = pipeline.delete_xls_header(file_path)\n",
    "    file_path = pipeline.set_xls_header(file_path, header)\n",
    "    return file_path\n",
    "\n",
    "\n",
    "@dagster.solid(\n",
    "    required_resource_keys={\"basedosdados_config\", \"timezone_config\"},\n",
    ")\n",
    "def pre_treatment_br_rj_riodejaneiro_brt_rdo_jupyter(context, file_path):\n",
    "\n",
    "    timezone = context.resources.timezone_config[\"timezone\"]\n",
    "\n",
    "    # Rearrange columns\n",
    "    df = pd.read_csv(file_path, delimiter=\";\")\n",
    "    df.columns = pipeline.ORIGINAL_HEADER\n",
    "    df.rename(columns = pipeline.column_mapping, inplace = True)\n",
    "    df = df.reindex(columns = pipeline.ORDERED_HEADER)\n",
    "    timestamp_captura = pd.to_datetime(pendulum.now(timezone).isoformat())\n",
    "    df[\"timestamp_captura\"] = timestamp_captura\n",
    "    context.log.debug(\", \".join(list(df.columns)))\n",
    "\n",
    "    return df\n",
    "\n",
    "@dagster.pipeline(\n",
    "    mode_defs=[\n",
    "        dagster.ModeDefinition(\n",
    "            \"dev\", resource_defs={\"basedosdados_config\": resources.basedosdados_config, \n",
    "                                  \"timezone_config\": resources.timezone_config,\n",
    "                                  \"discord_webhook\": resources.discord_webhook}\n",
    "        ),\n",
    "    ],\n",
    ")\n",
    "def br_rj_riodejaneiro_brt_rdo_registros_jupyter():\n",
    "\n",
    "    filename, filetype, file_path, partitions = pipeline.parse_file_path_and_partitions()\n",
    "\n",
    "    raw_file_path = pipeline.get_file_from_storage(file_path=file_path, filename=filename, \n",
    "                                          partitions=partitions, filetype=filetype)\n",
    "\n",
    "    #header = pipeline.get_header()\n",
    "\n",
    "    #raw_header_file_path = set_header_jupyter(raw_file_path, header)\n",
    "\n",
    "    treated_data = pre_treatment_br_rj_riodejaneiro_brt_rdo_jupyter(raw_file_path)\n",
    "\n",
    "    treated_file_path = pipeline.save_treated_local(treated_data, file_path)\n",
    "\n",
    "    # # TODO: REFAZER A FUNÇÃO PARA SUBIR SÓ STAGING\n",
    "    # upload_to_bigquery(treated_file_path, raw_file_path, partitions)\n",
    "    #pipeline.create_table_bq(treated_file_path)"
   ]
  },
  {
   "cell_type": "code",
   "execution_count": 122,
   "metadata": {
    "tags": []
   },
   "outputs": [
    {
     "output_type": "stream",
     "name": "stderr",
     "text": [
      "2021-03-22 18:38:18 - dagster - DEBUG - br_rj_riodejaneiro_brt_rdo_registros_jupyter - a8ccbe55-b1d2-405b-a8ea-df8036fc8cec - 950 - ENGINE_EVENT - Starting initialization of resources [basedosdados_config, io_manager, timezone_config].\n",
      "2021-03-22 18:38:18 - dagster - DEBUG - br_rj_riodejaneiro_brt_rdo_registros_jupyter - a8ccbe55-b1d2-405b-a8ea-df8036fc8cec - 950 - ENGINE_EVENT - Finished initialization of resources [basedosdados_config, io_manager, timezone_config].\n",
      "2021-03-22 18:38:18 - dagster - DEBUG - br_rj_riodejaneiro_brt_rdo_registros_jupyter - a8ccbe55-b1d2-405b-a8ea-df8036fc8cec - 950 - PIPELINE_START - Started execution of pipeline \"br_rj_riodejaneiro_brt_rdo_registros_jupyter\".\n",
      "2021-03-22 18:38:18 - dagster - DEBUG - br_rj_riodejaneiro_brt_rdo_registros_jupyter - a8ccbe55-b1d2-405b-a8ea-df8036fc8cec - 950 - ENGINE_EVENT - Executing steps in process (pid: 950)\n",
      "2021-03-22 18:38:18 - dagster - DEBUG - br_rj_riodejaneiro_brt_rdo_registros_jupyter - a8ccbe55-b1d2-405b-a8ea-df8036fc8cec - 950 - parse_file_path_and_partitions - STEP_START - Started execution of step \"parse_file_path_and_partitions\".\n",
      "2021-03-22 18:38:18 - dagster - DEBUG - br_rj_riodejaneiro_brt_rdo_registros_jupyter - a8ccbe55-b1d2-405b-a8ea-df8036fc8cec - 950 - parse_file_path_and_partitions - STEP_INPUT - Got input \"bucket_path\" of type \"Any\". (Type check passed).\n",
      "2021-03-22 18:38:18 - dagster - INFO - system - a8ccbe55-b1d2-405b-a8ea-df8036fc8cec - parse_file_path_and_partitions - creating file path /home/lmoraes/maestro/notebooks/data/{mode}/br_rj_riodejaneiro_brt_rdo/registros/year=2021/month=03/RDO012021_v1.{filetype}\n",
      "2021-03-22 18:38:18 - dagster - DEBUG - br_rj_riodejaneiro_brt_rdo_registros_jupyter - a8ccbe55-b1d2-405b-a8ea-df8036fc8cec - 950 - parse_file_path_and_partitions - STEP_OUTPUT - Yielded output \"filename\" of type \"Any\". (Type check passed).\n",
      "2021-03-22 18:38:18 - dagster - DEBUG - br_rj_riodejaneiro_brt_rdo_registros_jupyter - a8ccbe55-b1d2-405b-a8ea-df8036fc8cec - 950 - parse_file_path_and_partitions - HANDLED_OUTPUT - Handled output \"filename\" using output manager \"io_manager\"\n",
      "2021-03-22 18:38:18 - dagster - DEBUG - br_rj_riodejaneiro_brt_rdo_registros_jupyter - a8ccbe55-b1d2-405b-a8ea-df8036fc8cec - 950 - parse_file_path_and_partitions - STEP_OUTPUT - Yielded output \"filetype\" of type \"Any\". (Type check passed).\n",
      "2021-03-22 18:38:18 - dagster - DEBUG - br_rj_riodejaneiro_brt_rdo_registros_jupyter - a8ccbe55-b1d2-405b-a8ea-df8036fc8cec - 950 - parse_file_path_and_partitions - HANDLED_OUTPUT - Handled output \"filetype\" using output manager \"io_manager\"\n",
      "2021-03-22 18:38:18 - dagster - DEBUG - br_rj_riodejaneiro_brt_rdo_registros_jupyter - a8ccbe55-b1d2-405b-a8ea-df8036fc8cec - 950 - parse_file_path_and_partitions - STEP_OUTPUT - Yielded output \"file_path\" of type \"Any\". (Type check passed).\n",
      "2021-03-22 18:38:18 - dagster - DEBUG - br_rj_riodejaneiro_brt_rdo_registros_jupyter - a8ccbe55-b1d2-405b-a8ea-df8036fc8cec - 950 - parse_file_path_and_partitions - HANDLED_OUTPUT - Handled output \"file_path\" using output manager \"io_manager\"\n",
      "2021-03-22 18:38:18 - dagster - DEBUG - br_rj_riodejaneiro_brt_rdo_registros_jupyter - a8ccbe55-b1d2-405b-a8ea-df8036fc8cec - 950 - parse_file_path_and_partitions - STEP_OUTPUT - Yielded output \"partitions\" of type \"Any\". (Type check passed).\n",
      "2021-03-22 18:38:18 - dagster - DEBUG - br_rj_riodejaneiro_brt_rdo_registros_jupyter - a8ccbe55-b1d2-405b-a8ea-df8036fc8cec - 950 - parse_file_path_and_partitions - HANDLED_OUTPUT - Handled output \"partitions\" using output manager \"io_manager\"\n",
      "2021-03-22 18:38:18 - dagster - DEBUG - br_rj_riodejaneiro_brt_rdo_registros_jupyter - a8ccbe55-b1d2-405b-a8ea-df8036fc8cec - 950 - parse_file_path_and_partitions - STEP_SUCCESS - Finished execution of step \"parse_file_path_and_partitions\" in 24ms.\n",
      "2021-03-22 18:38:18 - dagster - DEBUG - br_rj_riodejaneiro_brt_rdo_registros_jupyter - a8ccbe55-b1d2-405b-a8ea-df8036fc8cec - 950 - get_file_from_storage - STEP_START - Started execution of step \"get_file_from_storage\".\n",
      "2021-03-22 18:38:18 - dagster - DEBUG - br_rj_riodejaneiro_brt_rdo_registros_jupyter - a8ccbe55-b1d2-405b-a8ea-df8036fc8cec - 950 - get_file_from_storage - LOADED_INPUT - Loaded input \"file_path\" using input manager \"io_manager\", from output \"file_path\" of step \"parse_file_path_and_partitions\"\n",
      "2021-03-22 18:38:18 - dagster - DEBUG - br_rj_riodejaneiro_brt_rdo_registros_jupyter - a8ccbe55-b1d2-405b-a8ea-df8036fc8cec - 950 - get_file_from_storage - LOADED_INPUT - Loaded input \"filename\" using input manager \"io_manager\", from output \"filename\" of step \"parse_file_path_and_partitions\"\n",
      "2021-03-22 18:38:18 - dagster - DEBUG - br_rj_riodejaneiro_brt_rdo_registros_jupyter - a8ccbe55-b1d2-405b-a8ea-df8036fc8cec - 950 - get_file_from_storage - LOADED_INPUT - Loaded input \"partitions\" using input manager \"io_manager\", from output \"partitions\" of step \"parse_file_path_and_partitions\"\n",
      "2021-03-22 18:38:18 - dagster - DEBUG - br_rj_riodejaneiro_brt_rdo_registros_jupyter - a8ccbe55-b1d2-405b-a8ea-df8036fc8cec - 950 - get_file_from_storage - LOADED_INPUT - Loaded input \"filetype\" using input manager \"io_manager\", from output \"filetype\" of step \"parse_file_path_and_partitions\"\n",
      "2021-03-22 18:38:18 - dagster - DEBUG - br_rj_riodejaneiro_brt_rdo_registros_jupyter - a8ccbe55-b1d2-405b-a8ea-df8036fc8cec - 950 - get_file_from_storage - STEP_INPUT - Got input \"file_path\" of type \"Any\". (Type check passed).\n",
      "2021-03-22 18:38:18 - dagster - DEBUG - br_rj_riodejaneiro_brt_rdo_registros_jupyter - a8ccbe55-b1d2-405b-a8ea-df8036fc8cec - 950 - get_file_from_storage - STEP_INPUT - Got input \"filename\" of type \"Any\". (Type check passed).\n",
      "2021-03-22 18:38:18 - dagster - DEBUG - br_rj_riodejaneiro_brt_rdo_registros_jupyter - a8ccbe55-b1d2-405b-a8ea-df8036fc8cec - 950 - get_file_from_storage - STEP_INPUT - Got input \"partitions\" of type \"Any\". (Type check passed).\n",
      "2021-03-22 18:38:18 - dagster - DEBUG - br_rj_riodejaneiro_brt_rdo_registros_jupyter - a8ccbe55-b1d2-405b-a8ea-df8036fc8cec - 950 - get_file_from_storage - STEP_INPUT - Got input \"mode\" of type \"Any\". (Type check passed).\n",
      "2021-03-22 18:38:18 - dagster - DEBUG - br_rj_riodejaneiro_brt_rdo_registros_jupyter - a8ccbe55-b1d2-405b-a8ea-df8036fc8cec - 950 - get_file_from_storage - STEP_INPUT - Got input \"filetype\" of type \"Any\". (Type check passed).\n",
      "2021-03-22 18:38:18 - dagster - DEBUG - system - a8ccbe55-b1d2-405b-a8ea-df8036fc8cec - get_file_from_storage - File path: /home/lmoraes/maestro/notebooks/data/raw/br_rj_riodejaneiro_brt_rdo/registros/year=2021/month=03/RDO012021_v1.csv\n",
      "2021-03-22 18:38:18 - dagster - DEBUG - system - a8ccbe55-b1d2-405b-a8ea-df8036fc8cec - get_file_from_storage - filename: RDO012021_v1\n",
      "2021-03-22 18:38:18 - dagster - DEBUG - system - a8ccbe55-b1d2-405b-a8ea-df8036fc8cec - get_file_from_storage - partition: year=2021/month=03\n",
      "2021-03-22 18:38:18 - dagster - DEBUG - system - a8ccbe55-b1d2-405b-a8ea-df8036fc8cec - get_file_from_storage - mode: raw\n",
      "deleting file /home/lmoraes/maestro/notebooks/data/raw/br_rj_riodejaneiro_brt_rdo/registros/year=2021/month=03/RDO012021_v1.csv\n",
      "2021-03-22 18:38:19 - dagster - DEBUG - br_rj_riodejaneiro_brt_rdo_registros_jupyter - a8ccbe55-b1d2-405b-a8ea-df8036fc8cec - 950 - get_file_from_storage - STEP_OUTPUT - Yielded output \"result\" of type \"Any\". (Type check passed).\n",
      "2021-03-22 18:38:19 - dagster - DEBUG - br_rj_riodejaneiro_brt_rdo_registros_jupyter - a8ccbe55-b1d2-405b-a8ea-df8036fc8cec - 950 - get_file_from_storage - HANDLED_OUTPUT - Handled output \"result\" using output manager \"io_manager\"\n",
      "2021-03-22 18:38:19 - dagster - DEBUG - br_rj_riodejaneiro_brt_rdo_registros_jupyter - a8ccbe55-b1d2-405b-a8ea-df8036fc8cec - 950 - get_file_from_storage - STEP_SUCCESS - Finished execution of step \"get_file_from_storage\" in 744ms.\n",
      "2021-03-22 18:38:19 - dagster - DEBUG - br_rj_riodejaneiro_brt_rdo_registros_jupyter - a8ccbe55-b1d2-405b-a8ea-df8036fc8cec - 950 - pre_treatment_br_rj_riodejaneiro_brt_rdo_jupyter - STEP_START - Started execution of step \"pre_treatment_br_rj_riodejaneiro_brt_rdo_jupyter\".\n",
      "2021-03-22 18:38:19 - dagster - DEBUG - br_rj_riodejaneiro_brt_rdo_registros_jupyter - a8ccbe55-b1d2-405b-a8ea-df8036fc8cec - 950 - pre_treatment_br_rj_riodejaneiro_brt_rdo_jupyter - LOADED_INPUT - Loaded input \"file_path\" using input manager \"io_manager\", from output \"result\" of step \"get_file_from_storage\"\n",
      "2021-03-22 18:38:19 - dagster - DEBUG - br_rj_riodejaneiro_brt_rdo_registros_jupyter - a8ccbe55-b1d2-405b-a8ea-df8036fc8cec - 950 - pre_treatment_br_rj_riodejaneiro_brt_rdo_jupyter - STEP_INPUT - Got input \"file_path\" of type \"Any\". (Type check passed).\n",
      "2021-03-22 18:38:19 - dagster - DEBUG - system - a8ccbe55-b1d2-405b-a8ea-df8036fc8cec - pre_treatment_br_rj_riodejaneiro_brt_rdo_jupyter - operadora, linha, servico_tipo, servico_termo, tipo_veiculo, data_ano, data_mes, data_dia, tarifa_codigo, tarifa_valor, frota_determinada, frota_licenciada, frota_operante, viagem_realizada, km, gratuidade_idoso, gratuidade_especial, gratuidade_estudande_federal, gratuidade_estudande_estadual, gratuidade_estudante_municipal, gratuidade_rodoviario, universitario, gratuidade_total, buc_1a_perna, buc_2a_perna, buc_receita, buc_supervia_1a_perna, buc_supervia_2a_perna, buc_supervia_receita, perna_unica_e_outros_transportado, perna_unica_e_outros_receita, especie_passageiro_transportado, especie_receita, total_passageiro_transportado, total_receita, tipo_informacao, timestamp_captura\n",
      "2021-03-22 18:38:19 - dagster - DEBUG - br_rj_riodejaneiro_brt_rdo_registros_jupyter - a8ccbe55-b1d2-405b-a8ea-df8036fc8cec - 950 - pre_treatment_br_rj_riodejaneiro_brt_rdo_jupyter - STEP_OUTPUT - Yielded output \"result\" of type \"Any\". (Type check passed).\n",
      "2021-03-22 18:38:19 - dagster - DEBUG - br_rj_riodejaneiro_brt_rdo_registros_jupyter - a8ccbe55-b1d2-405b-a8ea-df8036fc8cec - 950 - pre_treatment_br_rj_riodejaneiro_brt_rdo_jupyter - HANDLED_OUTPUT - Handled output \"result\" using output manager \"io_manager\"\n",
      "2021-03-22 18:38:19 - dagster - DEBUG - br_rj_riodejaneiro_brt_rdo_registros_jupyter - a8ccbe55-b1d2-405b-a8ea-df8036fc8cec - 950 - pre_treatment_br_rj_riodejaneiro_brt_rdo_jupyter - STEP_SUCCESS - Finished execution of step \"pre_treatment_br_rj_riodejaneiro_brt_rdo_jupyter\" in 80ms.\n",
      "2021-03-22 18:38:19 - dagster - DEBUG - br_rj_riodejaneiro_brt_rdo_registros_jupyter - a8ccbe55-b1d2-405b-a8ea-df8036fc8cec - 950 - save_treated_local - STEP_START - Started execution of step \"save_treated_local\".\n",
      "2021-03-22 18:38:19 - dagster - DEBUG - br_rj_riodejaneiro_brt_rdo_registros_jupyter - a8ccbe55-b1d2-405b-a8ea-df8036fc8cec - 950 - save_treated_local - LOADED_INPUT - Loaded input \"df\" using input manager \"io_manager\", from output \"result\" of step \"pre_treatment_br_rj_riodejaneiro_brt_rdo_jupyter\"\n",
      "2021-03-22 18:38:19 - dagster - DEBUG - br_rj_riodejaneiro_brt_rdo_registros_jupyter - a8ccbe55-b1d2-405b-a8ea-df8036fc8cec - 950 - save_treated_local - LOADED_INPUT - Loaded input \"file_path\" using input manager \"io_manager\", from output \"file_path\" of step \"parse_file_path_and_partitions\"\n",
      "2021-03-22 18:38:19 - dagster - DEBUG - br_rj_riodejaneiro_brt_rdo_registros_jupyter - a8ccbe55-b1d2-405b-a8ea-df8036fc8cec - 950 - save_treated_local - STEP_INPUT - Got input \"df\" of type \"Any\". (Type check passed).\n",
      "2021-03-22 18:38:19 - dagster - DEBUG - br_rj_riodejaneiro_brt_rdo_registros_jupyter - a8ccbe55-b1d2-405b-a8ea-df8036fc8cec - 950 - save_treated_local - STEP_INPUT - Got input \"file_path\" of type \"Any\". (Type check passed).\n",
      "2021-03-22 18:38:19 - dagster - DEBUG - br_rj_riodejaneiro_brt_rdo_registros_jupyter - a8ccbe55-b1d2-405b-a8ea-df8036fc8cec - 950 - save_treated_local - STEP_INPUT - Got input \"mode\" of type \"Any\". (Type check passed).\n",
      "2021-03-22 18:38:19 - dagster - DEBUG - br_rj_riodejaneiro_brt_rdo_registros_jupyter - a8ccbe55-b1d2-405b-a8ea-df8036fc8cec - 950 - save_treated_local - STEP_OUTPUT - Yielded output \"result\" of type \"Any\". (Type check passed).\n",
      "2021-03-22 18:38:19 - dagster - DEBUG - br_rj_riodejaneiro_brt_rdo_registros_jupyter - a8ccbe55-b1d2-405b-a8ea-df8036fc8cec - 950 - save_treated_local - HANDLED_OUTPUT - Handled output \"result\" using output manager \"io_manager\"\n",
      "2021-03-22 18:38:19 - dagster - DEBUG - br_rj_riodejaneiro_brt_rdo_registros_jupyter - a8ccbe55-b1d2-405b-a8ea-df8036fc8cec - 950 - save_treated_local - STEP_SUCCESS - Finished execution of step \"save_treated_local\" in 95ms.\n",
      "2021-03-22 18:38:19 - dagster - DEBUG - br_rj_riodejaneiro_brt_rdo_registros_jupyter - a8ccbe55-b1d2-405b-a8ea-df8036fc8cec - 950 - ENGINE_EVENT - Finished steps in process (pid: 950) in 1.01s\n",
      "2021-03-22 18:38:19 - dagster - DEBUG - br_rj_riodejaneiro_brt_rdo_registros_jupyter - a8ccbe55-b1d2-405b-a8ea-df8036fc8cec - 950 - PIPELINE_SUCCESS - Finished execution of pipeline \"br_rj_riodejaneiro_brt_rdo_registros_jupyter\".\n"
     ]
    }
   ],
   "source": [
    "result = dagster.execute_pipeline(br_rj_riodejaneiro_brt_rdo_registros_jupyter, \n",
    "                                run_config = config)"
   ]
  },
  {
   "cell_type": "code",
   "execution_count": 108,
   "metadata": {},
   "outputs": [
    {
     "output_type": "stream",
     "name": "stderr",
     "text": [
      "2021-03-22 18:34:28 - dagster - DEBUG - br_rj_riodejaneiro_brt_rdo_registros_jupyter - 2b6f7383-170c-496f-ba4f-730a64709ec5 - 950 - ENGINE_EVENT - Starting initialization of resources [basedosdados_config, io_manager, timezone_config].\n",
      "2021-03-22 18:34:28 - dagster - DEBUG - br_rj_riodejaneiro_brt_rdo_registros_jupyter - 2b6f7383-170c-496f-ba4f-730a64709ec5 - 950 - ENGINE_EVENT - Finished initialization of resources [basedosdados_config, io_manager, timezone_config].\n"
     ]
    }
   ],
   "source": [
    "df = result.output_for_solid('pre_treatment_br_rj_riodejaneiro_brt_rdo_jupyter')"
   ]
  },
  {
   "cell_type": "code",
   "execution_count": 123,
   "metadata": {},
   "outputs": [
    {
     "output_type": "stream",
     "name": "stderr",
     "text": [
      "2021-03-22 21:03:51 - dagster - DEBUG - br_rj_riodejaneiro_brt_rdo_registros_jupyter - a8ccbe55-b1d2-405b-a8ea-df8036fc8cec - 950 - ENGINE_EVENT - Starting initialization of resources [basedosdados_config, io_manager, timezone_config].\n",
      "2021-03-22 21:03:51 - dagster - DEBUG - br_rj_riodejaneiro_brt_rdo_registros_jupyter - a8ccbe55-b1d2-405b-a8ea-df8036fc8cec - 950 - ENGINE_EVENT - Finished initialization of resources [basedosdados_config, io_manager, timezone_config].\n"
     ]
    }
   ],
   "source": [
    "file_path = result.output_for_solid('get_file_from_storage')"
   ]
  },
  {
   "cell_type": "code",
   "execution_count": 124,
   "metadata": {},
   "outputs": [
    {
     "output_type": "execute_result",
     "data": {
      "text/plain": [
       "'/home/lmoraes/maestro/notebooks/data/raw/br_rj_riodejaneiro_brt_rdo/registros/year=2021/month=03/RDO012021_v1.csv'"
      ]
     },
     "metadata": {},
     "execution_count": 124
    }
   ],
   "source": [
    "file_path"
   ]
  },
  {
   "cell_type": "code",
   "execution_count": 112,
   "metadata": {},
   "outputs": [
    {
     "output_type": "execute_result",
     "data": {
      "text/plain": [
       "0         4\n",
       "1        21\n",
       "2        20\n",
       "3        52\n",
       "4        45\n",
       "       ... \n",
       "3911    596\n",
       "3912    644\n",
       "3913    689\n",
       "3914    424\n",
       "3915    322\n",
       "Name: GRATUIDADE TOTAL, Length: 3916, dtype: int64"
      ]
     },
     "metadata": {},
     "execution_count": 112
    }
   ],
   "source": [
    "df['GRATUIDADE TOTAL']"
   ]
  },
  {
   "cell_type": "code",
   "execution_count": 125,
   "metadata": {},
   "outputs": [],
   "source": [
    "from openpyxl import load_workbook"
   ]
  },
  {
   "cell_type": "code",
   "execution_count": 61,
   "metadata": {},
   "outputs": [],
   "source": [
    "ws.cell(2,22).value"
   ]
  },
  {
   "cell_type": "code",
   "execution_count": 127,
   "metadata": {},
   "outputs": [
    {
     "output_type": "execute_result",
     "data": {
      "text/plain": [
       "operadora                                                   221000050\n",
       "linha                                                           TCLJO\n",
       "servico_tipo                                                        A\n",
       "servico_termo                                                       1\n",
       "tipo_veiculo                                                        1\n",
       "data_ano                                                         2021\n",
       "data_mes                                                            1\n",
       "data_dia                                                            1\n",
       "tarifa_codigo                                                       A\n",
       "tarifa_valor                                                     4,05\n",
       "frota_determinada                                                   0\n",
       "frota_licenciada                                                    0\n",
       "frota_operante                                                      0\n",
       "viagem_realizada                                                    0\n",
       "km                                                                  0\n",
       "gratuidade_idoso                                                    2\n",
       "gratuidade_especial                                                 2\n",
       "gratuidade_estudande_federal                                        0\n",
       "gratuidade_estudande_estadual                                       0\n",
       "gratuidade_estudante_municipal                                      0\n",
       "gratuidade_rodoviario                                               0\n",
       "universitario                                                       0\n",
       "gratuidade_total                                                    4\n",
       "buc_1a_perna                                                      144\n",
       "buc_2a_perna                                                       10\n",
       "buc_receita                                                    338,58\n",
       "buc_supervia_1a_perna                                               1\n",
       "buc_supervia_2a_perna                                               0\n",
       "buc_supervia_receita                                              3,6\n",
       "perna_unica_e_outros_transportado                                 151\n",
       "perna_unica_e_outros_receita                                   611,55\n",
       "especie_passageiro_transportado                                     0\n",
       "especie_receita                                                     0\n",
       "total_passageiro_transportado                                   310.0\n",
       "total_receita                                                  953,73\n",
       "tipo_informacao                                                     1\n",
       "timestamp_captura                    2021-03-22 18:38:19.292026-03:00\n",
       "Name: 0, dtype: object"
      ]
     },
     "metadata": {},
     "execution_count": 127
    }
   ],
   "source": [
    "file_path = \"/home/lmoraes/maestro/notebooks/data/staging/br_rj_riodejaneiro_brt_rdo/registros/year=2021/month=03/RDO012021_v1.csv\"\n",
    "df = pd.read_csv(file_path, dtype=str)\n",
    "df.iloc[0]"
   ]
  }
 ]
}