{
 "metadata": {
  "language_info": {
   "codemirror_mode": {
    "name": "ipython",
    "version": 3
   },
   "file_extension": ".py",
   "mimetype": "text/x-python",
   "name": "python",
   "nbconvert_exporter": "python",
   "pygments_lexer": "ipython3",
   "version": "3.8.5-final"
  },
  "orig_nbformat": 2,
  "kernelspec": {
   "name": "python3",
   "display_name": "Python 3.8.5 64-bit ('maestro')",
   "metadata": {
    "interpreter": {
     "hash": "967e0ad8f74b4223479a99dc6f7efc25e752c369d3f31683542303dbaeb6ed17"
    }
   }
  }
 },
 "nbformat": 4,
 "nbformat_minor": 2,
 "cells": [
  {
   "cell_type": "code",
   "execution_count": 1,
   "metadata": {},
   "outputs": [],
   "source": [
    "import dagster\n",
    "import sys\n",
    "import pandas as pd\n",
    "import pendulum\n",
    "sys.path.append(\"/home/lmoraes/maestro\")"
   ]
  },
  {
   "cell_type": "code",
   "execution_count": 2,
   "metadata": {},
   "outputs": [],
   "source": [
    "import repositories.capturas.br_rj_riodejaneiro_onibus_gps.registros as registros\n",
    "import repositories.capturas.solids as solids\n",
    "import repositories.capturas.resources as resources\n",
    "from repositories.helpers.helpers import read_config\n"
   ]
  },
  {
   "cell_type": "code",
   "execution_count": 3,
   "metadata": {},
   "outputs": [],
   "source": [
    "config = read_config(\"/home/lmoraes/maestro/repositories/capturas/br_rj_riodejaneiro_onibus_gps/registros.yaml\")\n",
    "config[\"resources\"][\"timezone_config\"][\"config\"][\"timezone\"] = \"America/Sao_Paulo\""
   ]
  },
  {
   "cell_type": "code",
   "execution_count": 4,
   "metadata": {},
   "outputs": [],
   "source": [
    "@dagster.solid(\n",
    "    required_resource_keys={\"basedosdados_config\", \"timezone_config\"},\n",
    ")\n",
    "def pre_treatment(context, data):\n",
    "\n",
    "    timezone = context.resources.timezone_config[\"timezone\"]\n",
    "\n",
    "    data = data.json()\n",
    "    df = pd.DataFrame(data)\n",
    "    timestamp_captura = pd.to_datetime(pendulum.now(timezone).isoformat())\n",
    "    df[\"timestamp_captura\"] = timestamp_captura\n",
    "    # Remove timezone and force it to be config timezone\n",
    "    df[\"datahora\"] = df[\"datahora\"].astype(float).apply(\n",
    "        lambda ms: pd.to_datetime(pendulum.from_timestamp(ms / 1000.0).replace(tzinfo=None\n",
    "        ).set(tz=timezone).isoformat())\n",
    "    )\n",
    "\n",
    "    return df\n",
    "\n",
    "@dagster.pipeline(\n",
    "    mode_defs=[\n",
    "        dagster.ModeDefinition(\n",
    "            \"dev\", resource_defs={\"basedosdados_config\": resources.basedosdados_config, \n",
    "                                  \"timezone_config\": resources.timezone_config,\n",
    "                                  \"discord_webhook\": resources.discord_webhook}\n",
    "        ),\n",
    "    ]\n",
    ")\n",
    "def br_rj_riodejaneiro_onibus_gps_jupyter():\n",
    "\n",
    "    file_path, partitions = solids.get_file_path_and_partitions()\n",
    "\n",
    "    data = solids.get_raw()\n",
    "\n",
    "    raw_file_path = solids.save_raw_local(data, file_path)\n",
    "\n",
    "    treated_data = registros.pre_treatment(data)\n",
    "\n",
    "    treated_file_path = solids.save_treated_local(treated_data, file_path)"
   ]
  },
  {
   "cell_type": "code",
   "execution_count": 5,
   "metadata": {},
   "outputs": [
    {
     "output_type": "stream",
     "name": "stderr",
     "text": [
      "2021-03-05 16:53:36 - dagster - DEBUG - br_rj_riodejaneiro_onibus_gps_jupyter - 30ea779c-25bf-48ff-90c5-ad2289a9a02f - 16688 - ENGINE_EVENT - Starting initialization of resources [basedosdados_config, io_manager, timezone_config].\n",
      "2021-03-05 16:53:36 - dagster - DEBUG - br_rj_riodejaneiro_onibus_gps_jupyter - 30ea779c-25bf-48ff-90c5-ad2289a9a02f - 16688 - ENGINE_EVENT - Finished initialization of resources [basedosdados_config, io_manager, timezone_config].\n",
      "2021-03-05 16:53:36 - dagster - DEBUG - br_rj_riodejaneiro_onibus_gps_jupyter - 30ea779c-25bf-48ff-90c5-ad2289a9a02f - 16688 - PIPELINE_START - Started execution of pipeline \"br_rj_riodejaneiro_onibus_gps_jupyter\".\n",
      "2021-03-05 16:53:36 - dagster - DEBUG - br_rj_riodejaneiro_onibus_gps_jupyter - 30ea779c-25bf-48ff-90c5-ad2289a9a02f - 16688 - ENGINE_EVENT - Executing steps in process (pid: 16688)\n",
      "2021-03-05 16:53:36 - dagster - DEBUG - br_rj_riodejaneiro_onibus_gps_jupyter - 30ea779c-25bf-48ff-90c5-ad2289a9a02f - 16688 - get_file_path_and_partitions - STEP_START - Started execution of step \"get_file_path_and_partitions\".\n",
      "2021-03-05 16:53:36 - dagster - INFO - system - 30ea779c-25bf-48ff-90c5-ad2289a9a02f - get_file_path_and_partitions - creating file path /home/lmoraes/maestro/notebooks/data/{mode}/br_rj_riodejaneiro_onibus_gps/registros/data=2021-03-05/hora=16/2021-03-05-16-53-36.{filetype}\n",
      "2021-03-05 16:53:36 - dagster - DEBUG - br_rj_riodejaneiro_onibus_gps_jupyter - 30ea779c-25bf-48ff-90c5-ad2289a9a02f - 16688 - get_file_path_and_partitions - STEP_OUTPUT - Yielded output \"file_path\" of type \"Any\". (Type check passed).\n",
      "2021-03-05 16:53:36 - dagster - DEBUG - br_rj_riodejaneiro_onibus_gps_jupyter - 30ea779c-25bf-48ff-90c5-ad2289a9a02f - 16688 - get_file_path_and_partitions - HANDLED_OUTPUT - Handled output \"file_path\" using output manager \"io_manager\"\n",
      "2021-03-05 16:53:36 - dagster - DEBUG - br_rj_riodejaneiro_onibus_gps_jupyter - 30ea779c-25bf-48ff-90c5-ad2289a9a02f - 16688 - get_file_path_and_partitions - STEP_OUTPUT - Yielded output \"partitions\" of type \"Any\". (Type check passed).\n",
      "2021-03-05 16:53:36 - dagster - DEBUG - br_rj_riodejaneiro_onibus_gps_jupyter - 30ea779c-25bf-48ff-90c5-ad2289a9a02f - 16688 - get_file_path_and_partitions - HANDLED_OUTPUT - Handled output \"partitions\" using output manager \"io_manager\"\n",
      "2021-03-05 16:53:36 - dagster - DEBUG - br_rj_riodejaneiro_onibus_gps_jupyter - 30ea779c-25bf-48ff-90c5-ad2289a9a02f - 16688 - get_file_path_and_partitions - STEP_SUCCESS - Finished execution of step \"get_file_path_and_partitions\" in 15ms.\n",
      "2021-03-05 16:53:36 - dagster - DEBUG - br_rj_riodejaneiro_onibus_gps_jupyter - 30ea779c-25bf-48ff-90c5-ad2289a9a02f - 16688 - get_raw - STEP_START - Started execution of step \"get_raw\".\n",
      "2021-03-05 16:53:36 - dagster - DEBUG - br_rj_riodejaneiro_onibus_gps_jupyter - 30ea779c-25bf-48ff-90c5-ad2289a9a02f - 16688 - get_raw - STEP_INPUT - Got input \"url\" of type \"Any\". (Type check passed).\n",
      "2021-03-05 16:53:46 - dagster - DEBUG - br_rj_riodejaneiro_onibus_gps_jupyter - 30ea779c-25bf-48ff-90c5-ad2289a9a02f - 16688 - get_raw - STEP_OUTPUT - Yielded output \"result\" of type \"Any\". (Type check passed).\n",
      "2021-03-05 16:53:46 - dagster - DEBUG - br_rj_riodejaneiro_onibus_gps_jupyter - 30ea779c-25bf-48ff-90c5-ad2289a9a02f - 16688 - get_raw - HANDLED_OUTPUT - Handled output \"result\" using output manager \"io_manager\"\n",
      "2021-03-05 16:53:46 - dagster - DEBUG - br_rj_riodejaneiro_onibus_gps_jupyter - 30ea779c-25bf-48ff-90c5-ad2289a9a02f - 16688 - get_raw - STEP_SUCCESS - Finished execution of step \"get_raw\" in 9.6s.\n",
      "2021-03-05 16:53:46 - dagster - DEBUG - br_rj_riodejaneiro_onibus_gps_jupyter - 30ea779c-25bf-48ff-90c5-ad2289a9a02f - 16688 - pre_treatment - STEP_START - Started execution of step \"pre_treatment\".\n",
      "2021-03-05 16:53:46 - dagster - DEBUG - br_rj_riodejaneiro_onibus_gps_jupyter - 30ea779c-25bf-48ff-90c5-ad2289a9a02f - 16688 - pre_treatment - LOADED_INPUT - Loaded input \"data\" using input manager \"io_manager\", from output \"result\" of step \"get_raw\"\n",
      "2021-03-05 16:53:46 - dagster - DEBUG - br_rj_riodejaneiro_onibus_gps_jupyter - 30ea779c-25bf-48ff-90c5-ad2289a9a02f - 16688 - pre_treatment - STEP_INPUT - Got input \"data\" of type \"Any\". (Type check passed).\n",
      "2021-03-05 16:53:46 - dagster - DEBUG - br_rj_riodejaneiro_onibus_gps_jupyter - 30ea779c-25bf-48ff-90c5-ad2289a9a02f - 16688 - pre_treatment - STEP_OUTPUT - Yielded output \"result\" of type \"Any\". (Type check passed).\n",
      "2021-03-05 16:53:46 - dagster - DEBUG - br_rj_riodejaneiro_onibus_gps_jupyter - 30ea779c-25bf-48ff-90c5-ad2289a9a02f - 16688 - pre_treatment - HANDLED_OUTPUT - Handled output \"result\" using output manager \"io_manager\"\n",
      "2021-03-05 16:53:46 - dagster - DEBUG - br_rj_riodejaneiro_onibus_gps_jupyter - 30ea779c-25bf-48ff-90c5-ad2289a9a02f - 16688 - pre_treatment - STEP_SUCCESS - Finished execution of step \"pre_treatment\" in 617ms.\n",
      "2021-03-05 16:53:46 - dagster - DEBUG - br_rj_riodejaneiro_onibus_gps_jupyter - 30ea779c-25bf-48ff-90c5-ad2289a9a02f - 16688 - save_raw_local - STEP_START - Started execution of step \"save_raw_local\".\n",
      "2021-03-05 16:53:46 - dagster - DEBUG - br_rj_riodejaneiro_onibus_gps_jupyter - 30ea779c-25bf-48ff-90c5-ad2289a9a02f - 16688 - save_raw_local - LOADED_INPUT - Loaded input \"data\" using input manager \"io_manager\", from output \"result\" of step \"get_raw\"\n",
      "2021-03-05 16:53:46 - dagster - DEBUG - br_rj_riodejaneiro_onibus_gps_jupyter - 30ea779c-25bf-48ff-90c5-ad2289a9a02f - 16688 - save_raw_local - LOADED_INPUT - Loaded input \"file_path\" using input manager \"io_manager\", from output \"file_path\" of step \"get_file_path_and_partitions\"\n",
      "2021-03-05 16:53:46 - dagster - DEBUG - br_rj_riodejaneiro_onibus_gps_jupyter - 30ea779c-25bf-48ff-90c5-ad2289a9a02f - 16688 - save_raw_local - STEP_INPUT - Got input \"data\" of type \"Any\". (Type check passed).\n",
      "2021-03-05 16:53:46 - dagster - DEBUG - br_rj_riodejaneiro_onibus_gps_jupyter - 30ea779c-25bf-48ff-90c5-ad2289a9a02f - 16688 - save_raw_local - STEP_INPUT - Got input \"file_path\" of type \"Any\". (Type check passed).\n",
      "2021-03-05 16:53:46 - dagster - DEBUG - br_rj_riodejaneiro_onibus_gps_jupyter - 30ea779c-25bf-48ff-90c5-ad2289a9a02f - 16688 - save_raw_local - STEP_INPUT - Got input \"mode\" of type \"Any\". (Type check passed).\n",
      "2021-03-05 16:53:46 - dagster - DEBUG - br_rj_riodejaneiro_onibus_gps_jupyter - 30ea779c-25bf-48ff-90c5-ad2289a9a02f - 16688 - save_raw_local - STEP_OUTPUT - Yielded output \"result\" of type \"Any\". (Type check passed).\n",
      "2021-03-05 16:53:46 - dagster - DEBUG - br_rj_riodejaneiro_onibus_gps_jupyter - 30ea779c-25bf-48ff-90c5-ad2289a9a02f - 16688 - save_raw_local - HANDLED_OUTPUT - Handled output \"result\" using output manager \"io_manager\"\n",
      "2021-03-05 16:53:46 - dagster - DEBUG - br_rj_riodejaneiro_onibus_gps_jupyter - 30ea779c-25bf-48ff-90c5-ad2289a9a02f - 16688 - save_raw_local - STEP_SUCCESS - Finished execution of step \"save_raw_local\" in 76ms.\n",
      "2021-03-05 16:53:46 - dagster - DEBUG - br_rj_riodejaneiro_onibus_gps_jupyter - 30ea779c-25bf-48ff-90c5-ad2289a9a02f - 16688 - save_treated_local - STEP_START - Started execution of step \"save_treated_local\".\n",
      "2021-03-05 16:53:46 - dagster - DEBUG - br_rj_riodejaneiro_onibus_gps_jupyter - 30ea779c-25bf-48ff-90c5-ad2289a9a02f - 16688 - save_treated_local - LOADED_INPUT - Loaded input \"df\" using input manager \"io_manager\", from output \"result\" of step \"pre_treatment\"\n",
      "2021-03-05 16:53:46 - dagster - DEBUG - br_rj_riodejaneiro_onibus_gps_jupyter - 30ea779c-25bf-48ff-90c5-ad2289a9a02f - 16688 - save_treated_local - LOADED_INPUT - Loaded input \"file_path\" using input manager \"io_manager\", from output \"file_path\" of step \"get_file_path_and_partitions\"\n",
      "2021-03-05 16:53:46 - dagster - DEBUG - br_rj_riodejaneiro_onibus_gps_jupyter - 30ea779c-25bf-48ff-90c5-ad2289a9a02f - 16688 - save_treated_local - STEP_INPUT - Got input \"df\" of type \"Any\". (Type check passed).\n",
      "2021-03-05 16:53:46 - dagster - DEBUG - br_rj_riodejaneiro_onibus_gps_jupyter - 30ea779c-25bf-48ff-90c5-ad2289a9a02f - 16688 - save_treated_local - STEP_INPUT - Got input \"file_path\" of type \"Any\". (Type check passed).\n",
      "2021-03-05 16:53:46 - dagster - DEBUG - br_rj_riodejaneiro_onibus_gps_jupyter - 30ea779c-25bf-48ff-90c5-ad2289a9a02f - 16688 - save_treated_local - STEP_INPUT - Got input \"mode\" of type \"Any\". (Type check passed).\n",
      "2021-03-05 16:53:47 - dagster - DEBUG - br_rj_riodejaneiro_onibus_gps_jupyter - 30ea779c-25bf-48ff-90c5-ad2289a9a02f - 16688 - save_treated_local - STEP_OUTPUT - Yielded output \"result\" of type \"Any\". (Type check passed).\n",
      "2021-03-05 16:53:47 - dagster - DEBUG - br_rj_riodejaneiro_onibus_gps_jupyter - 30ea779c-25bf-48ff-90c5-ad2289a9a02f - 16688 - save_treated_local - HANDLED_OUTPUT - Handled output \"result\" using output manager \"io_manager\"\n",
      "2021-03-05 16:53:47 - dagster - DEBUG - br_rj_riodejaneiro_onibus_gps_jupyter - 30ea779c-25bf-48ff-90c5-ad2289a9a02f - 16688 - save_treated_local - STEP_SUCCESS - Finished execution of step \"save_treated_local\" in 129ms.\n",
      "2021-03-05 16:53:47 - dagster - DEBUG - br_rj_riodejaneiro_onibus_gps_jupyter - 30ea779c-25bf-48ff-90c5-ad2289a9a02f - 16688 - ENGINE_EVENT - Finished steps in process (pid: 16688) in 10.49s\n",
      "2021-03-05 16:53:47 - dagster - DEBUG - br_rj_riodejaneiro_onibus_gps_jupyter - 30ea779c-25bf-48ff-90c5-ad2289a9a02f - 16688 - PIPELINE_SUCCESS - Finished execution of pipeline \"br_rj_riodejaneiro_onibus_gps_jupyter\".\n"
     ]
    }
   ],
   "source": [
    "result = dagster.execute_pipeline(br_rj_riodejaneiro_onibus_gps_jupyter, \n",
    "                                run_config = config)"
   ]
  },
  {
   "cell_type": "code",
   "execution_count": 6,
   "metadata": {},
   "outputs": [
    {
     "output_type": "stream",
     "name": "stderr",
     "text": [
      "2021-03-05 16:53:47 - dagster - DEBUG - br_rj_riodejaneiro_onibus_gps_jupyter - 30ea779c-25bf-48ff-90c5-ad2289a9a02f - 16688 - ENGINE_EVENT - Starting initialization of resources [basedosdados_config, io_manager, timezone_config].\n",
      "2021-03-05 16:53:47 - dagster - DEBUG - br_rj_riodejaneiro_onibus_gps_jupyter - 30ea779c-25bf-48ff-90c5-ad2289a9a02f - 16688 - ENGINE_EVENT - Finished initialization of resources [basedosdados_config, io_manager, timezone_config].\n"
     ]
    },
    {
     "output_type": "execute_result",
     "data": {
      "text/plain": [
       "<Response [200]>"
      ]
     },
     "metadata": {},
     "execution_count": 6
    }
   ],
   "source": [
    "data = result.output_for_solid('get_raw')\n",
    "data"
   ]
  },
  {
   "cell_type": "code",
   "execution_count": 7,
   "metadata": {},
   "outputs": [
    {
     "output_type": "stream",
     "name": "stderr",
     "text": [
      "2021-03-05 16:53:47 - dagster - DEBUG - br_rj_riodejaneiro_onibus_gps_jupyter - 30ea779c-25bf-48ff-90c5-ad2289a9a02f - 16688 - ENGINE_EVENT - Starting initialization of resources [basedosdados_config, io_manager, timezone_config].\n",
      "2021-03-05 16:53:47 - dagster - DEBUG - br_rj_riodejaneiro_onibus_gps_jupyter - 30ea779c-25bf-48ff-90c5-ad2289a9a02f - 16688 - ENGINE_EVENT - Finished initialization of resources [basedosdados_config, io_manager, timezone_config].\n"
     ]
    },
    {
     "output_type": "execute_result",
     "data": {
      "text/plain": [
       "'/home/lmoraes/maestro/notebooks/data/raw/br_rj_riodejaneiro_onibus_gps/registros/data=2021-03-05/hora=16/2021-03-05-16-53-36.json'"
      ]
     },
     "metadata": {},
     "execution_count": 7
    }
   ],
   "source": [
    "result.output_for_solid('save_raw_local')"
   ]
  },
  {
   "cell_type": "code",
   "execution_count": 8,
   "metadata": {},
   "outputs": [
    {
     "output_type": "stream",
     "name": "stderr",
     "text": [
      "2021-03-05 16:53:47 - dagster - DEBUG - br_rj_riodejaneiro_onibus_gps_jupyter - 30ea779c-25bf-48ff-90c5-ad2289a9a02f - 16688 - ENGINE_EVENT - Starting initialization of resources [basedosdados_config, io_manager, timezone_config].\n",
      "2021-03-05 16:53:47 - dagster - DEBUG - br_rj_riodejaneiro_onibus_gps_jupyter - 30ea779c-25bf-48ff-90c5-ad2289a9a02f - 16688 - ENGINE_EVENT - Finished initialization of resources [basedosdados_config, io_manager, timezone_config].\n"
     ]
    },
    {
     "output_type": "execute_result",
     "data": {
      "text/plain": [
       "       ordem   latitude  longitude                   datahora velocidade  \\\n",
       "0     B10002  -22,81085  -43,19459  2021-03-05 16:50:52-03:00         41   \n",
       "1     B10004  -22,84231   -43,2364  2021-03-05 16:51:39-03:00         22   \n",
       "2     B10006  -22,80553  -43,20086  2021-03-05 16:53:08-03:00          9   \n",
       "3     B10008  -22,78897  -43,16213  2021-03-05 16:53:08-03:00          0   \n",
       "4     B10011   -22,8141  -43,22097  2021-03-05 16:53:28-03:00         59   \n",
       "...      ...        ...        ...                        ...        ...   \n",
       "4881  B71146  -22,89952  -43,28073  2021-03-05 16:53:11-03:00          0   \n",
       "4882  B71148  -22,90461  -43,27509  2021-03-05 16:53:02-03:00         11   \n",
       "4883  B71155  -22,90401  -43,27171  2021-03-05 16:53:18-03:00         36   \n",
       "4884  B71156  -22,91356   -43,1786  2021-03-05 16:53:15-03:00          0   \n",
       "4885  B71158  -22,88906  -43,29332  2021-03-05 16:47:48-03:00          0   \n",
       "\n",
       "     linha                timestamp_captura  \n",
       "0      323 2021-03-05 16:53:46.221625-03:00  \n",
       "1      327 2021-03-05 16:53:46.221625-03:00  \n",
       "2      328 2021-03-05 16:53:46.221625-03:00  \n",
       "3      328 2021-03-05 16:53:46.221625-03:00  \n",
       "4      901 2021-03-05 16:53:46.221625-03:00  \n",
       "...    ...                              ...  \n",
       "4881   455 2021-03-05 16:53:46.221625-03:00  \n",
       "4882   455 2021-03-05 16:53:46.221625-03:00  \n",
       "4883   247 2021-03-05 16:53:46.221625-03:00  \n",
       "4884   247 2021-03-05 16:53:46.221625-03:00  \n",
       "4885   247 2021-03-05 16:53:46.221625-03:00  \n",
       "\n",
       "[4886 rows x 7 columns]"
      ],
      "text/html": "<div>\n<style scoped>\n    .dataframe tbody tr th:only-of-type {\n        vertical-align: middle;\n    }\n\n    .dataframe tbody tr th {\n        vertical-align: top;\n    }\n\n    .dataframe thead th {\n        text-align: right;\n    }\n</style>\n<table border=\"1\" class=\"dataframe\">\n  <thead>\n    <tr style=\"text-align: right;\">\n      <th></th>\n      <th>ordem</th>\n      <th>latitude</th>\n      <th>longitude</th>\n      <th>datahora</th>\n      <th>velocidade</th>\n      <th>linha</th>\n      <th>timestamp_captura</th>\n    </tr>\n  </thead>\n  <tbody>\n    <tr>\n      <th>0</th>\n      <td>B10002</td>\n      <td>-22,81085</td>\n      <td>-43,19459</td>\n      <td>2021-03-05 16:50:52-03:00</td>\n      <td>41</td>\n      <td>323</td>\n      <td>2021-03-05 16:53:46.221625-03:00</td>\n    </tr>\n    <tr>\n      <th>1</th>\n      <td>B10004</td>\n      <td>-22,84231</td>\n      <td>-43,2364</td>\n      <td>2021-03-05 16:51:39-03:00</td>\n      <td>22</td>\n      <td>327</td>\n      <td>2021-03-05 16:53:46.221625-03:00</td>\n    </tr>\n    <tr>\n      <th>2</th>\n      <td>B10006</td>\n      <td>-22,80553</td>\n      <td>-43,20086</td>\n      <td>2021-03-05 16:53:08-03:00</td>\n      <td>9</td>\n      <td>328</td>\n      <td>2021-03-05 16:53:46.221625-03:00</td>\n    </tr>\n    <tr>\n      <th>3</th>\n      <td>B10008</td>\n      <td>-22,78897</td>\n      <td>-43,16213</td>\n      <td>2021-03-05 16:53:08-03:00</td>\n      <td>0</td>\n      <td>328</td>\n      <td>2021-03-05 16:53:46.221625-03:00</td>\n    </tr>\n    <tr>\n      <th>4</th>\n      <td>B10011</td>\n      <td>-22,8141</td>\n      <td>-43,22097</td>\n      <td>2021-03-05 16:53:28-03:00</td>\n      <td>59</td>\n      <td>901</td>\n      <td>2021-03-05 16:53:46.221625-03:00</td>\n    </tr>\n    <tr>\n      <th>...</th>\n      <td>...</td>\n      <td>...</td>\n      <td>...</td>\n      <td>...</td>\n      <td>...</td>\n      <td>...</td>\n      <td>...</td>\n    </tr>\n    <tr>\n      <th>4881</th>\n      <td>B71146</td>\n      <td>-22,89952</td>\n      <td>-43,28073</td>\n      <td>2021-03-05 16:53:11-03:00</td>\n      <td>0</td>\n      <td>455</td>\n      <td>2021-03-05 16:53:46.221625-03:00</td>\n    </tr>\n    <tr>\n      <th>4882</th>\n      <td>B71148</td>\n      <td>-22,90461</td>\n      <td>-43,27509</td>\n      <td>2021-03-05 16:53:02-03:00</td>\n      <td>11</td>\n      <td>455</td>\n      <td>2021-03-05 16:53:46.221625-03:00</td>\n    </tr>\n    <tr>\n      <th>4883</th>\n      <td>B71155</td>\n      <td>-22,90401</td>\n      <td>-43,27171</td>\n      <td>2021-03-05 16:53:18-03:00</td>\n      <td>36</td>\n      <td>247</td>\n      <td>2021-03-05 16:53:46.221625-03:00</td>\n    </tr>\n    <tr>\n      <th>4884</th>\n      <td>B71156</td>\n      <td>-22,91356</td>\n      <td>-43,1786</td>\n      <td>2021-03-05 16:53:15-03:00</td>\n      <td>0</td>\n      <td>247</td>\n      <td>2021-03-05 16:53:46.221625-03:00</td>\n    </tr>\n    <tr>\n      <th>4885</th>\n      <td>B71158</td>\n      <td>-22,88906</td>\n      <td>-43,29332</td>\n      <td>2021-03-05 16:47:48-03:00</td>\n      <td>0</td>\n      <td>247</td>\n      <td>2021-03-05 16:53:46.221625-03:00</td>\n    </tr>\n  </tbody>\n</table>\n<p>4886 rows × 7 columns</p>\n</div>"
     },
     "metadata": {},
     "execution_count": 8
    }
   ],
   "source": [
    "treated_data = result.output_for_solid('pre_treatment')\n",
    "treated_data"
   ]
  }
 ]
}