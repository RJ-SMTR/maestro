{
 "metadata": {
  "language_info": {
   "codemirror_mode": {
    "name": "ipython",
    "version": 3
   },
   "file_extension": ".py",
   "mimetype": "text/x-python",
   "name": "python",
   "nbconvert_exporter": "python",
   "pygments_lexer": "ipython3",
   "version": "3.8.5"
  },
  "orig_nbformat": 2,
  "kernelspec": {
   "name": "python385jvsc74a57bd05cf277a4ec1d7681f7d0dd7a91601f45b893318ad512e3543f7a4db7d6fbbadf",
   "display_name": "Python 3.8.5 64-bit ('.maestro': venv)"
  }
 },
 "nbformat": 4,
 "nbformat_minor": 2,
 "cells": [
  {
   "cell_type": "code",
   "execution_count": 1,
   "metadata": {},
   "outputs": [],
   "source": [
    "import ftplib\n",
    "import ssl\n",
    "\n",
    "class ImplicitFTP_TLS(ftplib.FTP_TLS):\n",
    "    \"\"\"FTP_TLS subclass that automatically wraps sockets in SSL to support implicit FTPS.\"\"\"\n",
    "\n",
    "    def __init__(self, *args, **kwargs):\n",
    "        super().__init__(*args, **kwargs)\n",
    "        self._sock = None\n",
    "\n",
    "    @property\n",
    "    def sock(self):\n",
    "        \"\"\"Return the socket.\"\"\"\n",
    "        return self._sock\n",
    "\n",
    "    @sock.setter\n",
    "    def sock(self, value):\n",
    "        \"\"\"When modifying the socket, ensure that it is ssl wrapped.\"\"\"\n",
    "        if value is not None and not isinstance(value, ssl.SSLSocket):\n",
    "            value = self.context.wrap_socket(value)\n",
    "        self._sock = value"
   ]
  },
  {
   "cell_type": "code",
   "execution_count": 68,
   "metadata": {},
   "outputs": [
    {
     "output_type": "execute_result",
     "data": {
      "text/plain": [
       "'200 Protection level set to P'"
      ]
     },
     "metadata": {},
     "execution_count": 68
    }
   ],
   "source": [
    "ftp_client = ImplicitFTP_TLS()\n",
    "ftp_client.connect(host='187.111.98.100', port=990)\n",
    "ftp_client.login(user='FTP_SMTR_SMTR', passwd='USR@R1oocAR#30')\n",
    "ftp_client.prot_p()"
   ]
  },
  {
   "cell_type": "code",
   "execution_count": 18,
   "metadata": {},
   "outputs": [
    {
     "output_type": "execute_result",
     "data": {
      "text/plain": [
       "'250 CWD successful. \"/APROCESSAR\" is current directory.'"
      ]
     },
     "metadata": {},
     "execution_count": 18
    }
   ],
   "source": [
    "ftp_client.cwd('APROCESSAR')"
   ]
  },
  {
   "source": [
    "from dateutil import parser\n",
    "sys.path.append(\"/home/lmoraes/maestro/\")\n",
    "from repositories.helpers.helpers import read_config\n",
    "from pathlib import Path\n",
    "import re\n",
    "RDO_DIRECTORY = os.getenv(\"RDO_DATA_FTPS\", \"/home/lmoraes/RDO_DATA_FTPS\")\n",
    "import jinja2"
   ],
   "cell_type": "code",
   "metadata": {},
   "execution_count": 73,
   "outputs": []
  },
  {
   "cell_type": "code",
   "execution_count": 22,
   "metadata": {
    "tags": []
   },
   "outputs": [
    {
     "output_type": "stream",
     "name": "stdout",
     "text": [
      "RDO2_00153_00001_20170514_20170515_234344.TXT - 2017-05-16 14:56:29\n"
     ]
    }
   ],
   "source": [
    "for filepath in ftp_client.mlsd():\n",
    "    name = filepath[0]\n",
    "    timestamp = filepath[1]['modify']\n",
    "    time = parser.parse(timestamp)\n",
    "    print(name + ' - ' + str(time))\n",
    "    break\n"
   ]
  },
  {
   "cell_type": "code",
   "execution_count": 74,
   "metadata": {
    "tags": [
     "outputPrepend"
    ]
   },
   "outputs": [
    {
     "output_type": "stream",
     "name": "stdout",
     "text": [
      "l', 'gratuidade_estudante_estadual', 'gratuidade_estudante_municipal', 'universitario', 'gratuito_rodoviario', 'buc_1a_perna', 'buc_2a_perna', 'buc_receita', 'buc_supervia_1a_perna', 'buc_supervia_2a_perna', 'buc_supervia_receita', 'buc_van_1a_perna', 'buc_van_2a_perna', 'buc_van_receita', 'buc_vlt_1a_perna', 'buc_vlt_2a_perna', 'buc_vlt_receita', 'buc_brt_1a_perna', 'buc_brt_2a_perna', 'buc_brt_3a_perna', 'buc_brt_receita', 'buc_inter_1a_perna', 'buc_inter_2a_perna', 'buc_inter_receita', 'buc_barcas_1a_perna', 'buc_barcas_2a_perna', 'buc_barcas_receita', 'buc_metro_1a_perna', 'buc_metro_2a_perna', 'buc_metro_receita', 'cartao', 'receita_cartao', 'especie_passageiro_transportado', 'especie_receita', 'registro_processado', 'data_processamento', 'linha_rcti'], 'index_col': False}, 'reindex_kwargs': {'columns': ['operadora', 'linha', 'data_transacao', 'tarifa_valor', 'gratuidade_idoso', 'gratuidade_especial', 'gratuidade_estudante_federal', 'gratuidade_estudante_estadual', 'gratuidade_estudante_municipal', 'universitario', 'gratuito_rodoviario', 'buc_1a_perna', 'buc_2a_perna', 'buc_receita', 'buc_supervia_1a_perna', 'buc_supervia_2a_perna', 'buc_supervia_receita', 'buc_van_1a_perna', 'buc_van_2a_perna', 'buc_van_receita', 'buc_vlt_1a_perna', 'buc_vlt_2a_perna', 'buc_vlt_receita', 'buc_brt_1a_perna', 'buc_brt_2a_perna', 'buc_brt_3a_perna', 'buc_brt_receita', 'buc_inter_1a_perna', 'buc_inter_2a_perna', 'buc_inter_receita', 'buc_barcas_1a_perna', 'buc_barcas_2a_perna', 'buc_barcas_receita', 'buc_metro_1a_perna', 'buc_metro_2a_perna', 'buc_metro_receita', 'cartao', 'receita_cartao', 'especie_passageiro_transportado', 'especie_receita', 'registro_processado', 'data_processamento', 'linha_rcti']}}}, 'upload_file_to_storage': {'inputs': {'file_path': {'value': '/home/lmoraes/RDO_DATA_FTPS/raw/br_rj_riodejaneiro_rdo/rdo5_registros/ano=2021/mes=05/dia=14/RDO_00706_00001_20210514_20210519_082804.TXT'}}}}}\n",
      "2021-05-24 15:57:33.311 | DEBUG    | repositories.helpers.helpers:read_config:16 - Setting template folder as /home/lmoraes/maestro/repositories/capturas/br_rj_riodejaneiro_rdo\n",
      "2021-05-24 15:57:33.313 | DEBUG    | repositories.helpers.helpers:read_config:21 - Setting template as sppo_rdo.yaml\n",
      "{'resources': {'basedosdados_config': {'config': {'table_id': 'rdo5_registros', 'dataset_id': 'br_rj_riodejaneiro_rdo'}}, 'timezone_config': {'config': {'timezone': 'America/Sao_Paulo'}}, 'discord_webhook': {'config': {'url': '', 'success_cron': '* * * * *'}}}, 'solids': {'parse_file_path_and_partitions': {'inputs': {'bucket_path': {'value': 'raw/br_rj_riodejaneiro_rdo/rdo5_registros/ano=2021/mes=05/dia=15/RDO_00707_00001_20210515_20210520_063650.TXT'}}}, 'upload_to_bigquery': {'inputs': {'modes': {'value': ['staging']}}}, 'load_and_reindex_csv': {'config': {'read_csv_kwargs': {'delimiter': ';', 'skiprows': 1, 'names': ['operadora', 'linha', 'data_transacao', 'tarifa_valor', 'gratuidade_idoso', 'gratuidade_especial', 'gratuidade_estudante_federal', 'gratuidade_estudante_estadual', 'gratuidade_estudante_municipal', 'universitario', 'gratuito_rodoviario', 'buc_1a_perna', 'buc_2a_perna', 'buc_receita', 'buc_supervia_1a_perna', 'buc_supervia_2a_perna', 'buc_supervia_receita', 'buc_van_1a_perna', 'buc_van_2a_perna', 'buc_van_receita', 'buc_vlt_1a_perna', 'buc_vlt_2a_perna', 'buc_vlt_receita', 'buc_brt_1a_perna', 'buc_brt_2a_perna', 'buc_brt_3a_perna', 'buc_brt_receita', 'buc_inter_1a_perna', 'buc_inter_2a_perna', 'buc_inter_receita', 'buc_barcas_1a_perna', 'buc_barcas_2a_perna', 'buc_barcas_receita', 'buc_metro_1a_perna', 'buc_metro_2a_perna', 'buc_metro_receita', 'cartao', 'receita_cartao', 'especie_passageiro_transportado', 'especie_receita', 'registro_processado', 'data_processamento', 'linha_rcti'], 'index_col': False}, 'reindex_kwargs': {'columns': ['operadora', 'linha', 'data_transacao', 'tarifa_valor', 'gratuidade_idoso', 'gratuidade_especial', 'gratuidade_estudante_federal', 'gratuidade_estudante_estadual', 'gratuidade_estudante_municipal', 'universitario', 'gratuito_rodoviario', 'buc_1a_perna', 'buc_2a_perna', 'buc_receita', 'buc_supervia_1a_perna', 'buc_supervia_2a_perna', 'buc_supervia_receita', 'buc_van_1a_perna', 'buc_van_2a_perna', 'buc_van_receita', 'buc_vlt_1a_perna', 'buc_vlt_2a_perna', 'buc_vlt_receita', 'buc_brt_1a_perna', 'buc_brt_2a_perna', 'buc_brt_3a_perna', 'buc_brt_receita', 'buc_inter_1a_perna', 'buc_inter_2a_perna', 'buc_inter_receita', 'buc_barcas_1a_perna', 'buc_barcas_2a_perna', 'buc_barcas_receita', 'buc_metro_1a_perna', 'buc_metro_2a_perna', 'buc_metro_receita', 'cartao', 'receita_cartao', 'especie_passageiro_transportado', 'especie_receita', 'registro_processado', 'data_processamento', 'linha_rcti']}}}, 'upload_file_to_storage': {'inputs': {'file_path': {'value': '/home/lmoraes/RDO_DATA_FTPS/raw/br_rj_riodejaneiro_rdo/rdo5_registros/ano=2021/mes=05/dia=15/RDO_00707_00001_20210515_20210520_063650.TXT'}}}}}\n",
      "2021-05-24 15:57:33.835 | DEBUG    | repositories.helpers.helpers:read_config:16 - Setting template folder as /home/lmoraes/maestro/repositories/capturas/br_rj_riodejaneiro_rdo\n",
      "2021-05-24 15:57:33.837 | DEBUG    | repositories.helpers.helpers:read_config:21 - Setting template as sppo_rdo.yaml\n",
      "{'resources': {'basedosdados_config': {'config': {'table_id': 'rdo5_registros', 'dataset_id': 'br_rj_riodejaneiro_rdo'}}, 'timezone_config': {'config': {'timezone': 'America/Sao_Paulo'}}, 'discord_webhook': {'config': {'url': '', 'success_cron': '* * * * *'}}}, 'solids': {'parse_file_path_and_partitions': {'inputs': {'bucket_path': {'value': 'raw/br_rj_riodejaneiro_rdo/rdo5_registros/ano=2021/mes=05/dia=16/RDO_00708_00001_20210516_20210521_051819.TXT'}}}, 'upload_to_bigquery': {'inputs': {'modes': {'value': ['staging']}}}, 'load_and_reindex_csv': {'config': {'read_csv_kwargs': {'delimiter': ';', 'skiprows': 1, 'names': ['operadora', 'linha', 'data_transacao', 'tarifa_valor', 'gratuidade_idoso', 'gratuidade_especial', 'gratuidade_estudante_federal', 'gratuidade_estudante_estadual', 'gratuidade_estudante_municipal', 'universitario', 'gratuito_rodoviario', 'buc_1a_perna', 'buc_2a_perna', 'buc_receita', 'buc_supervia_1a_perna', 'buc_supervia_2a_perna', 'buc_supervia_receita', 'buc_van_1a_perna', 'buc_van_2a_perna', 'buc_van_receita', 'buc_vlt_1a_perna', 'buc_vlt_2a_perna', 'buc_vlt_receita', 'buc_brt_1a_perna', 'buc_brt_2a_perna', 'buc_brt_3a_perna', 'buc_brt_receita', 'buc_inter_1a_perna', 'buc_inter_2a_perna', 'buc_inter_receita', 'buc_barcas_1a_perna', 'buc_barcas_2a_perna', 'buc_barcas_receita', 'buc_metro_1a_perna', 'buc_metro_2a_perna', 'buc_metro_receita', 'cartao', 'receita_cartao', 'especie_passageiro_transportado', 'especie_receita', 'registro_processado', 'data_processamento', 'linha_rcti'], 'index_col': False}, 'reindex_kwargs': {'columns': ['operadora', 'linha', 'data_transacao', 'tarifa_valor', 'gratuidade_idoso', 'gratuidade_especial', 'gratuidade_estudante_federal', 'gratuidade_estudante_estadual', 'gratuidade_estudante_municipal', 'universitario', 'gratuito_rodoviario', 'buc_1a_perna', 'buc_2a_perna', 'buc_receita', 'buc_supervia_1a_perna', 'buc_supervia_2a_perna', 'buc_supervia_receita', 'buc_van_1a_perna', 'buc_van_2a_perna', 'buc_van_receita', 'buc_vlt_1a_perna', 'buc_vlt_2a_perna', 'buc_vlt_receita', 'buc_brt_1a_perna', 'buc_brt_2a_perna', 'buc_brt_3a_perna', 'buc_brt_receita', 'buc_inter_1a_perna', 'buc_inter_2a_perna', 'buc_inter_receita', 'buc_barcas_1a_perna', 'buc_barcas_2a_perna', 'buc_barcas_receita', 'buc_metro_1a_perna', 'buc_metro_2a_perna', 'buc_metro_receita', 'cartao', 'receita_cartao', 'especie_passageiro_transportado', 'especie_receita', 'registro_processado', 'data_processamento', 'linha_rcti']}}}, 'upload_file_to_storage': {'inputs': {'file_path': {'value': '/home/lmoraes/RDO_DATA_FTPS/raw/br_rj_riodejaneiro_rdo/rdo5_registros/ano=2021/mes=05/dia=16/RDO_00708_00001_20210516_20210521_051819.TXT'}}}}}\n",
      "2021-05-24 15:57:34.810 | DEBUG    | repositories.helpers.helpers:read_config:16 - Setting template folder as /home/lmoraes/maestro/repositories/capturas/br_rj_riodejaneiro_rdo\n",
      "2021-05-24 15:57:34.811 | DEBUG    | repositories.helpers.helpers:read_config:21 - Setting template as sppo_rdo.yaml\n",
      "{'resources': {'basedosdados_config': {'config': {'table_id': 'rdo5_registros', 'dataset_id': 'br_rj_riodejaneiro_rdo'}}, 'timezone_config': {'config': {'timezone': 'America/Sao_Paulo'}}, 'discord_webhook': {'config': {'url': '', 'success_cron': '* * * * *'}}}, 'solids': {'parse_file_path_and_partitions': {'inputs': {'bucket_path': {'value': 'raw/br_rj_riodejaneiro_rdo/rdo5_registros/ano=2021/mes=05/dia=17/RDO_00709_00001_20210517_20210522_072540.TXT'}}}, 'upload_to_bigquery': {'inputs': {'modes': {'value': ['staging']}}}, 'load_and_reindex_csv': {'config': {'read_csv_kwargs': {'delimiter': ';', 'skiprows': 1, 'names': ['operadora', 'linha', 'data_transacao', 'tarifa_valor', 'gratuidade_idoso', 'gratuidade_especial', 'gratuidade_estudante_federal', 'gratuidade_estudante_estadual', 'gratuidade_estudante_municipal', 'universitario', 'gratuito_rodoviario', 'buc_1a_perna', 'buc_2a_perna', 'buc_receita', 'buc_supervia_1a_perna', 'buc_supervia_2a_perna', 'buc_supervia_receita', 'buc_van_1a_perna', 'buc_van_2a_perna', 'buc_van_receita', 'buc_vlt_1a_perna', 'buc_vlt_2a_perna', 'buc_vlt_receita', 'buc_brt_1a_perna', 'buc_brt_2a_perna', 'buc_brt_3a_perna', 'buc_brt_receita', 'buc_inter_1a_perna', 'buc_inter_2a_perna', 'buc_inter_receita', 'buc_barcas_1a_perna', 'buc_barcas_2a_perna', 'buc_barcas_receita', 'buc_metro_1a_perna', 'buc_metro_2a_perna', 'buc_metro_receita', 'cartao', 'receita_cartao', 'especie_passageiro_transportado', 'especie_receita', 'registro_processado', 'data_processamento', 'linha_rcti'], 'index_col': False}, 'reindex_kwargs': {'columns': ['operadora', 'linha', 'data_transacao', 'tarifa_valor', 'gratuidade_idoso', 'gratuidade_especial', 'gratuidade_estudante_federal', 'gratuidade_estudante_estadual', 'gratuidade_estudante_municipal', 'universitario', 'gratuito_rodoviario', 'buc_1a_perna', 'buc_2a_perna', 'buc_receita', 'buc_supervia_1a_perna', 'buc_supervia_2a_perna', 'buc_supervia_receita', 'buc_van_1a_perna', 'buc_van_2a_perna', 'buc_van_receita', 'buc_vlt_1a_perna', 'buc_vlt_2a_perna', 'buc_vlt_receita', 'buc_brt_1a_perna', 'buc_brt_2a_perna', 'buc_brt_3a_perna', 'buc_brt_receita', 'buc_inter_1a_perna', 'buc_inter_2a_perna', 'buc_inter_receita', 'buc_barcas_1a_perna', 'buc_barcas_2a_perna', 'buc_barcas_receita', 'buc_metro_1a_perna', 'buc_metro_2a_perna', 'buc_metro_receita', 'cartao', 'receita_cartao', 'especie_passageiro_transportado', 'especie_receita', 'registro_processado', 'data_processamento', 'linha_rcti']}}}, 'upload_file_to_storage': {'inputs': {'file_path': {'value': '/home/lmoraes/RDO_DATA_FTPS/raw/br_rj_riodejaneiro_rdo/rdo5_registros/ano=2021/mes=05/dia=17/RDO_00709_00001_20210517_20210522_072540.TXT'}}}}}\n",
      "2021-05-24 15:57:35.411 | DEBUG    | repositories.helpers.helpers:read_config:16 - Setting template folder as /home/lmoraes/maestro/repositories/capturas/br_rj_riodejaneiro_rdo\n",
      "2021-05-24 15:57:35.412 | DEBUG    | repositories.helpers.helpers:read_config:21 - Setting template as sppo_rdo.yaml\n",
      "{'resources': {'basedosdados_config': {'config': {'table_id': 'rdo5_registros', 'dataset_id': 'br_rj_riodejaneiro_rdo'}}, 'timezone_config': {'config': {'timezone': 'America/Sao_Paulo'}}, 'discord_webhook': {'config': {'url': '', 'success_cron': '* * * * *'}}}, 'solids': {'parse_file_path_and_partitions': {'inputs': {'bucket_path': {'value': 'raw/br_rj_riodejaneiro_rdo/rdo5_registros/ano=2021/mes=05/dia=18/RDO_00710_00001_20210518_20210523_073551.TXT'}}}, 'upload_to_bigquery': {'inputs': {'modes': {'value': ['staging']}}}, 'load_and_reindex_csv': {'config': {'read_csv_kwargs': {'delimiter': ';', 'skiprows': 1, 'names': ['operadora', 'linha', 'data_transacao', 'tarifa_valor', 'gratuidade_idoso', 'gratuidade_especial', 'gratuidade_estudante_federal', 'gratuidade_estudante_estadual', 'gratuidade_estudante_municipal', 'universitario', 'gratuito_rodoviario', 'buc_1a_perna', 'buc_2a_perna', 'buc_receita', 'buc_supervia_1a_perna', 'buc_supervia_2a_perna', 'buc_supervia_receita', 'buc_van_1a_perna', 'buc_van_2a_perna', 'buc_van_receita', 'buc_vlt_1a_perna', 'buc_vlt_2a_perna', 'buc_vlt_receita', 'buc_brt_1a_perna', 'buc_brt_2a_perna', 'buc_brt_3a_perna', 'buc_brt_receita', 'buc_inter_1a_perna', 'buc_inter_2a_perna', 'buc_inter_receita', 'buc_barcas_1a_perna', 'buc_barcas_2a_perna', 'buc_barcas_receita', 'buc_metro_1a_perna', 'buc_metro_2a_perna', 'buc_metro_receita', 'cartao', 'receita_cartao', 'especie_passageiro_transportado', 'especie_receita', 'registro_processado', 'data_processamento', 'linha_rcti'], 'index_col': False}, 'reindex_kwargs': {'columns': ['operadora', 'linha', 'data_transacao', 'tarifa_valor', 'gratuidade_idoso', 'gratuidade_especial', 'gratuidade_estudante_federal', 'gratuidade_estudante_estadual', 'gratuidade_estudante_municipal', 'universitario', 'gratuito_rodoviario', 'buc_1a_perna', 'buc_2a_perna', 'buc_receita', 'buc_supervia_1a_perna', 'buc_supervia_2a_perna', 'buc_supervia_receita', 'buc_van_1a_perna', 'buc_van_2a_perna', 'buc_van_receita', 'buc_vlt_1a_perna', 'buc_vlt_2a_perna', 'buc_vlt_receita', 'buc_brt_1a_perna', 'buc_brt_2a_perna', 'buc_brt_3a_perna', 'buc_brt_receita', 'buc_inter_1a_perna', 'buc_inter_2a_perna', 'buc_inter_receita', 'buc_barcas_1a_perna', 'buc_barcas_2a_perna', 'buc_barcas_receita', 'buc_metro_1a_perna', 'buc_metro_2a_perna', 'buc_metro_receita', 'cartao', 'receita_cartao', 'especie_passageiro_transportado', 'especie_receita', 'registro_processado', 'data_processamento', 'linha_rcti']}}}, 'upload_file_to_storage': {'inputs': {'file_path': {'value': '/home/lmoraes/RDO_DATA_FTPS/raw/br_rj_riodejaneiro_rdo/rdo5_registros/ano=2021/mes=05/dia=18/RDO_00710_00001_20210518_20210523_073551.TXT'}}}}}\n",
      "{'resources': {'basedosdados_config': {'config': {'table_id': 'rdo5_registros', 'dataset_id': 'br_rj_riodejaneiro_rdo'}}, 'timezone_config': {'config': {'timezone': 'America/Sao_Paulo'}}, 'discord_webhook': {'config': {'url': '', 'success_cron': '* * * * *'}}}, 'solids': {'parse_file_path_and_partitions': {'inputs': {'bucket_path': {'value': 'raw/br_rj_riodejaneiro_rdo/rdo5_registros/ano=2021/mes=05/dia=19/RDO_00711_00001_20210519_20210524_061509.TXT'}}}, 'upload_to_bigquery': {'inputs': {'modes': {'value': ['staging']}}}, 'load_and_reindex_csv': {'config': {'read_csv_kwargs': {'delimiter': ';', 'skiprows': 1, 'names': ['operadora', 'linha', 'data_transacao', 'tarifa_valor', 'gratuidade_idoso', 'gratuidade_especial', 'gratuidade_estudante_federal', 'gratuidade_estudante_estadual', 'gratuidade_estudante_municipal', 'universitario', 'gratuito_rodoviario', 'buc_1a_perna', 'buc_2a_perna', 'buc_receita', 'buc_supervia_1a_perna', 'buc_supervia_2a_perna', 'buc_supervia_receita', 'buc_van_1a_perna', 'buc_van_2a_perna', 'buc_van_receita', 'buc_vlt_1a_perna', 'buc_vlt_2a_perna', 'buc_vlt_receita', 'buc_brt_1a_perna', 'buc_brt_2a_perna', 'buc_brt_3a_perna', 'buc_brt_receita', 'buc_inter_1a_perna', 'buc_inter_2a_perna', 'buc_inter_receita', 'buc_barcas_1a_perna', 'buc_barcas_2a_perna', 'buc_barcas_receita', 'buc_metro_1a_perna', 'buc_metro_2a_perna', 'buc_metro_receita', 'cartao', 'receita_cartao', 'especie_passageiro_transportado', 'especie_receita', 'registro_processado', 'data_processamento', 'linha_rcti'], 'index_col': False}, 'reindex_kwargs': {'columns': ['operadora', 'linha', 'data_transacao', 'tarifa_valor', 'gratuidade_idoso', 'gratuidade_especial', 'gratuidade_estudante_federal', 'gratuidade_estudante_estadual', 'gratuidade_estudante_municipal', 'universitario', 'gratuito_rodoviario', 'buc_1a_perna', 'buc_2a_perna', 'buc_receita', 'buc_supervia_1a_perna', 'buc_supervia_2a_perna', 'buc_supervia_receita', 'buc_van_1a_perna', 'buc_van_2a_perna', 'buc_van_receita', 'buc_vlt_1a_perna', 'buc_vlt_2a_perna', 'buc_vlt_receita', 'buc_brt_1a_perna', 'buc_brt_2a_perna', 'buc_brt_3a_perna', 'buc_brt_receita', 'buc_inter_1a_perna', 'buc_inter_2a_perna', 'buc_inter_receita', 'buc_barcas_1a_perna', 'buc_barcas_2a_perna', 'buc_barcas_receita', 'buc_metro_1a_perna', 'buc_metro_2a_perna', 'buc_metro_receita', 'cartao', 'receita_cartao', 'especie_passageiro_transportado', 'especie_receita', 'registro_processado', 'data_processamento', 'linha_rcti']}}}, 'upload_file_to_storage': {'inputs': {'file_path': {'value': '/home/lmoraes/RDO_DATA_FTPS/raw/br_rj_riodejaneiro_rdo/rdo5_registros/ano=2021/mes=05/dia=19/RDO_00711_00001_20210519_20210524_061509.TXT'}}}}}\n",
      "Entering folder STPL\n",
      "2021-05-24 15:57:36.514 | DEBUG    | repositories.helpers.helpers:read_config:16 - Setting template folder as /home/lmoraes/maestro/repositories/capturas/br_rj_riodejaneiro_rdo\n",
      "2021-05-24 15:57:36.515 | DEBUG    | repositories.helpers.helpers:read_config:21 - Setting template as stpl_rdov.yaml\n",
      "2021-05-24 15:57:36.516 | DEBUG    | repositories.helpers.helpers:read_config:16 - Setting template folder as /home/lmoraes/maestro/repositories/capturas/br_rj_riodejaneiro_rdo\n",
      "2021-05-24 15:57:36.517 | DEBUG    | repositories.helpers.helpers:read_config:21 - Setting template as stpl_rdov.yaml\n",
      "2021-05-24 15:57:36.518 | DEBUG    | repositories.helpers.helpers:read_config:16 - Setting template folder as /home/lmoraes/maestro/repositories/capturas/br_rj_riodejaneiro_rdo\n",
      "2021-05-24 15:57:36.519 | DEBUG    | repositories.helpers.helpers:read_config:21 - Setting template as stpl_rdov.yaml\n",
      "2021-05-24 15:57:36.520 | DEBUG    | repositories.helpers.helpers:read_config:16 - Setting template folder as /home/lmoraes/maestro/repositories/capturas/br_rj_riodejaneiro_rdo\n",
      "2021-05-24 15:57:36.521 | DEBUG    | repositories.helpers.helpers:read_config:21 - Setting template as stpl_rdov.yaml\n",
      "2021-05-24 15:57:36.524 | DEBUG    | repositories.helpers.helpers:read_config:16 - Setting template folder as /home/lmoraes/maestro/repositories/capturas/br_rj_riodejaneiro_rdo\n",
      "2021-05-24 15:57:36.525 | DEBUG    | repositories.helpers.helpers:read_config:21 - Setting template as stpl_rhov.yaml\n",
      "2021-05-24 15:57:36.529 | DEBUG    | repositories.helpers.helpers:read_config:16 - Setting template folder as /home/lmoraes/maestro/repositories/capturas/br_rj_riodejaneiro_rdo\n",
      "2021-05-24 15:57:36.531 | DEBUG    | repositories.helpers.helpers:read_config:21 - Setting template as stpl_rhov.yaml\n",
      "2021-05-24 15:57:36.532 | DEBUG    | repositories.helpers.helpers:read_config:16 - Setting template folder as /home/lmoraes/maestro/repositories/capturas/br_rj_riodejaneiro_rdo\n",
      "2021-05-24 15:57:36.533 | DEBUG    | repositories.helpers.helpers:read_config:21 - Setting template as stpl_rhov.yaml\n",
      "2021-05-24 15:57:36.534 | DEBUG    | repositories.helpers.helpers:read_config:16 - Setting template folder as /home/lmoraes/maestro/repositories/capturas/br_rj_riodejaneiro_rdo\n",
      "2021-05-24 15:57:36.536 | DEBUG    | repositories.helpers.helpers:read_config:21 - Setting template as stpl_rhov.yaml\n",
      "stpl_rdov.yaml\n",
      "Config file /home/lmoraes/maestro/repositories/capturas/br_rj_riodejaneiro_rdo/stpl_rdov.yaml was not found. Skipping file.\n",
      "stpl_rdov.yaml\n",
      "Config file /home/lmoraes/maestro/repositories/capturas/br_rj_riodejaneiro_rdo/stpl_rdov.yaml was not found. Skipping file.\n",
      "stpl_rdov.yaml\n",
      "Config file /home/lmoraes/maestro/repositories/capturas/br_rj_riodejaneiro_rdo/stpl_rdov.yaml was not found. Skipping file.\n",
      "stpl_rdov.yaml\n",
      "Config file /home/lmoraes/maestro/repositories/capturas/br_rj_riodejaneiro_rdo/stpl_rdov.yaml was not found. Skipping file.\n",
      "stpl_rhov.yaml\n",
      "Config file /home/lmoraes/maestro/repositories/capturas/br_rj_riodejaneiro_rdo/stpl_rhov.yaml was not found. Skipping file.\n",
      "stpl_rhov.yaml\n",
      "Config file /home/lmoraes/maestro/repositories/capturas/br_rj_riodejaneiro_rdo/stpl_rhov.yaml was not found. Skipping file.\n",
      "stpl_rhov.yaml\n",
      "Config file /home/lmoraes/maestro/repositories/capturas/br_rj_riodejaneiro_rdo/stpl_rhov.yaml was not found. Skipping file.\n",
      "stpl_rhov.yaml\n",
      "Config file /home/lmoraes/maestro/repositories/capturas/br_rj_riodejaneiro_rdo/stpl_rhov.yaml was not found. Skipping file.\n"
     ]
    }
   ],
   "source": [
    "ftp_client.cwd('/')\n",
    "for folder in ftp_client.mlsd():\n",
    "    # Config yaml file will be folder_fileprefix.yaml\n",
    "    if folder[1]['type'] == 'dir':\n",
    "        # CWD to folder\n",
    "        print(f\"Entering folder {folder[0]}\")\n",
    "        ftp_client.cwd(folder[0])\n",
    "        folder_name = folder[0].lower()\n",
    "\n",
    "        # Read file list\n",
    "        for filepath in ftp_client.mlsd():\n",
    "            filename = filepath[0]\n",
    "            fileprefix = filename.split('_')[0].lower()\n",
    "            timestamp = filepath[1]['modify']\n",
    "            time = parser.parse(timestamp)\n",
    "\n",
    "            # Download file to local folder\n",
    "            try:\n",
    "                # config = read_config(Path(__file__).parent / f'br_rj_riodejaneiro_rdo/{folder}_{fileprefix}.yaml') \n",
    "                \n",
    "                config_file = f'/home/lmoraes/maestro/repositories/capturas/br_rj_riodejaneiro_rdo/{folder_name}_{fileprefix}.yaml'\n",
    "                config = read_config(Path(config_file)) \n",
    "                table_id = config['resources']['basedosdados_config']['config']['table_id']\n",
    "                date = tuple(re.findall(\"\\d+\", filename))\n",
    "                ano = date[2][:4]\n",
    "                mes = date[2][4:6]\n",
    "                dia = date[2][6:]\n",
    "                relative_filepath = Path('raw/br_rj_riodejaneiro_rdo', table_id, f'ano={ano}', f'mes={mes}', f'dia={dia}')\n",
    "                local_filepath = Path(RDO_DIRECTORY, relative_filepath)\n",
    "                Path(local_filepath).mkdir(parents=True, exist_ok=True)\n",
    "                with open(f'{local_filepath}/{filename}', 'wb') as local_file:\n",
    "                    ftp_client.retrbinary('RETR ' + filename, local_file.write)\n",
    "                \n",
    "                # Run pipeline\n",
    "                config['solids']['parse_file_path_and_partitions']['inputs']['bucket_path']['value'] = f'{relative_filepath}/{filename}'\n",
    "                config['solids']['upload_file_to_storage'] = {\"inputs\": {\"file_path\": {\"value\": f'{local_filepath}/{filename}'}}}\n",
    "                print(config)\n",
    "            except jinja2.TemplateNotFound as err:\n",
    "                print(err)\n",
    "                print(f\"Config file {config_file} was not found. Skipping file.\")\n",
    "            \n",
    "        ftp_client.cwd('/')\n",
    "    else:\n",
    "        print(f\"Skipping file {folder[0]} since it is not inside a folder\")\n",
    "        continue"
   ]
  },
  {
   "cell_type": "code",
   "execution_count": 28,
   "metadata": {},
   "outputs": [
    {
     "output_type": "stream",
     "name": "stdout",
     "text": [
      "Entering folder APROCESSAR\nSkipping file RDO_00700_00001_20210508_20210513_050941.TXT since it is not inside a folder\nEntering folder SPPO\nEntering folder STPL\n"
     ]
    }
   ],
   "source": [
    "ftp_client.cwd('/')\n",
    "for folder in ftp_client.mlsd():\n",
    "    # print(folder)\n",
    "    # Config yaml file will be folder_fileprefix.yaml\n",
    "    if folder[1]['type'] == 'dir':\n",
    "        # CWD to folder\n",
    "        print(f\"Entering folder {folder[0]}\")\n",
    "        ftp_client.cwd(folder[0])\n",
    "        ftp_client.cwd('/')\n",
    "    else:\n",
    "        print(f\"Skipping file {folder[0]} since it is not inside a folder\")\n",
    "        continue"
   ]
  },
  {
   "cell_type": "code",
   "execution_count": 84,
   "metadata": {},
   "outputs": [
    {
     "output_type": "execute_result",
     "data": {
      "text/plain": [
       "os.stat_result(st_mode=33188, st_ino=212082, st_dev=2064, st_nlink=1, st_uid=1000, st_gid=1000, st_size=29010, st_atime=1621877682, st_mtime=1621886391, st_ctime=1621886391)"
      ]
     },
     "metadata": {},
     "execution_count": 84
    }
   ],
   "source": [
    " fstats = os.stat('ftps.ipynb')\n",
    " fstats"
   ]
  },
  {
   "cell_type": "code",
   "execution_count": 79,
   "metadata": {},
   "outputs": [
    {
     "output_type": "execute_result",
     "data": {
      "text/plain": [
       "1621849611.0"
      ]
     },
     "metadata": {},
     "execution_count": 79
    }
   ],
   "source": [
    "datetime.timestamp(time)"
   ]
  },
  {
   "cell_type": "code",
   "execution_count": 86,
   "metadata": {},
   "outputs": [
    {
     "output_type": "execute_result",
     "data": {
      "text/plain": [
       "datetime.datetime(2021, 5, 24, 6, 46, 51)"
      ]
     },
     "metadata": {},
     "execution_count": 86
    }
   ],
   "source": [
    "time"
   ]
  },
  {
   "cell_type": "code",
   "execution_count": 85,
   "metadata": {},
   "outputs": [
    {
     "output_type": "execute_result",
     "data": {
      "text/plain": [
       "datetime.datetime(2021, 5, 24, 16, 59, 51)"
      ]
     },
     "metadata": {},
     "execution_count": 85
    }
   ],
   "source": [
    "datetime.fromtimestamp(1621886391)"
   ]
  },
  {
   "cell_type": "code",
   "execution_count": 78,
   "metadata": {},
   "outputs": [],
   "source": [
    "from datetime import datetime"
   ]
  }
 ]
}