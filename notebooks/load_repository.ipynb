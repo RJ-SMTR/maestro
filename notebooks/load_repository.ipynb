{
 "metadata": {
  "language_info": {
   "codemirror_mode": {
    "name": "ipython",
    "version": 3
   },
   "file_extension": ".py",
   "mimetype": "text/x-python",
   "name": "python",
   "nbconvert_exporter": "python",
   "pygments_lexer": "ipython3",
   "version": "3.8.5-final"
  },
  "orig_nbformat": 2,
  "kernelspec": {
   "name": "python3",
   "display_name": "Python 3.8.5 64-bit ('.maestro': venv)",
   "metadata": {
    "interpreter": {
     "hash": "5cf277a4ec1d7681f7d0dd7a91601f45b893318ad512e3543f7a4db7d6fbbadf"
    }
   }
  }
 },
 "nbformat": 4,
 "nbformat_minor": 2,
 "cells": [
  {
   "cell_type": "code",
   "execution_count": 1,
   "metadata": {},
   "outputs": [],
   "source": [
    "import dagster\n",
    "import sys\n",
    "sys.path.append(\"/home/lmoraes/maestro/\")\n",
    "# import repositories.capturas.br_rj_riodejaneiro_onibus_gps.registros as pipeline\n",
    "# import repositories.capturas.br_rj_riodejaneiro_brt_rdo.registros as pipeline\n",
    "from repositories.helpers.helpers import load_repository\n",
    "import importlib"
   ]
  },
  {
   "cell_type": "code",
   "execution_count": 2,
   "metadata": {},
   "outputs": [
    {
     "output_type": "stream",
     "name": "stdout",
     "text": [
      "repositories.capturas.schedules\n",
      "Importing schedules\n",
      "Imported module repositories.capturas.schedules\n",
      "Imported schedules br_rj_riodejaneiro_brt_gps_registros\n",
      "Imported schedules br_rj_riodejaneiro_onibus_gps_registros\n",
      "repositories.capturas.test_schedules\n",
      "Importing schedules\n",
      "Imported module repositories.capturas.test_schedules\n",
      "Imported schedules test_scheduler\n",
      "repositories.capturas.br_rj_riodejaneiro_brt_gps.registros\n",
      "Importing pipelines\n",
      "Imported module repositories.capturas.br_rj_riodejaneiro_brt_gps.registros\n",
      "Imported pipelines br_rj_riodejaneiro_brt_gps_registros\n",
      "Imported pipelines br_rj_riodejaneiro_brt_gps_registros_init\n",
      "repositories.capturas.br_rj_riodejaneiro_onibus_gps.registros\n",
      "Importing pipelines\n",
      "Imported module repositories.capturas.br_rj_riodejaneiro_onibus_gps.registros\n",
      "Imported pipelines br_rj_riodejaneiro_onibus_gps_registros\n",
      "Imported pipelines br_rj_riodejaneiro_onibus_gps_registros_init\n",
      "repositories.capturas.br_rj_riodejaneiro_brt_gps.test\n",
      "Importing pipelines\n",
      "Imported module repositories.capturas.br_rj_riodejaneiro_brt_gps.test\n",
      "Imported pipelines test_pipeline\n",
      "repositories.capturas.br_rj_riodejaneiro_brt_rdo.registros\n",
      "Importing pipelines\n",
      "Imported module repositories.capturas.br_rj_riodejaneiro_brt_rdo.registros\n",
      "Imported pipelines br_rj_riodejaneiro_brt_rdo_registros\n"
     ]
    },
    {
     "output_type": "execute_result",
     "data": {
      "text/plain": [
       "[<dagster.core.definitions.schedule.ScheduleDefinition at 0x7ff65e357840>,\n",
       " <dagster.core.definitions.schedule.ScheduleDefinition at 0x7ff65e357740>,\n",
       " <dagster.core.definitions.schedule.ScheduleDefinition at 0x7ff65e3579c0>,\n",
       " <dagster.core.definitions.pipeline.PipelineDefinition at 0x7ff63c58c6a0>,\n",
       " <dagster.core.definitions.pipeline.PipelineDefinition at 0x7ff63c58cf70>,\n",
       " <dagster.core.definitions.pipeline.PipelineDefinition at 0x7ff63c52acd0>,\n",
       " <dagster.core.definitions.pipeline.PipelineDefinition at 0x7ff63c54e0d0>,\n",
       " <dagster.core.definitions.pipeline.PipelineDefinition at 0x7ff63c54e910>,\n",
       " <dagster.core.definitions.pipeline.PipelineDefinition at 0x7ff63c008d30>]"
      ]
     },
     "metadata": {},
     "execution_count": 2
    }
   ],
   "source": [
    "repository_list = load_repository(\"/home/lmoraes/maestro/repositories/repository.yaml\")\n",
    "repository_list"
   ]
  },
  {
   "cell_type": "code",
   "execution_count": 5,
   "metadata": {},
   "outputs": [
    {
     "output_type": "error",
     "ename": "ModuleNotFoundError",
     "evalue": "No module named 'openpyxl'",
     "traceback": [
      "\u001b[0;31m---------------------------------------------------------------------------\u001b[0m",
      "\u001b[0;31mModuleNotFoundError\u001b[0m                       Traceback (most recent call last)",
      "\u001b[0;32m<ipython-input-5-b49c3479f06b>\u001b[0m in \u001b[0;36m<module>\u001b[0;34m\u001b[0m\n\u001b[0;32m----> 1\u001b[0;31m \u001b[0mimportlib\u001b[0m\u001b[0;34m.\u001b[0m\u001b[0mimport_module\u001b[0m\u001b[0;34m(\u001b[0m\u001b[0;34m\"repositories.capturas.br_rj_riodejaneiro_brt_rdo.registros\"\u001b[0m\u001b[0;34m)\u001b[0m\u001b[0;34m\u001b[0m\u001b[0;34m\u001b[0m\u001b[0m\n\u001b[0m",
      "\u001b[0;32m/usr/lib/python3.8/importlib/__init__.py\u001b[0m in \u001b[0;36mimport_module\u001b[0;34m(name, package)\u001b[0m\n\u001b[1;32m    125\u001b[0m                 \u001b[0;32mbreak\u001b[0m\u001b[0;34m\u001b[0m\u001b[0;34m\u001b[0m\u001b[0m\n\u001b[1;32m    126\u001b[0m             \u001b[0mlevel\u001b[0m \u001b[0;34m+=\u001b[0m \u001b[0;36m1\u001b[0m\u001b[0;34m\u001b[0m\u001b[0;34m\u001b[0m\u001b[0m\n\u001b[0;32m--> 127\u001b[0;31m     \u001b[0;32mreturn\u001b[0m \u001b[0m_bootstrap\u001b[0m\u001b[0;34m.\u001b[0m\u001b[0m_gcd_import\u001b[0m\u001b[0;34m(\u001b[0m\u001b[0mname\u001b[0m\u001b[0;34m[\u001b[0m\u001b[0mlevel\u001b[0m\u001b[0;34m:\u001b[0m\u001b[0;34m]\u001b[0m\u001b[0;34m,\u001b[0m \u001b[0mpackage\u001b[0m\u001b[0;34m,\u001b[0m \u001b[0mlevel\u001b[0m\u001b[0;34m)\u001b[0m\u001b[0;34m\u001b[0m\u001b[0;34m\u001b[0m\u001b[0m\n\u001b[0m\u001b[1;32m    128\u001b[0m \u001b[0;34m\u001b[0m\u001b[0m\n\u001b[1;32m    129\u001b[0m \u001b[0;34m\u001b[0m\u001b[0m\n",
      "\u001b[0;32m/usr/lib/python3.8/importlib/_bootstrap.py\u001b[0m in \u001b[0;36m_gcd_import\u001b[0;34m(name, package, level)\u001b[0m\n",
      "\u001b[0;32m/usr/lib/python3.8/importlib/_bootstrap.py\u001b[0m in \u001b[0;36m_find_and_load\u001b[0;34m(name, import_)\u001b[0m\n",
      "\u001b[0;32m/usr/lib/python3.8/importlib/_bootstrap.py\u001b[0m in \u001b[0;36m_find_and_load_unlocked\u001b[0;34m(name, import_)\u001b[0m\n",
      "\u001b[0;32m/usr/lib/python3.8/importlib/_bootstrap.py\u001b[0m in \u001b[0;36m_load_unlocked\u001b[0;34m(spec)\u001b[0m\n",
      "\u001b[0;32m/usr/lib/python3.8/importlib/_bootstrap_external.py\u001b[0m in \u001b[0;36mexec_module\u001b[0;34m(self, module)\u001b[0m\n",
      "\u001b[0;32m/usr/lib/python3.8/importlib/_bootstrap.py\u001b[0m in \u001b[0;36m_call_with_frames_removed\u001b[0;34m(f, *args, **kwds)\u001b[0m\n",
      "\u001b[0;32m~/maestro/repositories/capturas/br_rj_riodejaneiro_brt_rdo/registros.py\u001b[0m in \u001b[0;36m<module>\u001b[0;34m\u001b[0m\n\u001b[1;32m     13\u001b[0m \u001b[0;32mimport\u001b[0m \u001b[0mpandas\u001b[0m \u001b[0;32mas\u001b[0m \u001b[0mpd\u001b[0m\u001b[0;34m\u001b[0m\u001b[0;34m\u001b[0m\u001b[0m\n\u001b[1;32m     14\u001b[0m \u001b[0;32mimport\u001b[0m \u001b[0mpendulum\u001b[0m\u001b[0;34m\u001b[0m\u001b[0;34m\u001b[0m\u001b[0m\n\u001b[0;32m---> 15\u001b[0;31m \u001b[0;32mfrom\u001b[0m \u001b[0mopenpyxl\u001b[0m \u001b[0;32mimport\u001b[0m \u001b[0mload_workbook\u001b[0m\u001b[0;34m\u001b[0m\u001b[0;34m\u001b[0m\u001b[0m\n\u001b[0m\u001b[1;32m     16\u001b[0m \u001b[0;34m\u001b[0m\u001b[0m\n\u001b[1;32m     17\u001b[0m \u001b[0;32mimport\u001b[0m \u001b[0mbasedosdados\u001b[0m \u001b[0;32mas\u001b[0m \u001b[0mbd\u001b[0m\u001b[0;34m\u001b[0m\u001b[0;34m\u001b[0m\u001b[0m\n",
      "\u001b[0;31mModuleNotFoundError\u001b[0m: No module named 'openpyxl'"
     ]
    }
   ],
   "source": [
    "importlib.import_module(\"repositories.capturas.br_rj_riodejaneiro_brt_rdo.registros\")"
   ]
  }
 ]
}