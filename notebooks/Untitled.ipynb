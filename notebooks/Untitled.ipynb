{
 "cells": [
  {
   "cell_type": "code",
   "execution_count": 184,
   "id": "light-facility",
   "metadata": {},
   "outputs": [],
   "source": [
    "import requests\n",
    "import pandas as pd\n",
    "import basedosdados as bd\n",
    "import datetime\n",
    "import json\n",
    "from pathlib import Path"
   ]
  },
  {
   "cell_type": "code",
   "execution_count": 169,
   "id": "weekly-elevation",
   "metadata": {},
   "outputs": [],
   "source": [
    "a = f'{{mode}}'"
   ]
  },
  {
   "cell_type": "code",
   "execution_count": null,
   "id": "quick-improvement",
   "metadata": {},
   "outputs": [],
   "source": []
  },
  {
   "cell_type": "code",
   "execution_count": null,
   "id": "general-bradford",
   "metadata": {},
   "outputs": [],
   "source": []
  },
  {
   "cell_type": "code",
   "execution_count": 189,
   "id": "romance-plenty",
   "metadata": {},
   "outputs": [],
   "source": [
    "dataset_id = 'br_rj_riodejaneiro_brt_gps'\n",
    "table_id = 'registros'\n",
    "url = \"http://webapibrt.rio.rj.gov.br/api/v1/brt\"\n",
    "\n",
    "def get_file_path_and_partitions():\n",
    "    \n",
    "    capture_time = datetime.datetime.now()\n",
    "    date = capture_time.strftime('%Y-%m-%d')\n",
    "    hour = capture_time.strftime('%H')\n",
    "    filename = capture_time.strftime('%Y-%m-%d-%H-%m-%S')\n",
    "    \n",
    "    partitions = f'data={date}/hora={hour}'\n",
    "    \n",
    "    file_path = f\"../data/{{mode}}/{dataset_id}/{table_id}/{partitions}/{filename}.{{filetype}}\"\n",
    "    \n",
    "    return file_path, partitions\n",
    "\n",
    "def get_raw(url):\n",
    "    \n",
    "    data = requests.get(url)\n",
    "    \n",
    "    if data.ok:\n",
    "        return data\n",
    "    else:\n",
    "        raise Exception('Requests failed with error {data.status_code}')\n",
    "        \n",
    "def pre_treatment(data):\n",
    "    \n",
    "    data = data.json()\n",
    "    df = pd.DataFrame(content['veiculos'])\n",
    "    df['timestamp_captura'] = datetime.datetime.now()\n",
    "    df['dataHora'] = df['dataHora'].apply(lambda ms: datetime.datetime.fromtimestamp(ms/1000.0))\n",
    "    \n",
    "    return df\n",
    "\n",
    "def save_raw_local(data, file_path, mode='raw'):\n",
    "    \n",
    "    _file_path = file_path.format(mode=mode, filetype='json')\n",
    "    Path(_file_path).parent.mkdir(parents=True, exist_ok=True)\n",
    "    json.dump(data.json(), Path(_file_path).open('w'))\n",
    "\n",
    "def save_treated_local(df, file_path, mode='staging'):\n",
    "    \n",
    "    _file_path = file_path.format(mode=mode, filetype='csv')\n",
    "    Path(_file_path).parent.mkdir(parents=True, exist_ok=True)\n",
    "    df.to_csv(_file_path, index=False)\n",
    "    \n",
    "def upload_to_bigquery(dataset_id, table_id, partitions, mode='staging'):\n",
    "    \n",
    "    _file_path = file_path.format(mode=mode, filetype='csv')\n",
    "    \n",
    "    st = bd.Storage(dataset_id=dataset_id, table_id=table_id)\n",
    "    st.upload(_file_path, partitions=partitions, mode='staging')"
   ]
  },
  {
   "cell_type": "code",
   "execution_count": 190,
   "id": "solar-multiple",
   "metadata": {},
   "outputs": [
    {
     "name": "stderr",
     "output_type": "stream",
     "text": [
      "Uploading files: 100%|██████████| 1/1 [00:05<00:00,  5.09s/it]\n"
     ]
    }
   ],
   "source": [
    "# CAPTURA\n",
    "\n",
    "file_path, partitions = get_file_path_and_partitions()\n",
    "\n",
    "data = get_raw(url)\n",
    "\n",
    "save_raw_local(data, file_path)\n",
    "\n",
    "treated_data = pre_treatment(data)\n",
    "\n",
    "save_treated_local(treated_data, file_path)\n",
    "\n",
    "upload_to_bigquery(dataset_id, table_id, partitions)"
   ]
  },
  {
   "cell_type": "code",
   "execution_count": 207,
   "id": "martial-floating",
   "metadata": {},
   "outputs": [
    {
     "data": {
      "text/plain": [
       "200"
      ]
     },
     "execution_count": 207,
     "metadata": {},
     "output_type": "execute_result"
    }
   ],
   "source": [
    "data.status_code"
   ]
  },
  {
   "cell_type": "code",
   "execution_count": null,
   "id": "mighty-profession",
   "metadata": {},
   "outputs": [],
   "source": [
    "# PRIMEIRA VEZ"
   ]
  },
  {
   "cell_type": "code",
   "execution_count": 210,
   "id": "rough-assistant",
   "metadata": {},
   "outputs": [
    {
     "name": "stderr",
     "output_type": "stream",
     "text": [
      "Uploading files: 100%|██████████| 3/3 [00:02<00:00,  1.19it/s]\n"
     ]
    }
   ],
   "source": [
    "file_path, partitions = get_file_path_and_partitions()\n",
    "\n",
    "data = get_raw(url)\n",
    "\n",
    "save_raw_local(data, file_path)\n",
    "\n",
    "treated_data = pre_treatment(data)\n",
    "\n",
    "save_treated_local(treated_data, file_path)\n",
    "\n",
    "create_table_bq(dataset_id, table_id, file_path)"
   ]
  },
  {
   "cell_type": "code",
   "execution_count": 200,
   "id": "supreme-variety",
   "metadata": {},
   "outputs": [],
   "source": [
    "def create_table_bq(dataset_id, table_id, file_path, mode='staging'):\n",
    "    \n",
    "    _file_path = Path(file_path.format(mode=mode, filetype='csv'))\n",
    "    \n",
    "    tb = bd.Table(dataset_id=dataset_id, table_id=table_id)\n",
    "    tb.create(path=_file_path.parent.parent.parent, partitioned=True, \n",
    "              if_table_exists='replace', \n",
    "              if_storage_data_exists='replace',\n",
    "              if_table_config_exists='pass')\n",
    "    tb.publish()"
   ]
  },
  {
   "cell_type": "code",
   "execution_count": 204,
   "id": "lesser-joint",
   "metadata": {},
   "outputs": [],
   "source": [
    "tb.update()"
   ]
  },
  {
   "cell_type": "code",
   "execution_count": 208,
   "id": "surprising-tradition",
   "metadata": {},
   "outputs": [],
   "source": [
    "st = bd.Storage(dataset_id=dataset_id, table_id=table_id)\n",
    "st.delete_table()"
   ]
  },
  {
   "cell_type": "code",
   "execution_count": 209,
   "id": "designed-province",
   "metadata": {},
   "outputs": [
    {
     "data": {
      "text/plain": [
       "'../data/{mode}/br_rj_riodejaneiro_brt_gps/registros/data=2021-02-24/hora=15/2021-02-24-15-02-56.{filetype}'"
      ]
     },
     "execution_count": 209,
     "metadata": {},
     "output_type": "execute_result"
    }
   ],
   "source": [
    "file_path"
   ]
  },
  {
   "cell_type": "code",
   "execution_count": null,
   "id": "varied-wells",
   "metadata": {},
   "outputs": [],
   "source": [
    "create_table_bq(dataset_id, table_id, file_path)"
   ]
  }
 ],
 "metadata": {
  "kernelspec": {
   "display_name": "maestro",
   "language": "python",
   "name": "maestro"
  },
  "language_info": {
   "codemirror_mode": {
    "name": "ipython",
    "version": 3
   },
   "file_extension": ".py",
   "mimetype": "text/x-python",
   "name": "python",
   "nbconvert_exporter": "python",
   "pygments_lexer": "ipython3",
   "version": "3.6.2"
  }
 },
 "nbformat": 4,
 "nbformat_minor": 5
}
