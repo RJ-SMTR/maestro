{
 "metadata": {
  "language_info": {
   "codemirror_mode": {
    "name": "ipython",
    "version": 3
   },
   "file_extension": ".py",
   "mimetype": "text/x-python",
   "name": "python",
   "nbconvert_exporter": "python",
   "pygments_lexer": "ipython3",
   "version": "3.8.5-final"
  },
  "orig_nbformat": 2,
  "kernelspec": {
   "name": "python3",
   "display_name": "Python 3.8.5 64-bit ('maestro')",
   "metadata": {
    "interpreter": {
     "hash": "967e0ad8f74b4223479a99dc6f7efc25e752c369d3f31683542303dbaeb6ed17"
    }
   }
  }
 },
 "nbformat": 4,
 "nbformat_minor": 2,
 "cells": [
  {
   "cell_type": "code",
   "execution_count": 11,
   "metadata": {},
   "outputs": [],
   "source": [
    "import dagster\n",
    "import sys\n",
    "sys.path.append(\"/home/lmoraes/maestro/\")\n",
    "# import repositories.capturas.br_rj_riodejaneiro_onibus_gps.registros as pipeline\n",
    "import repositories.capturas.br_rj_riodejaneiro_brt_gps.test as pipeline\n",
    "from repositories.helpers.helpers import read_config\n",
    "import os"
   ]
  },
  {
   "cell_type": "code",
   "execution_count": null,
   "metadata": {},
   "outputs": [],
   "source": [
    "os.environ[\"MODE\"]"
   ]
  },
  {
   "cell_type": "code",
   "execution_count": 12,
   "metadata": {},
   "outputs": [],
   "source": [
    "config = read_config(\"/home/lmoraes/maestro/repositories/capturas/br_rj_riodejaneiro_brt_gps/test_config_dev.yaml\")\n",
    "config[\"resources\"][\"timezone_config\"][\"config\"][\"timezone\"] = \"America/Sao_Paulo\""
   ]
  },
  {
   "cell_type": "code",
   "execution_count": 13,
   "metadata": {},
   "outputs": [
    {
     "output_type": "stream",
     "name": "stderr",
     "text": [
      "2021-03-16 19:06:11 - dagster - DEBUG - test_pipeline - e9ece8f0-c175-4a46-8460-221a2a86c80f - 12076 - test_solid - ENGINE_EVENT - Starting initialization of resources [discord_webhook, io_manager, table_config, timezone_config].\n",
      "2021-03-16 19:06:11 - dagster - DEBUG - test_pipeline - e9ece8f0-c175-4a46-8460-221a2a86c80f - 12076 - test_solid - ENGINE_EVENT - Finished initialization of resources [discord_webhook, io_manager, table_config, timezone_config].\n",
      "2021-03-16 19:06:11 - dagster - DEBUG - test_pipeline - e9ece8f0-c175-4a46-8460-221a2a86c80f - 12076 - PIPELINE_START - Started execution of pipeline \"test_pipeline\".\n",
      "2021-03-16 19:06:11 - dagster - DEBUG - test_pipeline - e9ece8f0-c175-4a46-8460-221a2a86c80f - 12076 - ENGINE_EVENT - Executing steps in process (pid: 12076)\n",
      "2021-03-16 19:06:11 - dagster - DEBUG - test_pipeline - e9ece8f0-c175-4a46-8460-221a2a86c80f - 12076 - test_solid - STEP_START - Started execution of step \"test_solid\".\n",
      "2021-03-16 19:06:11 - dagster - DEBUG - test_pipeline - e9ece8f0-c175-4a46-8460-221a2a86c80f - 12076 - test_solid - STEP_INPUT - Got input \"filename\" of type \"String\". (Type check passed).\n",
      "2021-03-16 19:06:11 - dagster - INFO - system - e9ece8f0-c175-4a46-8460-221a2a86c80f - test_solid - br_rj_riodejaneiro_brt_gps\n",
      "2021-03-16 19:06:11 - dagster - INFO - system - e9ece8f0-c175-4a46-8460-221a2a86c80f - test_solid - gato\n",
      "2021-03-16 19:06:11 - dagster - INFO - system - e9ece8f0-c175-4a46-8460-221a2a86c80f - test_solid - processing data for America/Sao_Paulo\n",
      "2021-03-16 19:06:11 - dagster - INFO - system - e9ece8f0-c175-4a46-8460-221a2a86c80f - test_solid - processing data for 2021-03-16T19:06:11.089269-03:00\n",
      "2021-03-16 19:26:11 - dagster - INFO - system - e9ece8f0-c175-4a46-8460-221a2a86c80f - test_solid - waking-up\n",
      "2021-03-16 19:26:11 - dagster - DEBUG - test_pipeline - e9ece8f0-c175-4a46-8460-221a2a86c80f - 12076 - test_solid - STEP_OUTPUT - Yielded output \"result\" of type \"Any\". (Type check passed).\n",
      "2021-03-16 19:26:11 - dagster - DEBUG - test_pipeline - e9ece8f0-c175-4a46-8460-221a2a86c80f - 12076 - test_solid - HANDLED_OUTPUT - Handled output \"result\" using output manager \"io_manager\"\n",
      "2021-03-16 19:26:11 - dagster - DEBUG - test_pipeline - e9ece8f0-c175-4a46-8460-221a2a86c80f - 12076 - test_solid - STEP_SUCCESS - Finished execution of step \"test_solid\" in 20m0s.\n",
      "2021-03-16 19:26:11 - dagster - DEBUG - test_pipeline - e9ece8f0-c175-4a46-8460-221a2a86c80f - test_solid - HOOK_COMPLETED - Finished the execution of hook \"discord_message_on_success\" triggered for solid \"test_solid\".\n",
      "2021-03-16 19:26:11 - dagster - DEBUG - test_pipeline - e9ece8f0-c175-4a46-8460-221a2a86c80f - test_solid - HOOK_SKIPPED - Skipped the execution of hook \"discord_message_on_failure\". It did not meet its triggering condition during the execution of solid \"test_solid\".\n",
      "2021-03-16 19:26:11 - dagster - DEBUG - test_pipeline - e9ece8f0-c175-4a46-8460-221a2a86c80f - 12076 - ENGINE_EVENT - Finished steps in process (pid: 12076) in 20m0s\n",
      "2021-03-16 19:26:11 - dagster - DEBUG - test_pipeline - e9ece8f0-c175-4a46-8460-221a2a86c80f - 12076 - PIPELINE_SUCCESS - Finished execution of pipeline \"test_pipeline\".\n"
     ]
    },
    {
     "output_type": "execute_result",
     "data": {
      "text/plain": [
       "<dagster.core.execution.results.PipelineExecutionResult at 0x7f0ca863bee0>"
      ]
     },
     "metadata": {},
     "execution_count": 13
    }
   ],
   "source": [
    "dagster.execute_pipeline(pipeline.test_pipeline,\n",
    "                         run_config = config,\n",
    "                         mode=\"dev\")"
   ]
  },
  {
   "cell_type": "code",
   "execution_count": 4,
   "metadata": {},
   "outputs": [
    {
     "output_type": "stream",
     "name": "stdout",
     "text": [
      "alembic==1.5.5\naniso8601==7.0.0\nattrs==20.3.0\nbackcall==0.2.0\nbasedosdados==1.4.5\nbleach==3.3.0\ncachetools==4.2.1\ncertifi==2020.12.5\ncffi==1.14.5\nchardet==4.0.0\nclick==7.1.2\ncoloredlogs==14.0\ncroniter==1.0.7\ndagit==0.10.8\ndagster==0.10.8\ndagster-graphql==0.10.8\ndecorator==4.4.2\ndefusedxml==0.7.0\ndocstring-parser==0.7.1\nentrypoints==0.3\nFlask==1.1.2\nFlask-Cors==3.0.10\nFlask-GraphQL==2.0.1\nFlask-Sockets==0.2.1\nfuture==0.18.2\ngevent==21.1.2\ngevent-websocket==0.10.1\ngoogle-api-core==1.26.1\ngoogle-auth==1.27.1\ngoogle-auth-oauthlib==0.4.3\ngoogle-cloud-bigquery==1.28.0\ngoogle-cloud-bigquery-storage==1.1.0\ngoogle-cloud-core==1.6.0\ngoogle-cloud-storage==1.31.2\ngoogle-crc32c==1.1.2\ngoogle-resumable-media==1.2.0\ngoogleapis-common-protos==1.53.0\ngraphene==2.1.8\ngraphql-core==2.3.2\ngraphql-relay==2.0.1\ngraphql-server-core==1.2.0\ngraphql-ws==0.3.1\ngreenlet==1.0.0\ngrpcio==1.36.1\ngrpcio-health-checking==1.36.1\nhumanfriendly==9.1\nidna==2.10\nipykernel==5.5.0\nipython==7.21.0\nipython-genutils==0.2.0\nitsdangerous==1.1.0\njedi==0.18.0\nJinja2==2.11.3\njsonschema==3.2.0\njupyter-client==6.1.11\njupyter-core==4.7.1\nMako==1.1.4\nMarkupSafe==1.1.1\nmistune==0.8.4\nnatsort==7.1.1\nnbconvert==5.6.1\nnbformat==5.1.2\nnumpy==1.20.1\noauthlib==3.1.0\npackaging==20.9\npandas==1.2.3\npandas-gbq==0.13.2\npandocfilters==1.4.3\nparso==0.8.1\npendulum==2.1.2\npexpect==4.8.0\npickleshare==0.7.5\npromise==2.3\nprompt-toolkit==3.0.16\nprotobuf==3.15.5\nptyprocess==0.7.0\npyaml==20.4.0\npyasn1==0.4.8\npyasn1-modules==0.2.8\npycparser==2.20\npydata-google-auth==1.1.0\nPygments==2.8.0\npyparsing==2.4.7\npyrsistent==0.17.3\npython-dateutil==2.8.1\npython-editor==1.0.4\npytz==2020.5\npytzdata==2020.1\nPyYAML==5.4.1\npyzmq==22.0.3\nrequests==2.25.1\nrequests-oauthlib==1.3.0\nrsa==4.7.2\nRx==1.6.1\nsix==1.15.0\nSQLAlchemy==1.3.23\ntabulate==0.8.9\ntestpath==0.4.4\ntomlkit==0.7.0\ntoposort==1.6\ntornado==6.1\ntqdm==4.58.0\ntraitlets==5.0.5\nurllib3==1.26.3\nwatchdog==2.0.2\nwcwidth==0.2.5\nwebencodings==0.5.1\nWerkzeug==1.0.1\nzope.event==4.5.0\nzope.interface==5.2.0\n"
     ]
    }
   ],
   "source": [
    "!pip freeze"
   ]
  }
 ]
}