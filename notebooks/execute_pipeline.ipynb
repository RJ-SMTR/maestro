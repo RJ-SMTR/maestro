{
 "metadata": {
  "language_info": {
   "codemirror_mode": {
    "name": "ipython",
    "version": 3
   },
   "file_extension": ".py",
   "mimetype": "text/x-python",
   "name": "python",
   "nbconvert_exporter": "python",
   "pygments_lexer": "ipython3",
   "version": "3.8.5-final"
  },
  "orig_nbformat": 2,
  "kernelspec": {
   "name": "python385jvsc74a57bd0967e0ad8f74b4223479a99dc6f7efc25e752c369d3f31683542303dbaeb6ed17",
   "display_name": "Python 3.8.5 64-bit ('maestro')"
  }
 },
 "nbformat": 4,
 "nbformat_minor": 2,
 "cells": [
  {
   "cell_type": "code",
   "execution_count": 2,
   "metadata": {},
   "outputs": [],
   "source": [
    "import dagster\n",
    "import sys\n",
    "sys.path.append(\"/home/lmoraes/maestro/\")\n",
    "# import repositories.capturas.br_rj_riodejaneiro_onibus_gps.registros as pipeline\n",
    "# import repositories.capturas.br_rj_riodejaneiro_onibus_rdo.registros as pipeline\n",
    "import repositories.capturas.br_rj_riodejaneiro_rdo.registros as pipeline\n",
    "from repositories.helpers.helpers import read_config\n",
    "import os"
   ]
  },
  {
   "cell_type": "code",
   "execution_count": 2,
   "metadata": {},
   "outputs": [
    {
     "output_type": "error",
     "ename": "NameError",
     "evalue": "name 'read_config' is not defined",
     "traceback": [
      "\u001b[0;31m---------------------------------------------------------------------------\u001b[0m",
      "\u001b[0;31mNameError\u001b[0m                                 Traceback (most recent call last)",
      "\u001b[0;32m<ipython-input-2-5325919e96dd>\u001b[0m in \u001b[0;36m<module>\u001b[0;34m\u001b[0m\n\u001b[0;32m----> 1\u001b[0;31m \u001b[0mconfig\u001b[0m \u001b[0;34m=\u001b[0m \u001b[0mread_config\u001b[0m\u001b[0;34m(\u001b[0m\u001b[0;34m\"/home/lmoraes/maestro/repositories/capturas/br_rj_riodejaneiro_rdo/registros_rdo5.yaml\"\u001b[0m\u001b[0;34m)\u001b[0m\u001b[0;34m\u001b[0m\u001b[0;34m\u001b[0m\u001b[0m\n\u001b[0m\u001b[1;32m      2\u001b[0m \u001b[0;31m# config = read_config(\"/home/lmoraes/maestro/repositories/capturas/br_rj_riodejaneiro_onibus_rdo/registros.yaml\")\u001b[0m\u001b[0;34m\u001b[0m\u001b[0;34m\u001b[0m\u001b[0;34m\u001b[0m\u001b[0m\n\u001b[1;32m      3\u001b[0m \u001b[0mconfig\u001b[0m\u001b[0;34m[\u001b[0m\u001b[0;34m\"resources\"\u001b[0m\u001b[0;34m]\u001b[0m\u001b[0;34m[\u001b[0m\u001b[0;34m\"timezone_config\"\u001b[0m\u001b[0;34m]\u001b[0m\u001b[0;34m[\u001b[0m\u001b[0;34m\"config\"\u001b[0m\u001b[0;34m]\u001b[0m\u001b[0;34m[\u001b[0m\u001b[0;34m\"timezone\"\u001b[0m\u001b[0;34m]\u001b[0m \u001b[0;34m=\u001b[0m \u001b[0;34m\"America/Sao_Paulo\"\u001b[0m\u001b[0;34m\u001b[0m\u001b[0;34m\u001b[0m\u001b[0m\n\u001b[1;32m      4\u001b[0m \u001b[0;32mdel\u001b[0m \u001b[0mconfig\u001b[0m\u001b[0;34m[\u001b[0m\u001b[0;34m\"solids\"\u001b[0m\u001b[0;34m]\u001b[0m\u001b[0;34m[\u001b[0m\u001b[0;34m\"upload_to_bigquery\"\u001b[0m\u001b[0;34m]\u001b[0m\u001b[0;34m\u001b[0m\u001b[0;34m\u001b[0m\u001b[0m\n\u001b[1;32m      5\u001b[0m \u001b[0mconfig\u001b[0m\u001b[0;34m\u001b[0m\u001b[0;34m\u001b[0m\u001b[0m\n",
      "\u001b[0;31mNameError\u001b[0m: name 'read_config' is not defined"
     ]
    }
   ],
   "source": [
    "config = read_config(\"/home/lmoraes/maestro/repositories/capturas/br_rj_riodejaneiro_rdo/registros_rdo5.yaml\")\n",
    "# config = read_config(\"/home/lmoraes/maestro/repositories/capturas/br_rj_riodejaneiro_onibus_rdo/registros.yaml\")\n",
    "config[\"resources\"][\"timezone_config\"][\"config\"][\"timezone\"] = \"America/Sao_Paulo\"\n",
    "del config[\"solids\"][\"upload_to_bigquery\"]\n",
    "config"
   ]
  },
  {
   "cell_type": "code",
   "execution_count": 6,
   "metadata": {
    "tags": []
   },
   "outputs": [
    {
     "output_type": "stream",
     "name": "stderr",
     "text": [
      "2021-04-06 16:15:42 - dagster - DEBUG - hello_world_pipeline - 205e8859-07af-4bc5-869b-e5825ef58988 - 11492 - hello_world - ENGINE_EVENT - Starting initialization of resources [io_manager].\n",
      "2021-04-06 16:15:42 - dagster - DEBUG - hello_world_pipeline - 205e8859-07af-4bc5-869b-e5825ef58988 - 11492 - hello_world - ENGINE_EVENT - Finished initialization of resources [io_manager].\n",
      "2021-04-06 16:15:42 - dagster - DEBUG - hello_world_pipeline - 205e8859-07af-4bc5-869b-e5825ef58988 - 11492 - PIPELINE_START - Started execution of pipeline \"hello_world_pipeline\".\n",
      "2021-04-06 16:15:42 - dagster - DEBUG - hello_world_pipeline - 205e8859-07af-4bc5-869b-e5825ef58988 - 11492 - ENGINE_EVENT - Executing steps in process (pid: 11492)\n",
      "2021-04-06 16:15:42 - dagster - DEBUG - hello_world_pipeline - 205e8859-07af-4bc5-869b-e5825ef58988 - 11492 - hello_world - STEP_START - Started execution of step \"hello_world\".\n",
      "2021-04-06 16:15:42 - dagster - DEBUG - hello_world_pipeline - 205e8859-07af-4bc5-869b-e5825ef58988 - 11492 - hello_world - STEP_INPUT - Got input \"file_path\" of type \"Any\". (Type check passed).\n",
      "2021-04-06 16:15:42 - dagster - DEBUG - system - 205e8859-07af-4bc5-869b-e5825ef58988 - hello_world - Got file OI\n",
      "2021-04-06 16:15:42 - dagster - DEBUG - hello_world_pipeline - 205e8859-07af-4bc5-869b-e5825ef58988 - 11492 - hello_world - STEP_OUTPUT - Yielded output \"result\" of type \"Any\". (Type check passed).\n",
      "2021-04-06 16:15:42 - dagster - DEBUG - hello_world_pipeline - 205e8859-07af-4bc5-869b-e5825ef58988 - 11492 - hello_world - HANDLED_OUTPUT - Handled output \"result\" using output manager \"io_manager\"\n",
      "2021-04-06 16:15:42 - dagster - DEBUG - hello_world_pipeline - 205e8859-07af-4bc5-869b-e5825ef58988 - 11492 - hello_world - STEP_SUCCESS - Finished execution of step \"hello_world\" in 6.88ms.\n",
      "2021-04-06 16:15:42 - dagster - DEBUG - hello_world_pipeline - 205e8859-07af-4bc5-869b-e5825ef58988 - 11492 - ENGINE_EVENT - Finished steps in process (pid: 11492) in 12ms\n",
      "2021-04-06 16:15:42 - dagster - DEBUG - hello_world_pipeline - 205e8859-07af-4bc5-869b-e5825ef58988 - 11492 - PIPELINE_SUCCESS - Finished execution of pipeline \"hello_world_pipeline\".\n"
     ]
    }
   ],
   "source": [
    "result = dagster.execute_pipeline(pipeline.hello_world_pipeline,\n",
    "                         run_config = {\"solids\": {\"hello_world\": {\"inputs\": {\"file_path\": {\"value\": \"OI\"}}}}},\n",
    "                         mode=\"default\")"
   ]
  },
  {
   "cell_type": "code",
   "execution_count": 6,
   "metadata": {},
   "outputs": [
    {
     "output_type": "stream",
     "name": "stderr",
     "text": [
      "2021-04-01 13:43:05 - dagster - DEBUG - br_rj_riodejaneiro_onibus_rdo_registros - 25365972-649f-4dd9-9c53-8fbe3c8c670c - 1788 - ENGINE_EVENT - Starting initialization of resources [basedosdados_config, discord_webhook, io_manager, timezone_config].\n",
      "2021-04-01 13:43:05 - dagster - DEBUG - br_rj_riodejaneiro_onibus_rdo_registros - 25365972-649f-4dd9-9c53-8fbe3c8c670c - 1788 - ENGINE_EVENT - Finished initialization of resources [basedosdados_config, discord_webhook, io_manager, timezone_config].\n"
     ]
    },
    {
     "output_type": "execute_result",
     "data": {
      "text/plain": [
       "'/home/lmoraes/maestro/notebooks/data/raw/br_rj_riodejaneiro_rdo/onibus_rdo40_registros/ano=2021/mes=01/2021_-_01_-_JANEIRO.csv'"
      ]
     },
     "metadata": {},
     "execution_count": 6
    }
   ],
   "source": [
    "file_path = result.output_for_solid('get_file_from_storage')\n",
    "file_path"
   ]
  },
  {
   "cell_type": "code",
   "execution_count": 7,
   "metadata": {},
   "outputs": [
    {
     "output_type": "error",
     "ename": "CheckError",
     "evalue": "Invariant failed. Description: br_rj_riodejaneiro_onibus_rdo_registros has no solid named get_headers.",
     "traceback": [
      "\u001b[0;31m---------------------------------------------------------------------------\u001b[0m",
      "\u001b[0;31mCheckError\u001b[0m                                Traceback (most recent call last)",
      "\u001b[0;32m<ipython-input-7-0a25a7f03857>\u001b[0m in \u001b[0;36m<module>\u001b[0;34m\u001b[0m\n\u001b[0;32m----> 1\u001b[0;31m \u001b[0moriginal_header\u001b[0m \u001b[0;34m=\u001b[0m \u001b[0mresult\u001b[0m\u001b[0;34m.\u001b[0m\u001b[0moutput_for_solid\u001b[0m\u001b[0;34m(\u001b[0m\u001b[0;34m'get_headers'\u001b[0m\u001b[0;34m,\u001b[0m \u001b[0;34m'original_header'\u001b[0m\u001b[0;34m)\u001b[0m\u001b[0;34m\u001b[0m\u001b[0;34m\u001b[0m\u001b[0m\n\u001b[0m\u001b[1;32m      2\u001b[0m \u001b[0mcolumn_mapping\u001b[0m \u001b[0;34m=\u001b[0m \u001b[0mresult\u001b[0m\u001b[0;34m.\u001b[0m\u001b[0moutput_for_solid\u001b[0m\u001b[0;34m(\u001b[0m\u001b[0;34m'get_headers'\u001b[0m\u001b[0;34m,\u001b[0m \u001b[0;34m'column_mapping'\u001b[0m\u001b[0;34m)\u001b[0m\u001b[0;34m\u001b[0m\u001b[0;34m\u001b[0m\u001b[0m\n\u001b[1;32m      3\u001b[0m \u001b[0mordered_header\u001b[0m \u001b[0;34m=\u001b[0m \u001b[0mresult\u001b[0m\u001b[0;34m.\u001b[0m\u001b[0moutput_for_solid\u001b[0m\u001b[0;34m(\u001b[0m\u001b[0;34m'get_headers'\u001b[0m\u001b[0;34m,\u001b[0m \u001b[0;34m'ordered_header'\u001b[0m\u001b[0;34m)\u001b[0m\u001b[0;34m\u001b[0m\u001b[0;34m\u001b[0m\u001b[0m\n",
      "\u001b[0;32m~/.pyenv/versions/maestro/lib/python3.8/site-packages/dagster/core/execution/results.py\u001b[0m in \u001b[0;36moutput_for_solid\u001b[0;34m(self, handle_str, output_name)\u001b[0m\n\u001b[1;32m     84\u001b[0m         \u001b[0mcheck\u001b[0m\u001b[0;34m.\u001b[0m\u001b[0mstr_param\u001b[0m\u001b[0;34m(\u001b[0m\u001b[0mhandle_str\u001b[0m\u001b[0;34m,\u001b[0m \u001b[0;34m\"handle_str\"\u001b[0m\u001b[0;34m)\u001b[0m\u001b[0;34m\u001b[0m\u001b[0;34m\u001b[0m\u001b[0m\n\u001b[1;32m     85\u001b[0m         \u001b[0mcheck\u001b[0m\u001b[0;34m.\u001b[0m\u001b[0mstr_param\u001b[0m\u001b[0;34m(\u001b[0m\u001b[0moutput_name\u001b[0m\u001b[0;34m,\u001b[0m \u001b[0;34m\"output_name\"\u001b[0m\u001b[0;34m)\u001b[0m\u001b[0;34m\u001b[0m\u001b[0;34m\u001b[0m\u001b[0m\n\u001b[0;32m---> 86\u001b[0;31m         \u001b[0;32mreturn\u001b[0m \u001b[0mself\u001b[0m\u001b[0;34m.\u001b[0m\u001b[0mresult_for_handle\u001b[0m\u001b[0;34m(\u001b[0m\u001b[0mSolidHandle\u001b[0m\u001b[0;34m.\u001b[0m\u001b[0mfrom_string\u001b[0m\u001b[0;34m(\u001b[0m\u001b[0mhandle_str\u001b[0m\u001b[0;34m)\u001b[0m\u001b[0;34m)\u001b[0m\u001b[0;34m.\u001b[0m\u001b[0moutput_value\u001b[0m\u001b[0;34m(\u001b[0m\u001b[0moutput_name\u001b[0m\u001b[0;34m)\u001b[0m\u001b[0;34m\u001b[0m\u001b[0;34m\u001b[0m\u001b[0m\n\u001b[0m\u001b[1;32m     87\u001b[0m \u001b[0;34m\u001b[0m\u001b[0m\n\u001b[1;32m     88\u001b[0m     \u001b[0;34m@\u001b[0m\u001b[0mproperty\u001b[0m\u001b[0;34m\u001b[0m\u001b[0;34m\u001b[0m\u001b[0m\n",
      "\u001b[0;32m~/.pyenv/versions/maestro/lib/python3.8/site-packages/dagster/core/execution/results.py\u001b[0m in \u001b[0;36mresult_for_handle\u001b[0;34m(self, handle)\u001b[0m\n\u001b[1;32m    147\u001b[0m             \u001b[0mcheck\u001b[0m\u001b[0;34m.\u001b[0m\u001b[0minst_param\u001b[0m\u001b[0;34m(\u001b[0m\u001b[0mhandle\u001b[0m\u001b[0;34m,\u001b[0m \u001b[0;34m\"handle\"\u001b[0m\u001b[0;34m,\u001b[0m \u001b[0mSolidHandle\u001b[0m\u001b[0;34m)\u001b[0m\u001b[0;34m\u001b[0m\u001b[0;34m\u001b[0m\u001b[0m\n\u001b[1;32m    148\u001b[0m \u001b[0;34m\u001b[0m\u001b[0m\n\u001b[0;32m--> 149\u001b[0;31m         \u001b[0msolid\u001b[0m \u001b[0;34m=\u001b[0m \u001b[0mself\u001b[0m\u001b[0;34m.\u001b[0m\u001b[0mcontainer\u001b[0m\u001b[0;34m.\u001b[0m\u001b[0mget_solid\u001b[0m\u001b[0;34m(\u001b[0m\u001b[0mhandle\u001b[0m\u001b[0;34m)\u001b[0m\u001b[0;34m\u001b[0m\u001b[0;34m\u001b[0m\u001b[0m\n\u001b[0m\u001b[1;32m    150\u001b[0m \u001b[0;34m\u001b[0m\u001b[0m\n\u001b[1;32m    151\u001b[0m         \u001b[0;32mreturn\u001b[0m \u001b[0mself\u001b[0m\u001b[0;34m.\u001b[0m\u001b[0m_result_for_handle\u001b[0m\u001b[0;34m(\u001b[0m\u001b[0msolid\u001b[0m\u001b[0;34m,\u001b[0m \u001b[0mhandle\u001b[0m\u001b[0;34m)\u001b[0m\u001b[0;34m\u001b[0m\u001b[0;34m\u001b[0m\u001b[0m\n",
      "\u001b[0;32m~/.pyenv/versions/maestro/lib/python3.8/site-packages/dagster/core/definitions/graph.py\u001b[0m in \u001b[0;36mget_solid\u001b[0;34m(self, handle)\u001b[0m\n\u001b[1;32m    192\u001b[0m \u001b[0;34m\u001b[0m\u001b[0m\n\u001b[1;32m    193\u001b[0m         \u001b[0mname\u001b[0m \u001b[0;34m=\u001b[0m \u001b[0mlineage\u001b[0m\u001b[0;34m.\u001b[0m\u001b[0mpop\u001b[0m\u001b[0;34m(\u001b[0m\u001b[0;34m)\u001b[0m\u001b[0;34m\u001b[0m\u001b[0;34m\u001b[0m\u001b[0m\n\u001b[0;32m--> 194\u001b[0;31m         \u001b[0msolid\u001b[0m \u001b[0;34m=\u001b[0m \u001b[0mself\u001b[0m\u001b[0;34m.\u001b[0m\u001b[0msolid_named\u001b[0m\u001b[0;34m(\u001b[0m\u001b[0mname\u001b[0m\u001b[0;34m)\u001b[0m\u001b[0;34m\u001b[0m\u001b[0;34m\u001b[0m\u001b[0m\n\u001b[0m\u001b[1;32m    195\u001b[0m         \u001b[0;32mwhile\u001b[0m \u001b[0mlineage\u001b[0m\u001b[0;34m:\u001b[0m\u001b[0;34m\u001b[0m\u001b[0;34m\u001b[0m\u001b[0m\n\u001b[1;32m    196\u001b[0m             \u001b[0mname\u001b[0m \u001b[0;34m=\u001b[0m \u001b[0mlineage\u001b[0m\u001b[0;34m.\u001b[0m\u001b[0mpop\u001b[0m\u001b[0;34m(\u001b[0m\u001b[0;34m)\u001b[0m\u001b[0;34m\u001b[0m\u001b[0;34m\u001b[0m\u001b[0m\n",
      "\u001b[0;32m~/.pyenv/versions/maestro/lib/python3.8/site-packages/dagster/core/definitions/graph.py\u001b[0m in \u001b[0;36msolid_named\u001b[0;34m(self, name)\u001b[0m\n\u001b[1;32m    167\u001b[0m         \"\"\"\n\u001b[1;32m    168\u001b[0m         \u001b[0mcheck\u001b[0m\u001b[0;34m.\u001b[0m\u001b[0mstr_param\u001b[0m\u001b[0;34m(\u001b[0m\u001b[0mname\u001b[0m\u001b[0;34m,\u001b[0m \u001b[0;34m\"name\"\u001b[0m\u001b[0;34m)\u001b[0m\u001b[0;34m\u001b[0m\u001b[0;34m\u001b[0m\u001b[0m\n\u001b[0;32m--> 169\u001b[0;31m         check.invariant(\n\u001b[0m\u001b[1;32m    170\u001b[0m             \u001b[0mname\u001b[0m \u001b[0;32min\u001b[0m \u001b[0mself\u001b[0m\u001b[0;34m.\u001b[0m\u001b[0m_solid_dict\u001b[0m\u001b[0;34m,\u001b[0m\u001b[0;34m\u001b[0m\u001b[0;34m\u001b[0m\u001b[0m\n\u001b[1;32m    171\u001b[0m             \u001b[0;34m\"{graph_name} has no solid named {name}.\"\u001b[0m\u001b[0;34m.\u001b[0m\u001b[0mformat\u001b[0m\u001b[0;34m(\u001b[0m\u001b[0mgraph_name\u001b[0m\u001b[0;34m=\u001b[0m\u001b[0mself\u001b[0m\u001b[0;34m.\u001b[0m\u001b[0m_name\u001b[0m\u001b[0;34m,\u001b[0m \u001b[0mname\u001b[0m\u001b[0;34m=\u001b[0m\u001b[0mname\u001b[0m\u001b[0;34m)\u001b[0m\u001b[0;34m,\u001b[0m\u001b[0;34m\u001b[0m\u001b[0;34m\u001b[0m\u001b[0m\n",
      "\u001b[0;32m~/.pyenv/versions/maestro/lib/python3.8/site-packages/dagster/check/__init__.py\u001b[0m in \u001b[0;36minvariant\u001b[0;34m(condition, desc)\u001b[0m\n\u001b[1;32m    166\u001b[0m     \u001b[0;32mif\u001b[0m \u001b[0;32mnot\u001b[0m \u001b[0mcondition\u001b[0m\u001b[0;34m:\u001b[0m\u001b[0;34m\u001b[0m\u001b[0;34m\u001b[0m\u001b[0m\n\u001b[1;32m    167\u001b[0m         \u001b[0;32mif\u001b[0m \u001b[0mdesc\u001b[0m\u001b[0;34m:\u001b[0m\u001b[0;34m\u001b[0m\u001b[0;34m\u001b[0m\u001b[0m\n\u001b[0;32m--> 168\u001b[0;31m             raise_with_traceback(\n\u001b[0m\u001b[1;32m    169\u001b[0m                 \u001b[0mCheckError\u001b[0m\u001b[0;34m(\u001b[0m\u001b[0;34m\"Invariant failed. Description: {desc}\"\u001b[0m\u001b[0;34m.\u001b[0m\u001b[0mformat\u001b[0m\u001b[0;34m(\u001b[0m\u001b[0mdesc\u001b[0m\u001b[0;34m=\u001b[0m\u001b[0mdesc\u001b[0m\u001b[0;34m)\u001b[0m\u001b[0;34m)\u001b[0m\u001b[0;34m\u001b[0m\u001b[0;34m\u001b[0m\u001b[0m\n\u001b[1;32m    170\u001b[0m             )\n",
      "\u001b[0;32m~/.pyenv/versions/maestro/lib/python3.8/site-packages/future/utils/__init__.py\u001b[0m in \u001b[0;36mraise_with_traceback\u001b[0;34m(exc, traceback)\u001b[0m\n\u001b[1;32m    444\u001b[0m         \u001b[0;32mif\u001b[0m \u001b[0mtraceback\u001b[0m \u001b[0;34m==\u001b[0m \u001b[0mEllipsis\u001b[0m\u001b[0;34m:\u001b[0m\u001b[0;34m\u001b[0m\u001b[0;34m\u001b[0m\u001b[0m\n\u001b[1;32m    445\u001b[0m             \u001b[0m_\u001b[0m\u001b[0;34m,\u001b[0m \u001b[0m_\u001b[0m\u001b[0;34m,\u001b[0m \u001b[0mtraceback\u001b[0m \u001b[0;34m=\u001b[0m \u001b[0msys\u001b[0m\u001b[0;34m.\u001b[0m\u001b[0mexc_info\u001b[0m\u001b[0;34m(\u001b[0m\u001b[0;34m)\u001b[0m\u001b[0;34m\u001b[0m\u001b[0;34m\u001b[0m\u001b[0m\n\u001b[0;32m--> 446\u001b[0;31m         \u001b[0;32mraise\u001b[0m \u001b[0mexc\u001b[0m\u001b[0;34m.\u001b[0m\u001b[0mwith_traceback\u001b[0m\u001b[0;34m(\u001b[0m\u001b[0mtraceback\u001b[0m\u001b[0;34m)\u001b[0m\u001b[0;34m\u001b[0m\u001b[0;34m\u001b[0m\u001b[0m\n\u001b[0m\u001b[1;32m    447\u001b[0m \u001b[0;34m\u001b[0m\u001b[0m\n\u001b[1;32m    448\u001b[0m \u001b[0;32melse\u001b[0m\u001b[0;34m:\u001b[0m\u001b[0;34m\u001b[0m\u001b[0;34m\u001b[0m\u001b[0m\n",
      "\u001b[0;31mCheckError\u001b[0m: Invariant failed. Description: br_rj_riodejaneiro_onibus_rdo_registros has no solid named get_headers."
     ]
    }
   ],
   "source": [
    "original_header = result.output_for_solid('get_headers', 'original_header')\n",
    "column_mapping = result.output_for_solid('get_headers', 'column_mapping')\n",
    "ordered_header = result.output_for_solid('get_headers', 'ordered_header')"
   ]
  },
  {
   "cell_type": "code",
   "execution_count": 8,
   "metadata": {},
   "outputs": [],
   "source": [
    "import pandas as pd"
   ]
  },
  {
   "cell_type": "code",
   "execution_count": 9,
   "metadata": {},
   "outputs": [],
   "source": [
    "df = pd.read_csv(file_path, delimiter=\";\")"
   ]
  },
  {
   "cell_type": "code",
   "execution_count": 10,
   "metadata": {},
   "outputs": [
    {
     "output_type": "execute_result",
     "data": {
      "text/plain": [
       "           Termo Linha TPSERV  ORD_SERV  TPVEIC   ANO  Unnamed: 6  DIA  \\\n",
       "0      221000023   100      A         1      51  2021           1    1   \n",
       "1      221000023   100      A         1      51  2021           1    2   \n",
       "2      221000023   100      A         1      51  2021           1    3   \n",
       "3      221000023   100      A         1      51  2021           1    4   \n",
       "4      221000023   100      A         1      51  2021           1    5   \n",
       "...          ...   ...    ...       ...     ...   ...         ...  ...   \n",
       "13665  221000041  2802      A         1       7  2021           1   25   \n",
       "13666  221000041  2802      A         1       7  2021           1   26   \n",
       "13667  221000041  2802      A         1       7  2021           1   27   \n",
       "13668  221000041  2802      A         1       7  2021           1   28   \n",
       "13669  221000041  2802      A         1       7  2021           1   29   \n",
       "\n",
       "      TARIDET  TARIFPRA  ...  BUCS  BUCSINT  RECBUCS  BUTMET    RECVT  \\\n",
       "0           A       405  ...     0        0        0    2708   946647   \n",
       "1           A       405  ...     0        0        0    4830  1666616   \n",
       "2           A       405  ...     0        0        0    3953  1357804   \n",
       "3           A       405  ...     0        0        0    6860  2317807   \n",
       "4           A       405  ...     0        0        0    7154  2417153   \n",
       "...       ...       ...  ...   ...      ...      ...     ...      ...   \n",
       "13665       H      1500  ...     0        0        0    1056  1584000   \n",
       "13666       H      1500  ...     0        0        0      67   100500   \n",
       "13667       H      1500  ...     0        0        0      65    97500   \n",
       "13668       H      1500  ...     0        0        0      18    27000   \n",
       "13669       H      1500  ...     0        0        0     137   205500   \n",
       "\n",
       "       TOTPASPAG  RECPASPAG  TOTPAS  RECTOTAL  PASLVRUNI  \n",
       "0           1129     457245    4876   1553985          0  \n",
       "1           1123     454815    7986   2410965          0  \n",
       "2           1180     477900    6815   2078865          0  \n",
       "3            967     391635   11288   3169967          0  \n",
       "4           1306     528930   12036   3426332          0  \n",
       "...          ...        ...     ...       ...        ...  \n",
       "13665        112     168000    1168   1752000          0  \n",
       "13666         18      27000      85    127500          0  \n",
       "13667         21      31500      86    129000          0  \n",
       "13668         18      27000      36     54000          0  \n",
       "13669         26      39000     163    244500          0  \n",
       "\n",
       "[13670 rows x 35 columns]"
      ],
      "text/html": "<div>\n<style scoped>\n    .dataframe tbody tr th:only-of-type {\n        vertical-align: middle;\n    }\n\n    .dataframe tbody tr th {\n        vertical-align: top;\n    }\n\n    .dataframe thead th {\n        text-align: right;\n    }\n</style>\n<table border=\"1\" class=\"dataframe\">\n  <thead>\n    <tr style=\"text-align: right;\">\n      <th></th>\n      <th>Termo</th>\n      <th>Linha</th>\n      <th>TPSERV</th>\n      <th>ORD_SERV</th>\n      <th>TPVEIC</th>\n      <th>ANO</th>\n      <th>Unnamed: 6</th>\n      <th>DIA</th>\n      <th>TARIDET</th>\n      <th>TARIFPRA</th>\n      <th>...</th>\n      <th>BUCS</th>\n      <th>BUCSINT</th>\n      <th>RECBUCS</th>\n      <th>BUTMET</th>\n      <th>RECVT</th>\n      <th>TOTPASPAG</th>\n      <th>RECPASPAG</th>\n      <th>TOTPAS</th>\n      <th>RECTOTAL</th>\n      <th>PASLVRUNI</th>\n    </tr>\n  </thead>\n  <tbody>\n    <tr>\n      <th>0</th>\n      <td>221000023</td>\n      <td>100</td>\n      <td>A</td>\n      <td>1</td>\n      <td>51</td>\n      <td>2021</td>\n      <td>1</td>\n      <td>1</td>\n      <td>A</td>\n      <td>405</td>\n      <td>...</td>\n      <td>0</td>\n      <td>0</td>\n      <td>0</td>\n      <td>2708</td>\n      <td>946647</td>\n      <td>1129</td>\n      <td>457245</td>\n      <td>4876</td>\n      <td>1553985</td>\n      <td>0</td>\n    </tr>\n    <tr>\n      <th>1</th>\n      <td>221000023</td>\n      <td>100</td>\n      <td>A</td>\n      <td>1</td>\n      <td>51</td>\n      <td>2021</td>\n      <td>1</td>\n      <td>2</td>\n      <td>A</td>\n      <td>405</td>\n      <td>...</td>\n      <td>0</td>\n      <td>0</td>\n      <td>0</td>\n      <td>4830</td>\n      <td>1666616</td>\n      <td>1123</td>\n      <td>454815</td>\n      <td>7986</td>\n      <td>2410965</td>\n      <td>0</td>\n    </tr>\n    <tr>\n      <th>2</th>\n      <td>221000023</td>\n      <td>100</td>\n      <td>A</td>\n      <td>1</td>\n      <td>51</td>\n      <td>2021</td>\n      <td>1</td>\n      <td>3</td>\n      <td>A</td>\n      <td>405</td>\n      <td>...</td>\n      <td>0</td>\n      <td>0</td>\n      <td>0</td>\n      <td>3953</td>\n      <td>1357804</td>\n      <td>1180</td>\n      <td>477900</td>\n      <td>6815</td>\n      <td>2078865</td>\n      <td>0</td>\n    </tr>\n    <tr>\n      <th>3</th>\n      <td>221000023</td>\n      <td>100</td>\n      <td>A</td>\n      <td>1</td>\n      <td>51</td>\n      <td>2021</td>\n      <td>1</td>\n      <td>4</td>\n      <td>A</td>\n      <td>405</td>\n      <td>...</td>\n      <td>0</td>\n      <td>0</td>\n      <td>0</td>\n      <td>6860</td>\n      <td>2317807</td>\n      <td>967</td>\n      <td>391635</td>\n      <td>11288</td>\n      <td>3169967</td>\n      <td>0</td>\n    </tr>\n    <tr>\n      <th>4</th>\n      <td>221000023</td>\n      <td>100</td>\n      <td>A</td>\n      <td>1</td>\n      <td>51</td>\n      <td>2021</td>\n      <td>1</td>\n      <td>5</td>\n      <td>A</td>\n      <td>405</td>\n      <td>...</td>\n      <td>0</td>\n      <td>0</td>\n      <td>0</td>\n      <td>7154</td>\n      <td>2417153</td>\n      <td>1306</td>\n      <td>528930</td>\n      <td>12036</td>\n      <td>3426332</td>\n      <td>0</td>\n    </tr>\n    <tr>\n      <th>...</th>\n      <td>...</td>\n      <td>...</td>\n      <td>...</td>\n      <td>...</td>\n      <td>...</td>\n      <td>...</td>\n      <td>...</td>\n      <td>...</td>\n      <td>...</td>\n      <td>...</td>\n      <td>...</td>\n      <td>...</td>\n      <td>...</td>\n      <td>...</td>\n      <td>...</td>\n      <td>...</td>\n      <td>...</td>\n      <td>...</td>\n      <td>...</td>\n      <td>...</td>\n      <td>...</td>\n    </tr>\n    <tr>\n      <th>13665</th>\n      <td>221000041</td>\n      <td>2802</td>\n      <td>A</td>\n      <td>1</td>\n      <td>7</td>\n      <td>2021</td>\n      <td>1</td>\n      <td>25</td>\n      <td>H</td>\n      <td>1500</td>\n      <td>...</td>\n      <td>0</td>\n      <td>0</td>\n      <td>0</td>\n      <td>1056</td>\n      <td>1584000</td>\n      <td>112</td>\n      <td>168000</td>\n      <td>1168</td>\n      <td>1752000</td>\n      <td>0</td>\n    </tr>\n    <tr>\n      <th>13666</th>\n      <td>221000041</td>\n      <td>2802</td>\n      <td>A</td>\n      <td>1</td>\n      <td>7</td>\n      <td>2021</td>\n      <td>1</td>\n      <td>26</td>\n      <td>H</td>\n      <td>1500</td>\n      <td>...</td>\n      <td>0</td>\n      <td>0</td>\n      <td>0</td>\n      <td>67</td>\n      <td>100500</td>\n      <td>18</td>\n      <td>27000</td>\n      <td>85</td>\n      <td>127500</td>\n      <td>0</td>\n    </tr>\n    <tr>\n      <th>13667</th>\n      <td>221000041</td>\n      <td>2802</td>\n      <td>A</td>\n      <td>1</td>\n      <td>7</td>\n      <td>2021</td>\n      <td>1</td>\n      <td>27</td>\n      <td>H</td>\n      <td>1500</td>\n      <td>...</td>\n      <td>0</td>\n      <td>0</td>\n      <td>0</td>\n      <td>65</td>\n      <td>97500</td>\n      <td>21</td>\n      <td>31500</td>\n      <td>86</td>\n      <td>129000</td>\n      <td>0</td>\n    </tr>\n    <tr>\n      <th>13668</th>\n      <td>221000041</td>\n      <td>2802</td>\n      <td>A</td>\n      <td>1</td>\n      <td>7</td>\n      <td>2021</td>\n      <td>1</td>\n      <td>28</td>\n      <td>H</td>\n      <td>1500</td>\n      <td>...</td>\n      <td>0</td>\n      <td>0</td>\n      <td>0</td>\n      <td>18</td>\n      <td>27000</td>\n      <td>18</td>\n      <td>27000</td>\n      <td>36</td>\n      <td>54000</td>\n      <td>0</td>\n    </tr>\n    <tr>\n      <th>13669</th>\n      <td>221000041</td>\n      <td>2802</td>\n      <td>A</td>\n      <td>1</td>\n      <td>7</td>\n      <td>2021</td>\n      <td>1</td>\n      <td>29</td>\n      <td>H</td>\n      <td>1500</td>\n      <td>...</td>\n      <td>0</td>\n      <td>0</td>\n      <td>0</td>\n      <td>137</td>\n      <td>205500</td>\n      <td>26</td>\n      <td>39000</td>\n      <td>163</td>\n      <td>244500</td>\n      <td>0</td>\n    </tr>\n  </tbody>\n</table>\n<p>13670 rows × 35 columns</p>\n</div>"
     },
     "metadata": {},
     "execution_count": 10
    }
   ],
   "source": [
    "df"
   ]
  },
  {
   "cell_type": "code",
   "execution_count": 11,
   "metadata": {},
   "outputs": [
    {
     "output_type": "execute_result",
     "data": {
      "text/plain": [
       "operadora                              int64\n",
       "linha                                 object\n",
       "servico_tipo                          object\n",
       "servico_termo                          int64\n",
       "tipo_veiculo                           int64\n",
       "data_ano                               int64\n",
       "data_mes                             float64\n",
       "data_dia                               int64\n",
       "tarifa_codigo                         object\n",
       "tarifa_valor                         float64\n",
       "frota_determinada                      int64\n",
       "frota_licenciada                       int64\n",
       "frota_operante                         int64\n",
       "viagem_realizada                       int64\n",
       "km                                   float64\n",
       "gratuidade_idoso                       int64\n",
       "gratuidade_especial                    int64\n",
       "gratuidade_estudante_federal           int64\n",
       "gratuidade_estudante_estadual          int64\n",
       "gratuidade_estudante_municipal         int64\n",
       "gratuidade_rodoviario                  int64\n",
       "universitario                          int64\n",
       "gratuidade_total                       int64\n",
       "buc_1a_perna                           int64\n",
       "buc_2a_perna                           int64\n",
       "buc_receita                          float64\n",
       "buc_supervia_1a_perna                  int64\n",
       "buc_supervia_2a_perna                  int64\n",
       "buc_supervia_receita                 float64\n",
       "perna_unica_e_outros_transportado      int64\n",
       "perna_unica_e_outros_receita         float64\n",
       "especie_passageiro_transportado        int64\n",
       "especie_receita                      float64\n",
       "total_passageiro_transportado          int64\n",
       "total_receita                        float64\n",
       "tipo_informacao                      float64\n",
       "dtype: object"
      ]
     },
     "metadata": {},
     "execution_count": 11
    }
   ],
   "source": [
    "ORIGINAL_HEADER = [\n",
    "\"Termo\",\n",
    "\"Linha\",\n",
    "\"TPSERV\",\n",
    "\"ORD_SERV\",\n",
    "\"TPVEIC\",\n",
    "\"ANO\",\n",
    "\"MES\",\n",
    "\"DIA\",\n",
    "\"TARIDET\",\n",
    "\"TARIFPRA\",\n",
    "\"FROTDET\",\n",
    "\"FROTLIC\",\n",
    "\"FROTOPE\",\n",
    "\"NUMVIG\",\n",
    "\"KMCOB\",\n",
    "\"IDOSO\",\n",
    "\"PNE\",\n",
    "\"ESTU\",\n",
    "\"ESTE\",\n",
    "\"ESTM\",\n",
    "\"FUNCEMP\",\n",
    "\"TOTGRAT\",\n",
    "\"BUC\",\n",
    "\"BUCINT\",\n",
    "\"RECBUC\",\n",
    "\"BUCS\",\n",
    "\"BUCSINT\",\n",
    "\"RECBUCS\",\n",
    "\"BUTMET\",\n",
    "\"RECVT\",\n",
    "\"TOTPASPAG\",\n",
    "\"RECPASPAG\",\n",
    "\"TOTPAS\",\n",
    "\"RECTOTAL\",\n",
    "\"PASLVRUNI\",\n",
    "]\n",
    "\n",
    "ORDERED_HEADER = [\n",
    "\"operadora\",\n",
    "\"linha\",\n",
    "\"servico_tipo\",\n",
    "\"servico_termo\",\n",
    "\"tipo_veiculo\",\n",
    "\"data_ano\",\n",
    "\"data_mes\",\n",
    "\"data_dia\",\n",
    "\"tarifa_codigo\",\n",
    "\"tarifa_valor\",\n",
    "\"frota_determinada\",\n",
    "\"frota_licenciada\",\n",
    "\"frota_operante\",\n",
    "\"viagem_realizada\",\n",
    "\"km\",\n",
    "\"gratuidade_idoso\",\n",
    "\"gratuidade_especial\",\n",
    "\"gratuidade_estudante_federal\",\n",
    "\"gratuidade_estudante_estadual\",\n",
    "\"gratuidade_estudante_municipal\",\n",
    "\"gratuidade_rodoviario\",\n",
    "\"universitario\",\n",
    "\"gratuidade_total\",\n",
    "\"buc_1a_perna\",\n",
    "\"buc_2a_perna\",\n",
    "\"buc_receita\",\n",
    "\"buc_supervia_1a_perna\",\n",
    "\"buc_supervia_2a_perna\",\n",
    "\"buc_supervia_receita\",\n",
    "\"perna_unica_e_outros_transportado\",\n",
    "\"perna_unica_e_outros_receita\",\n",
    "\"especie_passageiro_transportado\",\n",
    "\"especie_receita\",\n",
    "\"total_passageiro_transportado\",\n",
    "\"total_receita\",\n",
    "\"tipo_informacao\",\n",
    "]\n",
    "\n",
    "\n",
    "column_mapping = {\n",
    "\"Termo\": \"operadora\",\n",
    "\"Linha\": \"linha\",\n",
    "\"TPSERV\": \"servico_tipo\",\n",
    "\"ORD_SERV\": \"servico_termo\",\n",
    "\"TPVEIC\": \"tipo_veiculo\",\n",
    "\"ANO\": \"data_ano\",\n",
    "\"MÊS\": \"data_mes\",\n",
    "\"DIA\": \"data_dia\",\n",
    "\"TARIDET\": \"tarifa_codigo\",\n",
    "\"TARIFPRA\": \"tarifa_valor\",\n",
    "\"FROTDET\": \"frota_determinada\",\n",
    "\"FROTLIC\": \"frota_licenciada\",\n",
    "\"FROTOPE\": \"frota_operante\",\n",
    "\"NUMVIG\": \"viagem_realizada\",\n",
    "\"KMCOB\": \"km\",\n",
    "\"IDOSO\": \"gratuidade_idoso\",\n",
    "\"PNE\": \"gratuidade_especial\",\n",
    "\"ESTU\": \"gratuidade_estudante_federal\",\n",
    "\"ESTE\": \"gratuidade_estudante_estadual\",\n",
    "\"ESTM\": \"gratuidade_estudante_municipal\",\n",
    "\"FUNCEMP\": \"gratuidade_rodoviario\",\n",
    "\"PASLVRUNI\": \"universitario\",\n",
    "\"TOTGRAT\": \"gratuidade_total\",\n",
    "\"BUC\": \"buc_1a_perna\",\n",
    "\"BUCINT\": \"buc_2a_perna\",\n",
    "\"RECBUC\": \"buc_receita\",\n",
    "\"BUCS\": \"buc_supervia_1a_perna\",\n",
    "\"BUCSINT\": \"buc_supervia_2a_perna\",\n",
    "\"RECBUCS\": \"buc_supervia_receita\",\n",
    "\"BUTMET\": \"perna_unica_e_outros_transportado\",\n",
    "\"RECVT\": \"perna_unica_e_outros_receita\",\n",
    "\"TOTPASPAG\": \"especie_passageiro_transportado\",\n",
    "\"RECPASPAG\": \"especie_receita\",\n",
    "\"TOTPAS\": \"total_passageiro_transportado\",\n",
    "\"RECTOTAL\": \"total_receita\",\n",
    "}\n",
    "cols_to_divide = [\n",
    "    \"km\",\n",
    "    \"tarifa_valor\",\n",
    "    \"buc_receita\",\n",
    "    \"buc_supervia_receita\",\n",
    "    \"perna_unica_e_outros_receita\",\n",
    "    \"especie_receita\",\n",
    "    \"total_receita\"\n",
    "]\n",
    "df.columns = ORIGINAL_HEADER\n",
    "df.rename(columns = column_mapping, inplace = True)\n",
    "df = df.reindex(columns = ORDERED_HEADER)\n",
    "# timestamp_captura = pd.to_datetime(pendulum.now(timezone).isoformat())\n",
    "# df[\"timestamp_captura\"] = timestamp_captura\n",
    "# context.log.debug(\", \".join(list(df.columns)))\n",
    "\n",
    "# Divide money columns by 100\n",
    "df[cols_to_divide] = df[cols_to_divide].apply(lambda x: x.astype(int)/100, axis=1)\n",
    "df.dtypes"
   ]
  },
  {
   "cell_type": "code",
   "execution_count": 12,
   "metadata": {},
   "outputs": [
    {
     "output_type": "execute_result",
     "data": {
      "text/plain": [
       "operadora                              int64\n",
       "linha                                 object\n",
       "servico_tipo                          object\n",
       "servico_termo                          int64\n",
       "tipo_veiculo                           int64\n",
       "data_ano                               int64\n",
       "data_mes                             float64\n",
       "data_dia                               int64\n",
       "tarifa_codigo                         object\n",
       "tarifa_valor                         float64\n",
       "frota_determinada                      int64\n",
       "frota_licenciada                       int64\n",
       "frota_operante                         int64\n",
       "viagem_realizada                       int64\n",
       "km                                   float64\n",
       "gratuidade_idoso                       int64\n",
       "gratuidade_especial                    int64\n",
       "gratuidade_estudante_federal           int64\n",
       "gratuidade_estudante_estadual          int64\n",
       "gratuidade_estudante_municipal         int64\n",
       "gratuidade_rodoviario                  int64\n",
       "universitario                          int64\n",
       "gratuidade_total                       int64\n",
       "buc_1a_perna                           int64\n",
       "buc_2a_perna                           int64\n",
       "buc_receita                          float64\n",
       "buc_supervia_1a_perna                  int64\n",
       "buc_supervia_2a_perna                  int64\n",
       "buc_supervia_receita                 float64\n",
       "perna_unica_e_outros_transportado      int64\n",
       "perna_unica_e_outros_receita         float64\n",
       "especie_passageiro_transportado        int64\n",
       "especie_receita                      float64\n",
       "total_passageiro_transportado          int64\n",
       "total_receita                        float64\n",
       "tipo_informacao                      float64\n",
       "dtype: object"
      ]
     },
     "metadata": {},
     "execution_count": 12
    }
   ],
   "source": [
    "df.dtypes"
   ]
  },
  {
   "cell_type": "code",
   "execution_count": 14,
   "metadata": {},
   "outputs": [
    {
     "output_type": "stream",
     "name": "stdout",
     "text": [
      "float64\n"
     ]
    },
    {
     "output_type": "execute_result",
     "data": {
      "text/plain": [
       "'int64'"
      ]
     },
     "metadata": {},
     "execution_count": 14
    }
   ],
   "source": [
    "print(str(df['data_mes'].dtypes))\n",
    "str(df['data_ano'].dtypes)"
   ]
  },
  {
   "cell_type": "code",
   "execution_count": 28,
   "metadata": {},
   "outputs": [],
   "source": [
    "df.to_csv('/mnt/c/Users/lauri/Downloads/teste.csv')"
   ]
  }
 ]
}