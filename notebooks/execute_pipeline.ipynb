{
 "metadata": {
  "language_info": {
   "codemirror_mode": {
    "name": "ipython",
    "version": 3
   },
   "file_extension": ".py",
   "mimetype": "text/x-python",
   "name": "python",
   "nbconvert_exporter": "python",
   "pygments_lexer": "ipython3",
   "version": "3.8.5-final"
  },
  "orig_nbformat": 2,
  "kernelspec": {
   "name": "python3",
   "display_name": "Python 3.8.5 64-bit ('maestro')",
   "metadata": {
    "interpreter": {
     "hash": "967e0ad8f74b4223479a99dc6f7efc25e752c369d3f31683542303dbaeb6ed17"
    }
   }
  }
 },
 "nbformat": 4,
 "nbformat_minor": 2,
 "cells": [
  {
   "cell_type": "code",
   "execution_count": 1,
   "metadata": {},
   "outputs": [],
   "source": [
    "import dagster\n",
    "import sys\n",
    "sys.path.append(\"/home/lmoraes/maestro/\")\n",
    "# import repositories.capturas.br_rj_riodejaneiro_onibus_gps.registros as pipeline\n",
    "import repositories.capturas.br_rj_riodejaneiro_brt_rdo.registros as pipeline\n",
    "from repositories.helpers.helpers import read_config\n",
    "import os"
   ]
  },
  {
   "cell_type": "code",
   "execution_count": 2,
   "metadata": {},
   "outputs": [],
   "source": [
    "config = read_config(\"/home/lmoraes/maestro/repositories/capturas/br_rj_riodejaneiro_brt_rdo/registros.yaml\")\n",
    "config[\"resources\"][\"timezone_config\"][\"config\"][\"timezone\"] = \"America/Sao_Paulo\""
   ]
  },
  {
   "cell_type": "code",
   "execution_count": 3,
   "metadata": {
    "tags": []
   },
   "outputs": [
    {
     "output_type": "stream",
     "name": "stderr",
     "text": [
      "2021-03-19 16:24:04 - dagster - DEBUG - br_rj_riodejaneiro_brt_rdo_registros - 806ac5fb-1ee3-435d-9120-5088f7cdb5f7 - 20359 - parse_file_path_and_partitions - ENGINE_EVENT - Starting initialization of resources [discord_webhook, io_manager, timezone_config].\n",
      "2021-03-19 16:24:04 - dagster - DEBUG - br_rj_riodejaneiro_brt_rdo_registros - 806ac5fb-1ee3-435d-9120-5088f7cdb5f7 - 20359 - parse_file_path_and_partitions - ENGINE_EVENT - Finished initialization of resources [discord_webhook, io_manager, timezone_config].\n",
      "2021-03-19 16:24:04 - dagster - DEBUG - br_rj_riodejaneiro_brt_rdo_registros - 806ac5fb-1ee3-435d-9120-5088f7cdb5f7 - 20359 - PIPELINE_START - Started execution of pipeline \"br_rj_riodejaneiro_brt_rdo_registros\".\n",
      "2021-03-19 16:24:04 - dagster - DEBUG - br_rj_riodejaneiro_brt_rdo_registros - 806ac5fb-1ee3-435d-9120-5088f7cdb5f7 - 20359 - ENGINE_EVENT - Executing steps in process (pid: 20359)\n",
      "2021-03-19 16:24:04 - dagster - DEBUG - br_rj_riodejaneiro_brt_rdo_registros - 806ac5fb-1ee3-435d-9120-5088f7cdb5f7 - 20359 - parse_file_path_and_partitions - STEP_START - Started execution of step \"parse_file_path_and_partitions\".\n",
      "2021-03-19 16:24:04 - dagster - DEBUG - br_rj_riodejaneiro_brt_rdo_registros - 806ac5fb-1ee3-435d-9120-5088f7cdb5f7 - 20359 - parse_file_path_and_partitions - STEP_INPUT - Got input \"bucket_path\" of type \"Any\". (Type check passed).\n",
      "2021-03-19 16:24:04 - dagster - INFO - system - 806ac5fb-1ee3-435d-9120-5088f7cdb5f7 - parse_file_path_and_partitions - creating file path /home/lmoraes/maestro/notebooks/data/{mode}/br_rj_riodejaneiro_brt_rdo/registros/year=2021/month=03/RDO012021_v1.{filetype}\n",
      "2021-03-19 16:24:04 - dagster - DEBUG - br_rj_riodejaneiro_brt_rdo_registros - 806ac5fb-1ee3-435d-9120-5088f7cdb5f7 - 20359 - parse_file_path_and_partitions - STEP_OUTPUT - Yielded output \"filename\" of type \"Any\". (Type check passed).\n",
      "2021-03-19 16:24:04 - dagster - DEBUG - br_rj_riodejaneiro_brt_rdo_registros - 806ac5fb-1ee3-435d-9120-5088f7cdb5f7 - 20359 - parse_file_path_and_partitions - HANDLED_OUTPUT - Handled output \"filename\" using output manager \"io_manager\"\n",
      "2021-03-19 16:24:04 - dagster - DEBUG - br_rj_riodejaneiro_brt_rdo_registros - 806ac5fb-1ee3-435d-9120-5088f7cdb5f7 - 20359 - parse_file_path_and_partitions - STEP_OUTPUT - Yielded output \"filetype\" of type \"Any\". (Type check passed).\n",
      "2021-03-19 16:24:04 - dagster - DEBUG - br_rj_riodejaneiro_brt_rdo_registros - 806ac5fb-1ee3-435d-9120-5088f7cdb5f7 - 20359 - parse_file_path_and_partitions - HANDLED_OUTPUT - Handled output \"filetype\" using output manager \"io_manager\"\n",
      "2021-03-19 16:24:04 - dagster - DEBUG - br_rj_riodejaneiro_brt_rdo_registros - 806ac5fb-1ee3-435d-9120-5088f7cdb5f7 - 20359 - parse_file_path_and_partitions - STEP_OUTPUT - Yielded output \"file_path\" of type \"Any\". (Type check passed).\n",
      "2021-03-19 16:24:04 - dagster - DEBUG - br_rj_riodejaneiro_brt_rdo_registros - 806ac5fb-1ee3-435d-9120-5088f7cdb5f7 - 20359 - parse_file_path_and_partitions - HANDLED_OUTPUT - Handled output \"file_path\" using output manager \"io_manager\"\n",
      "2021-03-19 16:24:04 - dagster - DEBUG - br_rj_riodejaneiro_brt_rdo_registros - 806ac5fb-1ee3-435d-9120-5088f7cdb5f7 - 20359 - parse_file_path_and_partitions - STEP_OUTPUT - Yielded output \"partitions\" of type \"Any\". (Type check passed).\n",
      "2021-03-19 16:24:04 - dagster - DEBUG - br_rj_riodejaneiro_brt_rdo_registros - 806ac5fb-1ee3-435d-9120-5088f7cdb5f7 - 20359 - parse_file_path_and_partitions - HANDLED_OUTPUT - Handled output \"partitions\" using output manager \"io_manager\"\n",
      "2021-03-19 16:24:04 - dagster - DEBUG - br_rj_riodejaneiro_brt_rdo_registros - 806ac5fb-1ee3-435d-9120-5088f7cdb5f7 - 20359 - parse_file_path_and_partitions - STEP_SUCCESS - Finished execution of step \"parse_file_path_and_partitions\" in 23ms.\n",
      "2021-03-19 16:24:04 - dagster - DEBUG - br_rj_riodejaneiro_brt_rdo_registros - 806ac5fb-1ee3-435d-9120-5088f7cdb5f7 - parse_file_path_and_partitions - HOOK_SKIPPED - Skipped the execution of hook \"discord_message_on_failure\". It did not meet its triggering condition during the execution of solid \"parse_file_path_and_partitions\".\n",
      "2021-03-19 16:24:04 - dagster - DEBUG - br_rj_riodejaneiro_brt_rdo_registros - 806ac5fb-1ee3-435d-9120-5088f7cdb5f7 - parse_file_path_and_partitions - HOOK_COMPLETED - Finished the execution of hook \"discord_message_on_success\" triggered for solid \"parse_file_path_and_partitions\".\n",
      "2021-03-19 16:24:04 - dagster - DEBUG - br_rj_riodejaneiro_brt_rdo_registros - 806ac5fb-1ee3-435d-9120-5088f7cdb5f7 - 20359 - ENGINE_EVENT - Finished steps in process (pid: 20359) in 39ms\n",
      "2021-03-19 16:24:04 - dagster - DEBUG - br_rj_riodejaneiro_brt_rdo_registros - 806ac5fb-1ee3-435d-9120-5088f7cdb5f7 - 20359 - PIPELINE_SUCCESS - Finished execution of pipeline \"br_rj_riodejaneiro_brt_rdo_registros\".\n"
     ]
    },
    {
     "output_type": "execute_result",
     "data": {
      "text/plain": [
       "<dagster.core.execution.results.PipelineExecutionResult at 0x7f9bddedeca0>"
      ]
     },
     "metadata": {},
     "execution_count": 3
    }
   ],
   "source": [
    "dagster.execute_pipeline(pipeline.br_rj_riodejaneiro_brt_rdo_registros,\n",
    "                         run_config = config,\n",
    "                         mode=\"dev\")"
   ]
  },
  {
   "cell_type": "code",
   "execution_count": 16,
   "metadata": {},
   "outputs": [],
   "source": [
    "from openpyxl import load_workbook\n",
    "file_path = \"/home/lmoraes/maestro/notebooks/data/raw/br_rj_riodejaneiro_brt_rdo/registros/year=2021/month=03/RDO012021_v1.xlsx\"\n",
    "wb = load_workbook(file_path)\n",
    "ws =  wb.active\n",
    "ws.delete_rows(1)\n",
    "ws.insert_rows(1)\n",
    "\n",
    "for col in \n",
    "\n",
    "wb.save(file_path)"
   ]
  },
  {
   "cell_type": "code",
   "execution_count": 1,
   "metadata": {},
   "outputs": [],
   "source": [
    "import re"
   ]
  },
  {
   "cell_type": "code",
   "execution_count": 14,
   "metadata": {},
   "outputs": [
    {
     "output_type": "execute_result",
     "data": {
      "text/plain": [
       "'year=2021/month=03'"
      ]
     },
     "metadata": {},
     "execution_count": 14
    }
   ],
   "source": [
    "txt = \"raw/br_rj_riodejaneiro_brt_rdo/registros/year=2021/month=03/2021-03-17-17-41-09.xlsx\"\n",
    "x = re.findall(\"\\/([^\\/]*?)=(.*?)(?=\\/)\", txt)\n",
    "partitions = []\n",
    "\"/\".join([\"=\".join([i for i in j]) for j in x])"
   ]
  },
  {
   "cell_type": "code",
   "execution_count": 15,
   "metadata": {},
   "outputs": [
    {
     "output_type": "execute_result",
     "data": {
      "text/plain": [
       "['raw',\n",
       " 'br_rj_riodejaneiro_brt_rdo',\n",
       " 'registros',\n",
       " 'year=2021',\n",
       " 'month=03',\n",
       " '2021-03-17-17-41-09.xlsx']"
      ]
     },
     "metadata": {},
     "execution_count": 15
    }
   ],
   "source": [
    "txt.split(\"/\")"
   ]
  }
 ]
}