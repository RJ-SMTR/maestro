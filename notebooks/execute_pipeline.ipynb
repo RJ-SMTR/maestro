{
 "metadata": {
  "language_info": {
   "codemirror_mode": {
    "name": "ipython",
    "version": 3
   },
   "file_extension": ".py",
   "mimetype": "text/x-python",
   "name": "python",
   "nbconvert_exporter": "python",
   "pygments_lexer": "ipython3",
   "version": "3.8.5"
  },
  "orig_nbformat": 2,
  "kernelspec": {
   "name": "pythonjvsc74a57bd0bc9e6c8ee03873ef763beb4771879b4a101bdd86576b9f9adfa0c82767f121e2",
   "display_name": "Python 3.8.5  ('.maestro': venv)"
  },
  "metadata": {
   "interpreter": {
    "hash": "bc9e6c8ee03873ef763beb4771879b4a101bdd86576b9f9adfa0c82767f121e2"
   }
  }
 },
 "nbformat": 4,
 "nbformat_minor": 2,
 "cells": [
  {
   "cell_type": "code",
   "execution_count": 1,
   "metadata": {},
   "outputs": [],
   "source": [
    "import dagster\n",
    "import sys\n",
    "sys.path.append(\"/home/lmoraes/maestro/\")\n",
    "# import repositories.capturas.br_rj_riodejaneiro_onibus_gps.registros as pipeline\n",
    "# import repositories.capturas.br_rj_riodejaneiro_rdo.registros as pipeline\n",
    "import repositories.capturas.br_rj_riodejaneiro_gtfs_planned.feed as pipeline\n",
    "\n",
    "from repositories.helpers.helpers import read_config\n",
    "import os"
   ]
  },
  {
   "cell_type": "code",
   "execution_count": 2,
   "metadata": {},
   "outputs": [
    {
     "output_type": "stream",
     "name": "stderr",
     "text": [
      "2021-05-12 11:59:19.512 | DEBUG    | repositories.helpers.helpers:read_config:24 - Setting template folder as /home/lmoraes/maestro/repositories/capturas/br_rj_riodejaneiro_gtfs_planned\n",
      "2021-05-12 11:59:19.514 | DEBUG    | repositories.helpers.helpers:read_config:29 - Setting template as feed.yaml\n"
     ]
    },
    {
     "output_type": "execute_result",
     "data": {
      "text/plain": [
       "{'resources': {'basedosdados_config': {'config': {'dataset_id': 'br_rj_riodejaneiro_gtfs_planned',\n",
       "    'table_id': 'gtfs'}},\n",
       "  'discord_webhook': {'config': {'url': '', 'success_cron': '* 8 * * *'}},\n",
       "  'timezone_config': {'config': {'timezone': 'America/Sao_Paulo'}}},\n",
       " 'solids': {'create_gtfs_version_partition': {'inputs': {'original_filepath': {'value': '/home/lmoraes/GTFS_DATA/br_rj_riodejaneiro_gtfs_planned/gtfs_planned/gtfs_planned.zip'}}},\n",
       "  'realized_get_file_path_and_partitions': {'inputs': {'filename': {'value': 'gtfs_planned'}}},\n",
       "  'get_gtfs_files': {'inputs': {'original_filepath': {'value': '/home/lmoraes/GTFS_DATA/br_rj_riodejaneiro_gtfs_planned/gtfs_planned/gtfs_planned.zip'}}},\n",
       "  'get_realized_trips': {'inputs': {'file_path': {'value': '/home/lmoraes/GTFS_DATA/br_rj_riodejaneiro_gtfs_planned/gtfs_planned/gtfs_planned.zip'}}},\n",
       "  'open_gtfs_feed': {'inputs': {'original_filepath': {'value': '/home/lmoraes/GTFS_DATA/br_rj_riodejaneiro_gtfs_planned/gtfs_planned/gtfs_planned.zip'}}},\n",
       "  'upload_file_to_storage': {'inputs': {'file_path': {'value': '/home/lmoraes/GTFS_DATA/br_rj_riodejaneiro_gtfs_planned/gtfs_planned/gtfs_planned.zip'}}},\n",
       "  'realized_upload_to_bigquery': {'inputs': {'table_id': {'value': 'realized_trips_planned'},\n",
       "    'modes': {'value': ['staging']}}},\n",
       "  'process_gtfs_files': {'solids': {'pre_treatment_br_rj_riodejaneiro_gtfs_planned': {'config': {'agency': {'columns': ['agency_id',\n",
       "        'agency_name',\n",
       "        'agency_url',\n",
       "        'agency_timezone',\n",
       "        'agency_lang',\n",
       "        'agency_phone',\n",
       "        'agency_fare_url',\n",
       "        'agency_email']},\n",
       "      'calendar': {'columns': ['service_id',\n",
       "        'monday',\n",
       "        'tuesday',\n",
       "        'wednesday',\n",
       "        'thursday',\n",
       "        'friday',\n",
       "        'saturday',\n",
       "        'sunday',\n",
       "        'start_date',\n",
       "        'end_date']},\n",
       "      'calendar_dates': {'columns': ['service_id', 'date', 'exception_type']},\n",
       "      'feed_info': {'columns': ['feed_publisher_name',\n",
       "        'feed_publisher_url',\n",
       "        'feed_lang',\n",
       "        'default_lang',\n",
       "        'feed_start_date',\n",
       "        'feed_end_date',\n",
       "        'feed_version',\n",
       "        'feed_contact_email',\n",
       "        'feed_contact_url']},\n",
       "      'frequencies': {'columns': ['trip_id',\n",
       "        'start_time',\n",
       "        'end_time',\n",
       "        'headway_secs',\n",
       "        'exact_times']},\n",
       "      'routes': {'columns': ['route_id',\n",
       "        'agency_id',\n",
       "        'route_short_name',\n",
       "        'route_long_name',\n",
       "        'route_type',\n",
       "        'route_color',\n",
       "        'route_text_color',\n",
       "        'route_desc',\n",
       "        'route_url',\n",
       "        'route_sort_order',\n",
       "        'continuous_pickup',\n",
       "        'continuous_drop_off']},\n",
       "      'shapes': {'columns': ['shape_id',\n",
       "        'shape_pt_lat',\n",
       "        'shape_pt_lon',\n",
       "        'shape_pt_sequence',\n",
       "        'shape_dist_traveled']},\n",
       "      'stop_times': {'columns': ['trip_id',\n",
       "        'arrival_time',\n",
       "        'departure_time',\n",
       "        'stop_id',\n",
       "        'stop_sequence',\n",
       "        'stop_headsign',\n",
       "        'pickup_type',\n",
       "        'drop_off_type',\n",
       "        'continuous_pickup',\n",
       "        'continuous_drop_off',\n",
       "        'shape_dist_traveled',\n",
       "        'timepoint']},\n",
       "      'stops': {'columns': ['stop_id',\n",
       "        'stop_name',\n",
       "        'stop_desc',\n",
       "        'stop_lat',\n",
       "        'stop_lon',\n",
       "        'location_type',\n",
       "        'parent_station',\n",
       "        'corridor',\n",
       "        'active',\n",
       "        'stop_code',\n",
       "        'tts_stop_name',\n",
       "        'zone_id',\n",
       "        'stop_url',\n",
       "        'stop_timezone',\n",
       "        'wheelchair_boarding',\n",
       "        'level_id',\n",
       "        'platform_code']},\n",
       "      'trips': {'columns': ['route_id',\n",
       "        'service_id',\n",
       "        'trip_id',\n",
       "        'trip_headsign',\n",
       "        'direction_id',\n",
       "        'shape_id',\n",
       "        'trip_short_name',\n",
       "        'block_id',\n",
       "        'wheelchair_accessible',\n",
       "        'bikes_allowed']}}},\n",
       "    'upload_to_bigquery': {'inputs': {'modes': {'value': ['staging']}}}}}}}"
      ]
     },
     "metadata": {},
     "execution_count": 2
    }
   ],
   "source": [
    "config = read_config(\"/home/lmoraes/maestro/repositories/capturas/br_rj_riodejaneiro_gtfs_planned/feed.yaml\")\n",
    "# config = read_config(\"/home/lmoraes/maestro/repositories/capturas/br_rj_riodejaneiro_onibus_rdo/registros.yaml\")\n",
    "# config[\"resources\"][\"timezone_config\"][\"config\"][\"timezone\"] = \"America/Sao_Paulo\"\n",
    "# del config[\"solids\"][\"upload_to_bigquery\"]\n",
    "config"
   ]
  },
  {
   "cell_type": "code",
   "execution_count": 3,
   "metadata": {
    "tags": [
     "outputPrepend"
    ]
   },
   "outputs": [
    {
     "output_type": "stream",
     "name": "stderr",
     "text": [
      "-11c9-42b6-b0be-fee825596d33 - process_gtfs_files.get_file_path_and_partitions[agency] - HOOK_SKIPPED - Skipped the execution of hook \"discord_message_on_failure\". It did not meet its triggering condition during the execution of solid \"get_file_path_and_partitions\".\n",
      "2021-05-12 11:59:50 - dagster - DEBUG - br_rj_riodejaneiro_gtfs_planned_feed - e721029d-11c9-42b6-b0be-fee825596d33 - process_gtfs_files.get_file_path_and_partitions[agency] - HOOK_COMPLETED - Finished the execution of hook \"discord_message_on_success\" triggered for solid \"get_file_path_and_partitions\".\n",
      "2021-05-12 11:59:50 - dagster - DEBUG - br_rj_riodejaneiro_gtfs_planned_feed - e721029d-11c9-42b6-b0be-fee825596d33 - 31392 - realized_save_treated_local - STEP_START - Started execution of step \"realized_save_treated_local\".\n",
      "2021-05-12 11:59:50 - dagster - DEBUG - br_rj_riodejaneiro_gtfs_planned_feed - e721029d-11c9-42b6-b0be-fee825596d33 - 31392 - realized_save_treated_local - LOADED_INPUT - Loaded input \"df\" using input manager \"io_manager\", from output \"result\" of step \"get_realized_trips\"\n",
      "2021-05-12 11:59:50 - dagster - DEBUG - br_rj_riodejaneiro_gtfs_planned_feed - e721029d-11c9-42b6-b0be-fee825596d33 - 31392 - realized_save_treated_local - LOADED_INPUT - Loaded input \"file_path\" using input manager \"io_manager\", from output \"result\" of step \"realized_get_file_path_and_partitions\"\n",
      "2021-05-12 11:59:50 - dagster - DEBUG - br_rj_riodejaneiro_gtfs_planned_feed - e721029d-11c9-42b6-b0be-fee825596d33 - 31392 - realized_save_treated_local - STEP_INPUT - Got input \"df\" of type \"Any\". (Type check passed).\n",
      "2021-05-12 11:59:50 - dagster - DEBUG - br_rj_riodejaneiro_gtfs_planned_feed - e721029d-11c9-42b6-b0be-fee825596d33 - 31392 - realized_save_treated_local - STEP_INPUT - Got input \"file_path\" of type \"Any\". (Type check passed).\n",
      "2021-05-12 11:59:50 - dagster - DEBUG - br_rj_riodejaneiro_gtfs_planned_feed - e721029d-11c9-42b6-b0be-fee825596d33 - 31392 - realized_save_treated_local - STEP_INPUT - Got input \"mode\" of type \"Any\". (Type check passed).\n",
      "2021-05-12 11:59:53 - dagster - DEBUG - br_rj_riodejaneiro_gtfs_planned_feed - e721029d-11c9-42b6-b0be-fee825596d33 - 31392 - realized_save_treated_local - STEP_OUTPUT - Yielded output \"result\" of type \"Any\". (Type check passed).\n",
      "2021-05-12 11:59:53 - dagster - DEBUG - br_rj_riodejaneiro_gtfs_planned_feed - e721029d-11c9-42b6-b0be-fee825596d33 - 31392 - realized_save_treated_local - HANDLED_OUTPUT - Handled output \"result\" using IO manager \"io_manager\"\n",
      "2021-05-12 11:59:53 - dagster - DEBUG - br_rj_riodejaneiro_gtfs_planned_feed - e721029d-11c9-42b6-b0be-fee825596d33 - 31392 - realized_save_treated_local - STEP_SUCCESS - Finished execution of step \"realized_save_treated_local\" in 2.87s.\n",
      "2021-05-12 11:59:53 - dagster - DEBUG - br_rj_riodejaneiro_gtfs_planned_feed - e721029d-11c9-42b6-b0be-fee825596d33 - realized_save_treated_local - HOOK_SKIPPED - Skipped the execution of hook \"discord_message_on_failure\". It did not meet its triggering condition during the execution of solid \"realized_save_treated_local\".\n",
      "2021-05-12 11:59:53 - dagster - DEBUG - br_rj_riodejaneiro_gtfs_planned_feed - e721029d-11c9-42b6-b0be-fee825596d33 - realized_save_treated_local - HOOK_COMPLETED - Finished the execution of hook \"discord_message_on_success\" triggered for solid \"realized_save_treated_local\".\n",
      "2021-05-12 11:59:53 - dagster - DEBUG - br_rj_riodejaneiro_gtfs_planned_feed - e721029d-11c9-42b6-b0be-fee825596d33 - 31392 - process_gtfs_files.save_treated_local[agency] - STEP_START - Started execution of step \"process_gtfs_files.save_treated_local[agency]\".\n",
      "2021-05-12 11:59:53 - dagster - DEBUG - br_rj_riodejaneiro_gtfs_planned_feed - e721029d-11c9-42b6-b0be-fee825596d33 - 31392 - process_gtfs_files.save_treated_local[agency] - LOADED_INPUT - Loaded input \"df\" using input manager \"io_manager\", from output \"result\" of step \"process_gtfs_files.pre_treatment_br_rj_riodejaneiro_gtfs_planned[agency]\"\n",
      "2021-05-12 11:59:53 - dagster - DEBUG - br_rj_riodejaneiro_gtfs_planned_feed - e721029d-11c9-42b6-b0be-fee825596d33 - 31392 - process_gtfs_files.save_treated_local[agency] - LOADED_INPUT - Loaded input \"file_path\" using input manager \"io_manager\", from output \"result\" of step \"process_gtfs_files.get_file_path_and_partitions[agency]\"\n",
      "2021-05-12 11:59:53 - dagster - DEBUG - br_rj_riodejaneiro_gtfs_planned_feed - e721029d-11c9-42b6-b0be-fee825596d33 - 31392 - process_gtfs_files.save_treated_local[agency] - STEP_INPUT - Got input \"df\" of type \"Any\". (Type check passed).\n",
      "2021-05-12 11:59:53 - dagster - DEBUG - br_rj_riodejaneiro_gtfs_planned_feed - e721029d-11c9-42b6-b0be-fee825596d33 - 31392 - process_gtfs_files.save_treated_local[agency] - STEP_INPUT - Got input \"file_path\" of type \"Any\". (Type check passed).\n",
      "2021-05-12 11:59:53 - dagster - DEBUG - br_rj_riodejaneiro_gtfs_planned_feed - e721029d-11c9-42b6-b0be-fee825596d33 - 31392 - process_gtfs_files.save_treated_local[agency] - STEP_INPUT - Got input \"mode\" of type \"Any\". (Type check passed).\n",
      "2021-05-12 11:59:53 - dagster - DEBUG - br_rj_riodejaneiro_gtfs_planned_feed - e721029d-11c9-42b6-b0be-fee825596d33 - 31392 - process_gtfs_files.save_treated_local[agency] - STEP_OUTPUT - Yielded output \"result\" of type \"Any\". (Type check passed).\n",
      "2021-05-12 11:59:53 - dagster - DEBUG - br_rj_riodejaneiro_gtfs_planned_feed - e721029d-11c9-42b6-b0be-fee825596d33 - 31392 - process_gtfs_files.save_treated_local[agency] - HANDLED_OUTPUT - Handled output \"result\" using IO manager \"io_manager\"\n",
      "2021-05-12 11:59:53 - dagster - DEBUG - br_rj_riodejaneiro_gtfs_planned_feed - e721029d-11c9-42b6-b0be-fee825596d33 - 31392 - process_gtfs_files.save_treated_local[agency] - STEP_SUCCESS - Finished execution of step \"process_gtfs_files.save_treated_local[agency]\" in 8.59ms.\n",
      "2021-05-12 11:59:53 - dagster - DEBUG - br_rj_riodejaneiro_gtfs_planned_feed - e721029d-11c9-42b6-b0be-fee825596d33 - process_gtfs_files.save_treated_local[agency] - HOOK_SKIPPED - Skipped the execution of hook \"discord_message_on_failure\". It did not meet its triggering condition during the execution of solid \"save_treated_local\".\n",
      "2021-05-12 11:59:53 - dagster - DEBUG - br_rj_riodejaneiro_gtfs_planned_feed - e721029d-11c9-42b6-b0be-fee825596d33 - process_gtfs_files.save_treated_local[agency] - HOOK_COMPLETED - Finished the execution of hook \"discord_message_on_success\" triggered for solid \"save_treated_local\".\n",
      "2021-05-12 11:59:53 - dagster - DEBUG - br_rj_riodejaneiro_gtfs_planned_feed - e721029d-11c9-42b6-b0be-fee825596d33 - 31392 - realized_process_filename - STEP_START - Started execution of step \"realized_process_filename\".\n",
      "2021-05-12 11:59:53 - dagster - DEBUG - br_rj_riodejaneiro_gtfs_planned_feed - e721029d-11c9-42b6-b0be-fee825596d33 - 31392 - realized_process_filename - LOADED_INPUT - Loaded input \"treated_file_path\" using input manager \"io_manager\", from output \"result\" of step \"realized_save_treated_local\"\n",
      "2021-05-12 11:59:53 - dagster - DEBUG - br_rj_riodejaneiro_gtfs_planned_feed - e721029d-11c9-42b6-b0be-fee825596d33 - 31392 - realized_process_filename - STEP_INPUT - Got input \"treated_file_path\" of type \"Any\". (Type check passed).\n",
      "2021-05-12 11:59:53 - dagster - DEBUG - system - e721029d-11c9-42b6-b0be-fee825596d33 - realized_process_filename - File path to add to list: /home/lmoraes/maestro/notebooks/data/staging/br_rj_riodejaneiro_gtfs_planned/gtfs/gtfs_version_date=20210419/gtfs_planned.csv\n",
      "2021-05-12 11:59:53 - dagster - DEBUG - br_rj_riodejaneiro_gtfs_planned_feed - e721029d-11c9-42b6-b0be-fee825596d33 - 31392 - realized_process_filename - STEP_OUTPUT - Yielded output \"result\" of type \"Any\". (Type check passed).\n",
      "2021-05-12 11:59:53 - dagster - DEBUG - br_rj_riodejaneiro_gtfs_planned_feed - e721029d-11c9-42b6-b0be-fee825596d33 - 31392 - realized_process_filename - HANDLED_OUTPUT - Handled output \"result\" using IO manager \"io_manager\"\n",
      "2021-05-12 11:59:53 - dagster - DEBUG - br_rj_riodejaneiro_gtfs_planned_feed - e721029d-11c9-42b6-b0be-fee825596d33 - 31392 - realized_process_filename - STEP_SUCCESS - Finished execution of step \"realized_process_filename\" in 5.41ms.\n",
      "2021-05-12 11:59:53 - dagster - DEBUG - br_rj_riodejaneiro_gtfs_planned_feed - e721029d-11c9-42b6-b0be-fee825596d33 - realized_process_filename - HOOK_SKIPPED - Skipped the execution of hook \"discord_message_on_failure\". It did not meet its triggering condition during the execution of solid \"realized_process_filename\".\n",
      "2021-05-12 11:59:53 - dagster - DEBUG - br_rj_riodejaneiro_gtfs_planned_feed - e721029d-11c9-42b6-b0be-fee825596d33 - realized_process_filename - HOOK_COMPLETED - Finished the execution of hook \"discord_message_on_success\" triggered for solid \"realized_process_filename\".\n",
      "2021-05-12 11:59:53 - dagster - DEBUG - br_rj_riodejaneiro_gtfs_planned_feed - e721029d-11c9-42b6-b0be-fee825596d33 - 31392 - process_gtfs_files.process_filename[agency] - STEP_START - Started execution of step \"process_gtfs_files.process_filename[agency]\".\n",
      "2021-05-12 11:59:53 - dagster - DEBUG - br_rj_riodejaneiro_gtfs_planned_feed - e721029d-11c9-42b6-b0be-fee825596d33 - 31392 - process_gtfs_files.process_filename[agency] - LOADED_INPUT - Loaded input \"treated_file_path\" using input manager \"io_manager\", from output \"result\" of step \"process_gtfs_files.save_treated_local[agency]\"\n",
      "2021-05-12 11:59:53 - dagster - DEBUG - br_rj_riodejaneiro_gtfs_planned_feed - e721029d-11c9-42b6-b0be-fee825596d33 - 31392 - process_gtfs_files.process_filename[agency] - STEP_INPUT - Got input \"treated_file_path\" of type \"Any\". (Type check passed).\n",
      "2021-05-12 11:59:53 - dagster - DEBUG - system - e721029d-11c9-42b6-b0be-fee825596d33 - process_gtfs_files.process_filename[agency] - File path to add to list: /home/lmoraes/maestro/notebooks/data/staging/br_rj_riodejaneiro_gtfs_planned/agency/gtfs_version_date=20210419/agency.csv\n",
      "2021-05-12 11:59:53 - dagster - DEBUG - br_rj_riodejaneiro_gtfs_planned_feed - e721029d-11c9-42b6-b0be-fee825596d33 - 31392 - process_gtfs_files.process_filename[agency] - STEP_OUTPUT - Yielded output \"result\" of type \"Any\". (Type check passed).\n",
      "2021-05-12 11:59:53 - dagster - DEBUG - br_rj_riodejaneiro_gtfs_planned_feed - e721029d-11c9-42b6-b0be-fee825596d33 - 31392 - process_gtfs_files.process_filename[agency] - HANDLED_OUTPUT - Handled output \"result\" using IO manager \"io_manager\"\n",
      "2021-05-12 11:59:53 - dagster - DEBUG - br_rj_riodejaneiro_gtfs_planned_feed - e721029d-11c9-42b6-b0be-fee825596d33 - 31392 - process_gtfs_files.process_filename[agency] - STEP_SUCCESS - Finished execution of step \"process_gtfs_files.process_filename[agency]\" in 8.47ms.\n",
      "2021-05-12 11:59:53 - dagster - DEBUG - br_rj_riodejaneiro_gtfs_planned_feed - e721029d-11c9-42b6-b0be-fee825596d33 - process_gtfs_files.process_filename[agency] - HOOK_SKIPPED - Skipped the execution of hook \"discord_message_on_failure\". It did not meet its triggering condition during the execution of solid \"process_filename\".\n",
      "2021-05-12 11:59:53 - dagster - DEBUG - br_rj_riodejaneiro_gtfs_planned_feed - e721029d-11c9-42b6-b0be-fee825596d33 - process_gtfs_files.process_filename[agency] - HOOK_COMPLETED - Finished the execution of hook \"discord_message_on_success\" triggered for solid \"process_filename\".\n",
      "2021-05-12 11:59:53 - dagster - DEBUG - br_rj_riodejaneiro_gtfs_planned_feed - e721029d-11c9-42b6-b0be-fee825596d33 - 31392 - realized_upload_to_bigquery - STEP_START - Started execution of step \"realized_upload_to_bigquery\".\n",
      "2021-05-12 11:59:53 - dagster - DEBUG - br_rj_riodejaneiro_gtfs_planned_feed - e721029d-11c9-42b6-b0be-fee825596d33 - 31392 - realized_upload_to_bigquery - LOADED_INPUT - Loaded input \"file_paths\" using input manager \"io_manager\", from output \"result\" of step \"realized_process_filename\"\n",
      "2021-05-12 11:59:53 - dagster - DEBUG - br_rj_riodejaneiro_gtfs_planned_feed - e721029d-11c9-42b6-b0be-fee825596d33 - 31392 - realized_upload_to_bigquery - LOADED_INPUT - Loaded input \"partitions\" using input manager \"io_manager\", from output \"result\" of step \"create_gtfs_version_partition\"\n",
      "2021-05-12 11:59:53 - dagster - DEBUG - br_rj_riodejaneiro_gtfs_planned_feed - e721029d-11c9-42b6-b0be-fee825596d33 - 31392 - realized_upload_to_bigquery - STEP_INPUT - Got input \"file_paths\" of type \"Any\". (Type check passed).\n",
      "2021-05-12 11:59:53 - dagster - DEBUG - br_rj_riodejaneiro_gtfs_planned_feed - e721029d-11c9-42b6-b0be-fee825596d33 - 31392 - realized_upload_to_bigquery - STEP_INPUT - Got input \"is_init\" of type \"Any\". (Type check passed).\n",
      "2021-05-12 11:59:53 - dagster - DEBUG - br_rj_riodejaneiro_gtfs_planned_feed - e721029d-11c9-42b6-b0be-fee825596d33 - 31392 - realized_upload_to_bigquery - STEP_INPUT - Got input \"modes\" of type \"Any\". (Type check passed).\n",
      "2021-05-12 11:59:53 - dagster - DEBUG - br_rj_riodejaneiro_gtfs_planned_feed - e721029d-11c9-42b6-b0be-fee825596d33 - 31392 - realized_upload_to_bigquery - STEP_INPUT - Got input \"partitions\" of type \"Any\". (Type check passed).\n",
      "2021-05-12 11:59:53 - dagster - DEBUG - br_rj_riodejaneiro_gtfs_planned_feed - e721029d-11c9-42b6-b0be-fee825596d33 - 31392 - realized_upload_to_bigquery - STEP_INPUT - Got input \"publish_config\" of type \"Any\". (Type check passed).\n",
      "2021-05-12 11:59:53 - dagster - DEBUG - br_rj_riodejaneiro_gtfs_planned_feed - e721029d-11c9-42b6-b0be-fee825596d33 - 31392 - realized_upload_to_bigquery - STEP_INPUT - Got input \"table_config\" of type \"Any\". (Type check passed).\n",
      "2021-05-12 11:59:53 - dagster - DEBUG - br_rj_riodejaneiro_gtfs_planned_feed - e721029d-11c9-42b6-b0be-fee825596d33 - 31392 - realized_upload_to_bigquery - STEP_INPUT - Got input \"table_id\" of type \"Any\". (Type check passed).\n",
      "2021-05-12 11:59:53 - dagster - INFO - system - e721029d-11c9-42b6-b0be-fee825596d33 - realized_upload_to_bigquery - Uploading to mode staging\n",
      "Uploading files: 100%|██████████| 1/1 [00:09<00:00,  9.93s/it]\n",
      "2021-05-12 12:00:03 - dagster - DEBUG - br_rj_riodejaneiro_gtfs_planned_feed - e721029d-11c9-42b6-b0be-fee825596d33 - 31392 - realized_upload_to_bigquery - STEP_OUTPUT - Yielded output \"result\" of type \"Any\". (Type check passed).\n",
      "2021-05-12 12:00:03 - dagster - DEBUG - br_rj_riodejaneiro_gtfs_planned_feed - e721029d-11c9-42b6-b0be-fee825596d33 - 31392 - realized_upload_to_bigquery - HANDLED_OUTPUT - Handled output \"result\" using IO manager \"io_manager\"\n",
      "2021-05-12 12:00:03 - dagster - DEBUG - br_rj_riodejaneiro_gtfs_planned_feed - e721029d-11c9-42b6-b0be-fee825596d33 - 31392 - realized_upload_to_bigquery - STEP_SUCCESS - Finished execution of step \"realized_upload_to_bigquery\" in 9.97s.\n",
      "2021-05-12 12:00:03 - dagster - DEBUG - br_rj_riodejaneiro_gtfs_planned_feed - e721029d-11c9-42b6-b0be-fee825596d33 - realized_upload_to_bigquery - HOOK_SKIPPED - Skipped the execution of hook \"discord_message_on_failure\". It did not meet its triggering condition during the execution of solid \"realized_upload_to_bigquery\".\n",
      "2021-05-12 12:00:03 - dagster - DEBUG - br_rj_riodejaneiro_gtfs_planned_feed - e721029d-11c9-42b6-b0be-fee825596d33 - realized_upload_to_bigquery - HOOK_COMPLETED - Finished the execution of hook \"discord_message_on_success\" triggered for solid \"realized_upload_to_bigquery\".\n",
      "2021-05-12 12:00:03 - dagster - DEBUG - br_rj_riodejaneiro_gtfs_planned_feed - e721029d-11c9-42b6-b0be-fee825596d33 - 31392 - process_gtfs_files.upload_to_bigquery[agency] - STEP_START - Started execution of step \"process_gtfs_files.upload_to_bigquery[agency]\".\n",
      "2021-05-12 12:00:03 - dagster - DEBUG - br_rj_riodejaneiro_gtfs_planned_feed - e721029d-11c9-42b6-b0be-fee825596d33 - 31392 - process_gtfs_files.upload_to_bigquery[agency] - LOADED_INPUT - Loaded input \"file_paths\" using input manager \"io_manager\", from output \"result\" of step \"process_gtfs_files.process_filename[agency]\"\n",
      "2021-05-12 12:00:03 - dagster - DEBUG - br_rj_riodejaneiro_gtfs_planned_feed - e721029d-11c9-42b6-b0be-fee825596d33 - 31392 - process_gtfs_files.upload_to_bigquery[agency] - LOADED_INPUT - Loaded input \"partitions\" using input manager \"io_manager\", from output \"result\" of step \"create_gtfs_version_partition\"\n",
      "2021-05-12 12:00:03 - dagster - DEBUG - br_rj_riodejaneiro_gtfs_planned_feed - e721029d-11c9-42b6-b0be-fee825596d33 - 31392 - process_gtfs_files.upload_to_bigquery[agency] - LOADED_INPUT - Loaded input \"file\" using input manager \"io_manager\", from output \"filename\" of step \"get_gtfs_files\"\n",
      "2021-05-12 12:00:03 - dagster - DEBUG - br_rj_riodejaneiro_gtfs_planned_feed - e721029d-11c9-42b6-b0be-fee825596d33 - 31392 - process_gtfs_files.upload_to_bigquery[agency] - STEP_INPUT - Got input \"file_paths\" of type \"Any\". (Type check passed).\n",
      "2021-05-12 12:00:03 - dagster - DEBUG - br_rj_riodejaneiro_gtfs_planned_feed - e721029d-11c9-42b6-b0be-fee825596d33 - 31392 - process_gtfs_files.upload_to_bigquery[agency] - STEP_INPUT - Got input \"is_init\" of type \"Any\". (Type check passed).\n",
      "2021-05-12 12:00:03 - dagster - DEBUG - br_rj_riodejaneiro_gtfs_planned_feed - e721029d-11c9-42b6-b0be-fee825596d33 - 31392 - process_gtfs_files.upload_to_bigquery[agency] - STEP_INPUT - Got input \"modes\" of type \"Any\". (Type check passed).\n",
      "2021-05-12 12:00:03 - dagster - DEBUG - br_rj_riodejaneiro_gtfs_planned_feed - e721029d-11c9-42b6-b0be-fee825596d33 - 31392 - process_gtfs_files.upload_to_bigquery[agency] - STEP_INPUT - Got input \"partitions\" of type \"Any\". (Type check passed).\n",
      "2021-05-12 12:00:03 - dagster - DEBUG - br_rj_riodejaneiro_gtfs_planned_feed - e721029d-11c9-42b6-b0be-fee825596d33 - 31392 - process_gtfs_files.upload_to_bigquery[agency] - STEP_INPUT - Got input \"publish_config\" of type \"Any\". (Type check passed).\n",
      "2021-05-12 12:00:03 - dagster - DEBUG - br_rj_riodejaneiro_gtfs_planned_feed - e721029d-11c9-42b6-b0be-fee825596d33 - 31392 - process_gtfs_files.upload_to_bigquery[agency] - STEP_INPUT - Got input \"table_config\" of type \"Any\". (Type check passed).\n",
      "2021-05-12 12:00:03 - dagster - DEBUG - br_rj_riodejaneiro_gtfs_planned_feed - e721029d-11c9-42b6-b0be-fee825596d33 - 31392 - process_gtfs_files.upload_to_bigquery[agency] - STEP_INPUT - Got input \"table_id\" of type \"Any\". (Type check passed).\n",
      "2021-05-12 12:00:03 - dagster - INFO - system - e721029d-11c9-42b6-b0be-fee825596d33 - process_gtfs_files.upload_to_bigquery[agency] - Uploading to mode staging\n",
      "Uploading files: 100%|██████████| 1/1 [00:00<00:00,  1.10it/s]\n",
      "2021-05-12 12:00:04 - dagster - DEBUG - br_rj_riodejaneiro_gtfs_planned_feed - e721029d-11c9-42b6-b0be-fee825596d33 - 31392 - process_gtfs_files.upload_to_bigquery[agency] - STEP_OUTPUT - Yielded output \"result\" of type \"Any\". (Type check passed).\n",
      "2021-05-12 12:00:04 - dagster - DEBUG - br_rj_riodejaneiro_gtfs_planned_feed - e721029d-11c9-42b6-b0be-fee825596d33 - 31392 - process_gtfs_files.upload_to_bigquery[agency] - HANDLED_OUTPUT - Handled output \"result\" using IO manager \"io_manager\"\n",
      "2021-05-12 12:00:04 - dagster - DEBUG - br_rj_riodejaneiro_gtfs_planned_feed - e721029d-11c9-42b6-b0be-fee825596d33 - 31392 - process_gtfs_files.upload_to_bigquery[agency] - STEP_SUCCESS - Finished execution of step \"process_gtfs_files.upload_to_bigquery[agency]\" in 922ms.\n",
      "2021-05-12 12:00:04 - dagster - DEBUG - br_rj_riodejaneiro_gtfs_planned_feed - e721029d-11c9-42b6-b0be-fee825596d33 - process_gtfs_files.upload_to_bigquery[agency] - HOOK_SKIPPED - Skipped the execution of hook \"discord_message_on_failure\". It did not meet its triggering condition during the execution of solid \"upload_to_bigquery\".\n",
      "2021-05-12 12:00:04 - dagster - DEBUG - br_rj_riodejaneiro_gtfs_planned_feed - e721029d-11c9-42b6-b0be-fee825596d33 - process_gtfs_files.upload_to_bigquery[agency] - HOOK_COMPLETED - Finished the execution of hook \"discord_message_on_success\" triggered for solid \"upload_to_bigquery\".\n",
      "2021-05-12 12:00:04 - dagster - DEBUG - br_rj_riodejaneiro_gtfs_planned_feed - e721029d-11c9-42b6-b0be-fee825596d33 - 31392 - ENGINE_EVENT - Finished steps in process (pid: 31392) in 31.03s\n",
      "2021-05-12 12:00:04 - dagster - DEBUG - br_rj_riodejaneiro_gtfs_planned_feed - e721029d-11c9-42b6-b0be-fee825596d33 - 31392 - PIPELINE_SUCCESS - Finished execution of pipeline \"br_rj_riodejaneiro_gtfs_planned_feed\".\n"
     ]
    }
   ],
   "source": [
    "result = dagster.execute_pipeline(pipeline.br_rj_riodejaneiro_gtfs_planned_feed,\n",
    "                         run_config = config,\n",
    "                        )"
   ]
  },
  {
   "cell_type": "code",
   "execution_count": 6,
   "metadata": {},
   "outputs": [
    {
     "output_type": "stream",
     "name": "stderr",
     "text": [
      "2021-04-01 13:43:05 - dagster - DEBUG - br_rj_riodejaneiro_onibus_rdo_registros - 25365972-649f-4dd9-9c53-8fbe3c8c670c - 1788 - ENGINE_EVENT - Starting initialization of resources [basedosdados_config, discord_webhook, io_manager, timezone_config].\n",
      "2021-04-01 13:43:05 - dagster - DEBUG - br_rj_riodejaneiro_onibus_rdo_registros - 25365972-649f-4dd9-9c53-8fbe3c8c670c - 1788 - ENGINE_EVENT - Finished initialization of resources [basedosdados_config, discord_webhook, io_manager, timezone_config].\n"
     ]
    },
    {
     "output_type": "execute_result",
     "data": {
      "text/plain": [
       "'/home/lmoraes/maestro/notebooks/data/raw/br_rj_riodejaneiro_rdo/onibus_rdo40_registros/ano=2021/mes=01/2021_-_01_-_JANEIRO.csv'"
      ]
     },
     "metadata": {},
     "execution_count": 6
    }
   ],
   "source": [
    "file_path = result.output_for_solid('get_file_from_storage')\n",
    "file_path"
   ]
  },
  {
   "cell_type": "code",
   "execution_count": 7,
   "metadata": {},
   "outputs": [
    {
     "output_type": "error",
     "ename": "CheckError",
     "evalue": "Invariant failed. Description: br_rj_riodejaneiro_onibus_rdo_registros has no solid named get_headers.",
     "traceback": [
      "\u001b[0;31m---------------------------------------------------------------------------\u001b[0m",
      "\u001b[0;31mCheckError\u001b[0m                                Traceback (most recent call last)",
      "\u001b[0;32m<ipython-input-7-0a25a7f03857>\u001b[0m in \u001b[0;36m<module>\u001b[0;34m\u001b[0m\n\u001b[0;32m----> 1\u001b[0;31m \u001b[0moriginal_header\u001b[0m \u001b[0;34m=\u001b[0m \u001b[0mresult\u001b[0m\u001b[0;34m.\u001b[0m\u001b[0moutput_for_solid\u001b[0m\u001b[0;34m(\u001b[0m\u001b[0;34m'get_headers'\u001b[0m\u001b[0;34m,\u001b[0m \u001b[0;34m'original_header'\u001b[0m\u001b[0;34m)\u001b[0m\u001b[0;34m\u001b[0m\u001b[0;34m\u001b[0m\u001b[0m\n\u001b[0m\u001b[1;32m      2\u001b[0m \u001b[0mcolumn_mapping\u001b[0m \u001b[0;34m=\u001b[0m \u001b[0mresult\u001b[0m\u001b[0;34m.\u001b[0m\u001b[0moutput_for_solid\u001b[0m\u001b[0;34m(\u001b[0m\u001b[0;34m'get_headers'\u001b[0m\u001b[0;34m,\u001b[0m \u001b[0;34m'column_mapping'\u001b[0m\u001b[0;34m)\u001b[0m\u001b[0;34m\u001b[0m\u001b[0;34m\u001b[0m\u001b[0m\n\u001b[1;32m      3\u001b[0m \u001b[0mordered_header\u001b[0m \u001b[0;34m=\u001b[0m \u001b[0mresult\u001b[0m\u001b[0;34m.\u001b[0m\u001b[0moutput_for_solid\u001b[0m\u001b[0;34m(\u001b[0m\u001b[0;34m'get_headers'\u001b[0m\u001b[0;34m,\u001b[0m \u001b[0;34m'ordered_header'\u001b[0m\u001b[0;34m)\u001b[0m\u001b[0;34m\u001b[0m\u001b[0;34m\u001b[0m\u001b[0m\n",
      "\u001b[0;32m~/.pyenv/versions/maestro/lib/python3.8/site-packages/dagster/core/execution/results.py\u001b[0m in \u001b[0;36moutput_for_solid\u001b[0;34m(self, handle_str, output_name)\u001b[0m\n\u001b[1;32m     84\u001b[0m         \u001b[0mcheck\u001b[0m\u001b[0;34m.\u001b[0m\u001b[0mstr_param\u001b[0m\u001b[0;34m(\u001b[0m\u001b[0mhandle_str\u001b[0m\u001b[0;34m,\u001b[0m \u001b[0;34m\"handle_str\"\u001b[0m\u001b[0;34m)\u001b[0m\u001b[0;34m\u001b[0m\u001b[0;34m\u001b[0m\u001b[0m\n\u001b[1;32m     85\u001b[0m         \u001b[0mcheck\u001b[0m\u001b[0;34m.\u001b[0m\u001b[0mstr_param\u001b[0m\u001b[0;34m(\u001b[0m\u001b[0moutput_name\u001b[0m\u001b[0;34m,\u001b[0m \u001b[0;34m\"output_name\"\u001b[0m\u001b[0;34m)\u001b[0m\u001b[0;34m\u001b[0m\u001b[0;34m\u001b[0m\u001b[0m\n\u001b[0;32m---> 86\u001b[0;31m         \u001b[0;32mreturn\u001b[0m \u001b[0mself\u001b[0m\u001b[0;34m.\u001b[0m\u001b[0mresult_for_handle\u001b[0m\u001b[0;34m(\u001b[0m\u001b[0mSolidHandle\u001b[0m\u001b[0;34m.\u001b[0m\u001b[0mfrom_string\u001b[0m\u001b[0;34m(\u001b[0m\u001b[0mhandle_str\u001b[0m\u001b[0;34m)\u001b[0m\u001b[0;34m)\u001b[0m\u001b[0;34m.\u001b[0m\u001b[0moutput_value\u001b[0m\u001b[0;34m(\u001b[0m\u001b[0moutput_name\u001b[0m\u001b[0;34m)\u001b[0m\u001b[0;34m\u001b[0m\u001b[0;34m\u001b[0m\u001b[0m\n\u001b[0m\u001b[1;32m     87\u001b[0m \u001b[0;34m\u001b[0m\u001b[0m\n\u001b[1;32m     88\u001b[0m     \u001b[0;34m@\u001b[0m\u001b[0mproperty\u001b[0m\u001b[0;34m\u001b[0m\u001b[0;34m\u001b[0m\u001b[0m\n",
      "\u001b[0;32m~/.pyenv/versions/maestro/lib/python3.8/site-packages/dagster/core/execution/results.py\u001b[0m in \u001b[0;36mresult_for_handle\u001b[0;34m(self, handle)\u001b[0m\n\u001b[1;32m    147\u001b[0m             \u001b[0mcheck\u001b[0m\u001b[0;34m.\u001b[0m\u001b[0minst_param\u001b[0m\u001b[0;34m(\u001b[0m\u001b[0mhandle\u001b[0m\u001b[0;34m,\u001b[0m \u001b[0;34m\"handle\"\u001b[0m\u001b[0;34m,\u001b[0m \u001b[0mSolidHandle\u001b[0m\u001b[0;34m)\u001b[0m\u001b[0;34m\u001b[0m\u001b[0;34m\u001b[0m\u001b[0m\n\u001b[1;32m    148\u001b[0m \u001b[0;34m\u001b[0m\u001b[0m\n\u001b[0;32m--> 149\u001b[0;31m         \u001b[0msolid\u001b[0m \u001b[0;34m=\u001b[0m \u001b[0mself\u001b[0m\u001b[0;34m.\u001b[0m\u001b[0mcontainer\u001b[0m\u001b[0;34m.\u001b[0m\u001b[0mget_solid\u001b[0m\u001b[0;34m(\u001b[0m\u001b[0mhandle\u001b[0m\u001b[0;34m)\u001b[0m\u001b[0;34m\u001b[0m\u001b[0;34m\u001b[0m\u001b[0m\n\u001b[0m\u001b[1;32m    150\u001b[0m \u001b[0;34m\u001b[0m\u001b[0m\n\u001b[1;32m    151\u001b[0m         \u001b[0;32mreturn\u001b[0m \u001b[0mself\u001b[0m\u001b[0;34m.\u001b[0m\u001b[0m_result_for_handle\u001b[0m\u001b[0;34m(\u001b[0m\u001b[0msolid\u001b[0m\u001b[0;34m,\u001b[0m \u001b[0mhandle\u001b[0m\u001b[0;34m)\u001b[0m\u001b[0;34m\u001b[0m\u001b[0;34m\u001b[0m\u001b[0m\n",
      "\u001b[0;32m~/.pyenv/versions/maestro/lib/python3.8/site-packages/dagster/core/definitions/graph.py\u001b[0m in \u001b[0;36mget_solid\u001b[0;34m(self, handle)\u001b[0m\n\u001b[1;32m    192\u001b[0m \u001b[0;34m\u001b[0m\u001b[0m\n\u001b[1;32m    193\u001b[0m         \u001b[0mname\u001b[0m \u001b[0;34m=\u001b[0m \u001b[0mlineage\u001b[0m\u001b[0;34m.\u001b[0m\u001b[0mpop\u001b[0m\u001b[0;34m(\u001b[0m\u001b[0;34m)\u001b[0m\u001b[0;34m\u001b[0m\u001b[0;34m\u001b[0m\u001b[0m\n\u001b[0;32m--> 194\u001b[0;31m         \u001b[0msolid\u001b[0m \u001b[0;34m=\u001b[0m \u001b[0mself\u001b[0m\u001b[0;34m.\u001b[0m\u001b[0msolid_named\u001b[0m\u001b[0;34m(\u001b[0m\u001b[0mname\u001b[0m\u001b[0;34m)\u001b[0m\u001b[0;34m\u001b[0m\u001b[0;34m\u001b[0m\u001b[0m\n\u001b[0m\u001b[1;32m    195\u001b[0m         \u001b[0;32mwhile\u001b[0m \u001b[0mlineage\u001b[0m\u001b[0;34m:\u001b[0m\u001b[0;34m\u001b[0m\u001b[0;34m\u001b[0m\u001b[0m\n\u001b[1;32m    196\u001b[0m             \u001b[0mname\u001b[0m \u001b[0;34m=\u001b[0m \u001b[0mlineage\u001b[0m\u001b[0;34m.\u001b[0m\u001b[0mpop\u001b[0m\u001b[0;34m(\u001b[0m\u001b[0;34m)\u001b[0m\u001b[0;34m\u001b[0m\u001b[0;34m\u001b[0m\u001b[0m\n",
      "\u001b[0;32m~/.pyenv/versions/maestro/lib/python3.8/site-packages/dagster/core/definitions/graph.py\u001b[0m in \u001b[0;36msolid_named\u001b[0;34m(self, name)\u001b[0m\n\u001b[1;32m    167\u001b[0m         \"\"\"\n\u001b[1;32m    168\u001b[0m         \u001b[0mcheck\u001b[0m\u001b[0;34m.\u001b[0m\u001b[0mstr_param\u001b[0m\u001b[0;34m(\u001b[0m\u001b[0mname\u001b[0m\u001b[0;34m,\u001b[0m \u001b[0;34m\"name\"\u001b[0m\u001b[0;34m)\u001b[0m\u001b[0;34m\u001b[0m\u001b[0;34m\u001b[0m\u001b[0m\n\u001b[0;32m--> 169\u001b[0;31m         check.invariant(\n\u001b[0m\u001b[1;32m    170\u001b[0m             \u001b[0mname\u001b[0m \u001b[0;32min\u001b[0m \u001b[0mself\u001b[0m\u001b[0;34m.\u001b[0m\u001b[0m_solid_dict\u001b[0m\u001b[0;34m,\u001b[0m\u001b[0;34m\u001b[0m\u001b[0;34m\u001b[0m\u001b[0m\n\u001b[1;32m    171\u001b[0m             \u001b[0;34m\"{graph_name} has no solid named {name}.\"\u001b[0m\u001b[0;34m.\u001b[0m\u001b[0mformat\u001b[0m\u001b[0;34m(\u001b[0m\u001b[0mgraph_name\u001b[0m\u001b[0;34m=\u001b[0m\u001b[0mself\u001b[0m\u001b[0;34m.\u001b[0m\u001b[0m_name\u001b[0m\u001b[0;34m,\u001b[0m \u001b[0mname\u001b[0m\u001b[0;34m=\u001b[0m\u001b[0mname\u001b[0m\u001b[0;34m)\u001b[0m\u001b[0;34m,\u001b[0m\u001b[0;34m\u001b[0m\u001b[0;34m\u001b[0m\u001b[0m\n",
      "\u001b[0;32m~/.pyenv/versions/maestro/lib/python3.8/site-packages/dagster/check/__init__.py\u001b[0m in \u001b[0;36minvariant\u001b[0;34m(condition, desc)\u001b[0m\n\u001b[1;32m    166\u001b[0m     \u001b[0;32mif\u001b[0m \u001b[0;32mnot\u001b[0m \u001b[0mcondition\u001b[0m\u001b[0;34m:\u001b[0m\u001b[0;34m\u001b[0m\u001b[0;34m\u001b[0m\u001b[0m\n\u001b[1;32m    167\u001b[0m         \u001b[0;32mif\u001b[0m \u001b[0mdesc\u001b[0m\u001b[0;34m:\u001b[0m\u001b[0;34m\u001b[0m\u001b[0;34m\u001b[0m\u001b[0m\n\u001b[0;32m--> 168\u001b[0;31m             raise_with_traceback(\n\u001b[0m\u001b[1;32m    169\u001b[0m                 \u001b[0mCheckError\u001b[0m\u001b[0;34m(\u001b[0m\u001b[0;34m\"Invariant failed. Description: {desc}\"\u001b[0m\u001b[0;34m.\u001b[0m\u001b[0mformat\u001b[0m\u001b[0;34m(\u001b[0m\u001b[0mdesc\u001b[0m\u001b[0;34m=\u001b[0m\u001b[0mdesc\u001b[0m\u001b[0;34m)\u001b[0m\u001b[0;34m)\u001b[0m\u001b[0;34m\u001b[0m\u001b[0;34m\u001b[0m\u001b[0m\n\u001b[1;32m    170\u001b[0m             )\n",
      "\u001b[0;32m~/.pyenv/versions/maestro/lib/python3.8/site-packages/future/utils/__init__.py\u001b[0m in \u001b[0;36mraise_with_traceback\u001b[0;34m(exc, traceback)\u001b[0m\n\u001b[1;32m    444\u001b[0m         \u001b[0;32mif\u001b[0m \u001b[0mtraceback\u001b[0m \u001b[0;34m==\u001b[0m \u001b[0mEllipsis\u001b[0m\u001b[0;34m:\u001b[0m\u001b[0;34m\u001b[0m\u001b[0;34m\u001b[0m\u001b[0m\n\u001b[1;32m    445\u001b[0m             \u001b[0m_\u001b[0m\u001b[0;34m,\u001b[0m \u001b[0m_\u001b[0m\u001b[0;34m,\u001b[0m \u001b[0mtraceback\u001b[0m \u001b[0;34m=\u001b[0m \u001b[0msys\u001b[0m\u001b[0;34m.\u001b[0m\u001b[0mexc_info\u001b[0m\u001b[0;34m(\u001b[0m\u001b[0;34m)\u001b[0m\u001b[0;34m\u001b[0m\u001b[0;34m\u001b[0m\u001b[0m\n\u001b[0;32m--> 446\u001b[0;31m         \u001b[0;32mraise\u001b[0m \u001b[0mexc\u001b[0m\u001b[0;34m.\u001b[0m\u001b[0mwith_traceback\u001b[0m\u001b[0;34m(\u001b[0m\u001b[0mtraceback\u001b[0m\u001b[0;34m)\u001b[0m\u001b[0;34m\u001b[0m\u001b[0;34m\u001b[0m\u001b[0m\n\u001b[0m\u001b[1;32m    447\u001b[0m \u001b[0;34m\u001b[0m\u001b[0m\n\u001b[1;32m    448\u001b[0m \u001b[0;32melse\u001b[0m\u001b[0;34m:\u001b[0m\u001b[0;34m\u001b[0m\u001b[0;34m\u001b[0m\u001b[0m\n",
      "\u001b[0;31mCheckError\u001b[0m: Invariant failed. Description: br_rj_riodejaneiro_onibus_rdo_registros has no solid named get_headers."
     ]
    }
   ],
   "source": [
    "original_header = result.output_for_solid('get_headers', 'original_header')\n",
    "column_mapping = result.output_for_solid('get_headers', 'column_mapping')\n",
    "ordered_header = result.output_for_solid('get_headers', 'ordered_header')"
   ]
  },
  {
   "cell_type": "code",
   "execution_count": 8,
   "metadata": {},
   "outputs": [],
   "source": [
    "import pandas as pd"
   ]
  },
  {
   "cell_type": "code",
   "execution_count": 9,
   "metadata": {},
   "outputs": [],
   "source": [
    "df = pd.read_csv(file_path, delimiter=\";\")"
   ]
  },
  {
   "cell_type": "code",
   "execution_count": 10,
   "metadata": {},
   "outputs": [
    {
     "output_type": "execute_result",
     "data": {
      "text/plain": [
       "           Termo Linha TPSERV  ORD_SERV  TPVEIC   ANO  Unnamed: 6  DIA  \\\n",
       "0      221000023   100      A         1      51  2021           1    1   \n",
       "1      221000023   100      A         1      51  2021           1    2   \n",
       "2      221000023   100      A         1      51  2021           1    3   \n",
       "3      221000023   100      A         1      51  2021           1    4   \n",
       "4      221000023   100      A         1      51  2021           1    5   \n",
       "...          ...   ...    ...       ...     ...   ...         ...  ...   \n",
       "13665  221000041  2802      A         1       7  2021           1   25   \n",
       "13666  221000041  2802      A         1       7  2021           1   26   \n",
       "13667  221000041  2802      A         1       7  2021           1   27   \n",
       "13668  221000041  2802      A         1       7  2021           1   28   \n",
       "13669  221000041  2802      A         1       7  2021           1   29   \n",
       "\n",
       "      TARIDET  TARIFPRA  ...  BUCS  BUCSINT  RECBUCS  BUTMET    RECVT  \\\n",
       "0           A       405  ...     0        0        0    2708   946647   \n",
       "1           A       405  ...     0        0        0    4830  1666616   \n",
       "2           A       405  ...     0        0        0    3953  1357804   \n",
       "3           A       405  ...     0        0        0    6860  2317807   \n",
       "4           A       405  ...     0        0        0    7154  2417153   \n",
       "...       ...       ...  ...   ...      ...      ...     ...      ...   \n",
       "13665       H      1500  ...     0        0        0    1056  1584000   \n",
       "13666       H      1500  ...     0        0        0      67   100500   \n",
       "13667       H      1500  ...     0        0        0      65    97500   \n",
       "13668       H      1500  ...     0        0        0      18    27000   \n",
       "13669       H      1500  ...     0        0        0     137   205500   \n",
       "\n",
       "       TOTPASPAG  RECPASPAG  TOTPAS  RECTOTAL  PASLVRUNI  \n",
       "0           1129     457245    4876   1553985          0  \n",
       "1           1123     454815    7986   2410965          0  \n",
       "2           1180     477900    6815   2078865          0  \n",
       "3            967     391635   11288   3169967          0  \n",
       "4           1306     528930   12036   3426332          0  \n",
       "...          ...        ...     ...       ...        ...  \n",
       "13665        112     168000    1168   1752000          0  \n",
       "13666         18      27000      85    127500          0  \n",
       "13667         21      31500      86    129000          0  \n",
       "13668         18      27000      36     54000          0  \n",
       "13669         26      39000     163    244500          0  \n",
       "\n",
       "[13670 rows x 35 columns]"
      ],
      "text/html": "<div>\n<style scoped>\n    .dataframe tbody tr th:only-of-type {\n        vertical-align: middle;\n    }\n\n    .dataframe tbody tr th {\n        vertical-align: top;\n    }\n\n    .dataframe thead th {\n        text-align: right;\n    }\n</style>\n<table border=\"1\" class=\"dataframe\">\n  <thead>\n    <tr style=\"text-align: right;\">\n      <th></th>\n      <th>Termo</th>\n      <th>Linha</th>\n      <th>TPSERV</th>\n      <th>ORD_SERV</th>\n      <th>TPVEIC</th>\n      <th>ANO</th>\n      <th>Unnamed: 6</th>\n      <th>DIA</th>\n      <th>TARIDET</th>\n      <th>TARIFPRA</th>\n      <th>...</th>\n      <th>BUCS</th>\n      <th>BUCSINT</th>\n      <th>RECBUCS</th>\n      <th>BUTMET</th>\n      <th>RECVT</th>\n      <th>TOTPASPAG</th>\n      <th>RECPASPAG</th>\n      <th>TOTPAS</th>\n      <th>RECTOTAL</th>\n      <th>PASLVRUNI</th>\n    </tr>\n  </thead>\n  <tbody>\n    <tr>\n      <th>0</th>\n      <td>221000023</td>\n      <td>100</td>\n      <td>A</td>\n      <td>1</td>\n      <td>51</td>\n      <td>2021</td>\n      <td>1</td>\n      <td>1</td>\n      <td>A</td>\n      <td>405</td>\n      <td>...</td>\n      <td>0</td>\n      <td>0</td>\n      <td>0</td>\n      <td>2708</td>\n      <td>946647</td>\n      <td>1129</td>\n      <td>457245</td>\n      <td>4876</td>\n      <td>1553985</td>\n      <td>0</td>\n    </tr>\n    <tr>\n      <th>1</th>\n      <td>221000023</td>\n      <td>100</td>\n      <td>A</td>\n      <td>1</td>\n      <td>51</td>\n      <td>2021</td>\n      <td>1</td>\n      <td>2</td>\n      <td>A</td>\n      <td>405</td>\n      <td>...</td>\n      <td>0</td>\n      <td>0</td>\n      <td>0</td>\n      <td>4830</td>\n      <td>1666616</td>\n      <td>1123</td>\n      <td>454815</td>\n      <td>7986</td>\n      <td>2410965</td>\n      <td>0</td>\n    </tr>\n    <tr>\n      <th>2</th>\n      <td>221000023</td>\n      <td>100</td>\n      <td>A</td>\n      <td>1</td>\n      <td>51</td>\n      <td>2021</td>\n      <td>1</td>\n      <td>3</td>\n      <td>A</td>\n      <td>405</td>\n      <td>...</td>\n      <td>0</td>\n      <td>0</td>\n      <td>0</td>\n      <td>3953</td>\n      <td>1357804</td>\n      <td>1180</td>\n      <td>477900</td>\n      <td>6815</td>\n      <td>2078865</td>\n      <td>0</td>\n    </tr>\n    <tr>\n      <th>3</th>\n      <td>221000023</td>\n      <td>100</td>\n      <td>A</td>\n      <td>1</td>\n      <td>51</td>\n      <td>2021</td>\n      <td>1</td>\n      <td>4</td>\n      <td>A</td>\n      <td>405</td>\n      <td>...</td>\n      <td>0</td>\n      <td>0</td>\n      <td>0</td>\n      <td>6860</td>\n      <td>2317807</td>\n      <td>967</td>\n      <td>391635</td>\n      <td>11288</td>\n      <td>3169967</td>\n      <td>0</td>\n    </tr>\n    <tr>\n      <th>4</th>\n      <td>221000023</td>\n      <td>100</td>\n      <td>A</td>\n      <td>1</td>\n      <td>51</td>\n      <td>2021</td>\n      <td>1</td>\n      <td>5</td>\n      <td>A</td>\n      <td>405</td>\n      <td>...</td>\n      <td>0</td>\n      <td>0</td>\n      <td>0</td>\n      <td>7154</td>\n      <td>2417153</td>\n      <td>1306</td>\n      <td>528930</td>\n      <td>12036</td>\n      <td>3426332</td>\n      <td>0</td>\n    </tr>\n    <tr>\n      <th>...</th>\n      <td>...</td>\n      <td>...</td>\n      <td>...</td>\n      <td>...</td>\n      <td>...</td>\n      <td>...</td>\n      <td>...</td>\n      <td>...</td>\n      <td>...</td>\n      <td>...</td>\n      <td>...</td>\n      <td>...</td>\n      <td>...</td>\n      <td>...</td>\n      <td>...</td>\n      <td>...</td>\n      <td>...</td>\n      <td>...</td>\n      <td>...</td>\n      <td>...</td>\n      <td>...</td>\n    </tr>\n    <tr>\n      <th>13665</th>\n      <td>221000041</td>\n      <td>2802</td>\n      <td>A</td>\n      <td>1</td>\n      <td>7</td>\n      <td>2021</td>\n      <td>1</td>\n      <td>25</td>\n      <td>H</td>\n      <td>1500</td>\n      <td>...</td>\n      <td>0</td>\n      <td>0</td>\n      <td>0</td>\n      <td>1056</td>\n      <td>1584000</td>\n      <td>112</td>\n      <td>168000</td>\n      <td>1168</td>\n      <td>1752000</td>\n      <td>0</td>\n    </tr>\n    <tr>\n      <th>13666</th>\n      <td>221000041</td>\n      <td>2802</td>\n      <td>A</td>\n      <td>1</td>\n      <td>7</td>\n      <td>2021</td>\n      <td>1</td>\n      <td>26</td>\n      <td>H</td>\n      <td>1500</td>\n      <td>...</td>\n      <td>0</td>\n      <td>0</td>\n      <td>0</td>\n      <td>67</td>\n      <td>100500</td>\n      <td>18</td>\n      <td>27000</td>\n      <td>85</td>\n      <td>127500</td>\n      <td>0</td>\n    </tr>\n    <tr>\n      <th>13667</th>\n      <td>221000041</td>\n      <td>2802</td>\n      <td>A</td>\n      <td>1</td>\n      <td>7</td>\n      <td>2021</td>\n      <td>1</td>\n      <td>27</td>\n      <td>H</td>\n      <td>1500</td>\n      <td>...</td>\n      <td>0</td>\n      <td>0</td>\n      <td>0</td>\n      <td>65</td>\n      <td>97500</td>\n      <td>21</td>\n      <td>31500</td>\n      <td>86</td>\n      <td>129000</td>\n      <td>0</td>\n    </tr>\n    <tr>\n      <th>13668</th>\n      <td>221000041</td>\n      <td>2802</td>\n      <td>A</td>\n      <td>1</td>\n      <td>7</td>\n      <td>2021</td>\n      <td>1</td>\n      <td>28</td>\n      <td>H</td>\n      <td>1500</td>\n      <td>...</td>\n      <td>0</td>\n      <td>0</td>\n      <td>0</td>\n      <td>18</td>\n      <td>27000</td>\n      <td>18</td>\n      <td>27000</td>\n      <td>36</td>\n      <td>54000</td>\n      <td>0</td>\n    </tr>\n    <tr>\n      <th>13669</th>\n      <td>221000041</td>\n      <td>2802</td>\n      <td>A</td>\n      <td>1</td>\n      <td>7</td>\n      <td>2021</td>\n      <td>1</td>\n      <td>29</td>\n      <td>H</td>\n      <td>1500</td>\n      <td>...</td>\n      <td>0</td>\n      <td>0</td>\n      <td>0</td>\n      <td>137</td>\n      <td>205500</td>\n      <td>26</td>\n      <td>39000</td>\n      <td>163</td>\n      <td>244500</td>\n      <td>0</td>\n    </tr>\n  </tbody>\n</table>\n<p>13670 rows × 35 columns</p>\n</div>"
     },
     "metadata": {},
     "execution_count": 10
    }
   ],
   "source": [
    "df"
   ]
  },
  {
   "cell_type": "code",
   "execution_count": 11,
   "metadata": {},
   "outputs": [
    {
     "output_type": "execute_result",
     "data": {
      "text/plain": [
       "operadora                              int64\n",
       "linha                                 object\n",
       "servico_tipo                          object\n",
       "servico_termo                          int64\n",
       "tipo_veiculo                           int64\n",
       "data_ano                               int64\n",
       "data_mes                             float64\n",
       "data_dia                               int64\n",
       "tarifa_codigo                         object\n",
       "tarifa_valor                         float64\n",
       "frota_determinada                      int64\n",
       "frota_licenciada                       int64\n",
       "frota_operante                         int64\n",
       "viagem_realizada                       int64\n",
       "km                                   float64\n",
       "gratuidade_idoso                       int64\n",
       "gratuidade_especial                    int64\n",
       "gratuidade_estudante_federal           int64\n",
       "gratuidade_estudante_estadual          int64\n",
       "gratuidade_estudante_municipal         int64\n",
       "gratuidade_rodoviario                  int64\n",
       "universitario                          int64\n",
       "gratuidade_total                       int64\n",
       "buc_1a_perna                           int64\n",
       "buc_2a_perna                           int64\n",
       "buc_receita                          float64\n",
       "buc_supervia_1a_perna                  int64\n",
       "buc_supervia_2a_perna                  int64\n",
       "buc_supervia_receita                 float64\n",
       "perna_unica_e_outros_transportado      int64\n",
       "perna_unica_e_outros_receita         float64\n",
       "especie_passageiro_transportado        int64\n",
       "especie_receita                      float64\n",
       "total_passageiro_transportado          int64\n",
       "total_receita                        float64\n",
       "tipo_informacao                      float64\n",
       "dtype: object"
      ]
     },
     "metadata": {},
     "execution_count": 11
    }
   ],
   "source": [
    "ORIGINAL_HEADER = [\n",
    "\"Termo\",\n",
    "\"Linha\",\n",
    "\"TPSERV\",\n",
    "\"ORD_SERV\",\n",
    "\"TPVEIC\",\n",
    "\"ANO\",\n",
    "\"MES\",\n",
    "\"DIA\",\n",
    "\"TARIDET\",\n",
    "\"TARIFPRA\",\n",
    "\"FROTDET\",\n",
    "\"FROTLIC\",\n",
    "\"FROTOPE\",\n",
    "\"NUMVIG\",\n",
    "\"KMCOB\",\n",
    "\"IDOSO\",\n",
    "\"PNE\",\n",
    "\"ESTU\",\n",
    "\"ESTE\",\n",
    "\"ESTM\",\n",
    "\"FUNCEMP\",\n",
    "\"TOTGRAT\",\n",
    "\"BUC\",\n",
    "\"BUCINT\",\n",
    "\"RECBUC\",\n",
    "\"BUCS\",\n",
    "\"BUCSINT\",\n",
    "\"RECBUCS\",\n",
    "\"BUTMET\",\n",
    "\"RECVT\",\n",
    "\"TOTPASPAG\",\n",
    "\"RECPASPAG\",\n",
    "\"TOTPAS\",\n",
    "\"RECTOTAL\",\n",
    "\"PASLVRUNI\",\n",
    "]\n",
    "\n",
    "ORDERED_HEADER = [\n",
    "\"operadora\",\n",
    "\"linha\",\n",
    "\"servico_tipo\",\n",
    "\"servico_termo\",\n",
    "\"tipo_veiculo\",\n",
    "\"data_ano\",\n",
    "\"data_mes\",\n",
    "\"data_dia\",\n",
    "\"tarifa_codigo\",\n",
    "\"tarifa_valor\",\n",
    "\"frota_determinada\",\n",
    "\"frota_licenciada\",\n",
    "\"frota_operante\",\n",
    "\"viagem_realizada\",\n",
    "\"km\",\n",
    "\"gratuidade_idoso\",\n",
    "\"gratuidade_especial\",\n",
    "\"gratuidade_estudante_federal\",\n",
    "\"gratuidade_estudante_estadual\",\n",
    "\"gratuidade_estudante_municipal\",\n",
    "\"gratuidade_rodoviario\",\n",
    "\"universitario\",\n",
    "\"gratuidade_total\",\n",
    "\"buc_1a_perna\",\n",
    "\"buc_2a_perna\",\n",
    "\"buc_receita\",\n",
    "\"buc_supervia_1a_perna\",\n",
    "\"buc_supervia_2a_perna\",\n",
    "\"buc_supervia_receita\",\n",
    "\"perna_unica_e_outros_transportado\",\n",
    "\"perna_unica_e_outros_receita\",\n",
    "\"especie_passageiro_transportado\",\n",
    "\"especie_receita\",\n",
    "\"total_passageiro_transportado\",\n",
    "\"total_receita\",\n",
    "\"tipo_informacao\",\n",
    "]\n",
    "\n",
    "\n",
    "column_mapping = {\n",
    "\"Termo\": \"operadora\",\n",
    "\"Linha\": \"linha\",\n",
    "\"TPSERV\": \"servico_tipo\",\n",
    "\"ORD_SERV\": \"servico_termo\",\n",
    "\"TPVEIC\": \"tipo_veiculo\",\n",
    "\"ANO\": \"data_ano\",\n",
    "\"MÊS\": \"data_mes\",\n",
    "\"DIA\": \"data_dia\",\n",
    "\"TARIDET\": \"tarifa_codigo\",\n",
    "\"TARIFPRA\": \"tarifa_valor\",\n",
    "\"FROTDET\": \"frota_determinada\",\n",
    "\"FROTLIC\": \"frota_licenciada\",\n",
    "\"FROTOPE\": \"frota_operante\",\n",
    "\"NUMVIG\": \"viagem_realizada\",\n",
    "\"KMCOB\": \"km\",\n",
    "\"IDOSO\": \"gratuidade_idoso\",\n",
    "\"PNE\": \"gratuidade_especial\",\n",
    "\"ESTU\": \"gratuidade_estudante_federal\",\n",
    "\"ESTE\": \"gratuidade_estudante_estadual\",\n",
    "\"ESTM\": \"gratuidade_estudante_municipal\",\n",
    "\"FUNCEMP\": \"gratuidade_rodoviario\",\n",
    "\"PASLVRUNI\": \"universitario\",\n",
    "\"TOTGRAT\": \"gratuidade_total\",\n",
    "\"BUC\": \"buc_1a_perna\",\n",
    "\"BUCINT\": \"buc_2a_perna\",\n",
    "\"RECBUC\": \"buc_receita\",\n",
    "\"BUCS\": \"buc_supervia_1a_perna\",\n",
    "\"BUCSINT\": \"buc_supervia_2a_perna\",\n",
    "\"RECBUCS\": \"buc_supervia_receita\",\n",
    "\"BUTMET\": \"perna_unica_e_outros_transportado\",\n",
    "\"RECVT\": \"perna_unica_e_outros_receita\",\n",
    "\"TOTPASPAG\": \"especie_passageiro_transportado\",\n",
    "\"RECPASPAG\": \"especie_receita\",\n",
    "\"TOTPAS\": \"total_passageiro_transportado\",\n",
    "\"RECTOTAL\": \"total_receita\",\n",
    "}\n",
    "cols_to_divide = [\n",
    "    \"km\",\n",
    "    \"tarifa_valor\",\n",
    "    \"buc_receita\",\n",
    "    \"buc_supervia_receita\",\n",
    "    \"perna_unica_e_outros_receita\",\n",
    "    \"especie_receita\",\n",
    "    \"total_receita\"\n",
    "]\n",
    "df.columns = ORIGINAL_HEADER\n",
    "df.rename(columns = column_mapping, inplace = True)\n",
    "df = df.reindex(columns = ORDERED_HEADER)\n",
    "# timestamp_captura = pd.to_datetime(pendulum.now(timezone).isoformat())\n",
    "# df[\"timestamp_captura\"] = timestamp_captura\n",
    "# context.log.debug(\", \".join(list(df.columns)))\n",
    "\n",
    "# Divide money columns by 100\n",
    "df[cols_to_divide] = df[cols_to_divide].apply(lambda x: x.astype(int)/100, axis=1)\n",
    "df.dtypes"
   ]
  },
  {
   "cell_type": "code",
   "execution_count": 12,
   "metadata": {},
   "outputs": [
    {
     "output_type": "execute_result",
     "data": {
      "text/plain": [
       "operadora                              int64\n",
       "linha                                 object\n",
       "servico_tipo                          object\n",
       "servico_termo                          int64\n",
       "tipo_veiculo                           int64\n",
       "data_ano                               int64\n",
       "data_mes                             float64\n",
       "data_dia                               int64\n",
       "tarifa_codigo                         object\n",
       "tarifa_valor                         float64\n",
       "frota_determinada                      int64\n",
       "frota_licenciada                       int64\n",
       "frota_operante                         int64\n",
       "viagem_realizada                       int64\n",
       "km                                   float64\n",
       "gratuidade_idoso                       int64\n",
       "gratuidade_especial                    int64\n",
       "gratuidade_estudante_federal           int64\n",
       "gratuidade_estudante_estadual          int64\n",
       "gratuidade_estudante_municipal         int64\n",
       "gratuidade_rodoviario                  int64\n",
       "universitario                          int64\n",
       "gratuidade_total                       int64\n",
       "buc_1a_perna                           int64\n",
       "buc_2a_perna                           int64\n",
       "buc_receita                          float64\n",
       "buc_supervia_1a_perna                  int64\n",
       "buc_supervia_2a_perna                  int64\n",
       "buc_supervia_receita                 float64\n",
       "perna_unica_e_outros_transportado      int64\n",
       "perna_unica_e_outros_receita         float64\n",
       "especie_passageiro_transportado        int64\n",
       "especie_receita                      float64\n",
       "total_passageiro_transportado          int64\n",
       "total_receita                        float64\n",
       "tipo_informacao                      float64\n",
       "dtype: object"
      ]
     },
     "metadata": {},
     "execution_count": 12
    }
   ],
   "source": [
    "df.dtypes"
   ]
  },
  {
   "cell_type": "code",
   "execution_count": 14,
   "metadata": {},
   "outputs": [
    {
     "output_type": "stream",
     "name": "stdout",
     "text": [
      "float64\n"
     ]
    },
    {
     "output_type": "execute_result",
     "data": {
      "text/plain": [
       "'int64'"
      ]
     },
     "metadata": {},
     "execution_count": 14
    }
   ],
   "source": [
    "print(str(df['data_mes'].dtypes))\n",
    "str(df['data_ano'].dtypes)"
   ]
  },
  {
   "cell_type": "code",
   "execution_count": 28,
   "metadata": {},
   "outputs": [],
   "source": [
    "df.to_csv('/mnt/c/Users/lauri/Downloads/teste.csv')"
   ]
  }
 ]
}