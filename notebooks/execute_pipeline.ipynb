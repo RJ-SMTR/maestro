{
 "metadata": {
  "language_info": {
   "codemirror_mode": {
    "name": "ipython",
    "version": 3
   },
   "file_extension": ".py",
   "mimetype": "text/x-python",
   "name": "python",
   "nbconvert_exporter": "python",
   "pygments_lexer": "ipython3",
   "version": "3.8.5-final"
  },
  "orig_nbformat": 2,
  "kernelspec": {
   "name": "python3",
   "display_name": "Python 3.8.5 64-bit ('maestro')",
   "metadata": {
    "interpreter": {
     "hash": "967e0ad8f74b4223479a99dc6f7efc25e752c369d3f31683542303dbaeb6ed17"
    }
   }
  }
 },
 "nbformat": 4,
 "nbformat_minor": 2,
 "cells": [
  {
   "cell_type": "code",
   "execution_count": 1,
   "metadata": {},
   "outputs": [],
   "source": [
    "import dagster\n",
    "import sys\n",
    "sys.path.append(\"/home/lmoraes/maestro/\")\n",
    "# import repositories.capturas.br_rj_riodejaneiro_onibus_gps.registros as pipeline\n",
    "# import repositories.capturas.br_rj_riodejaneiro_onibus_rdo.registros as pipeline\n",
    "import repositories.capturas.br_rj_riodejaneiro_brt_rdo.registros as pipeline\n",
    "from repositories.helpers.helpers import read_config\n",
    "import os"
   ]
  },
  {
   "cell_type": "code",
   "execution_count": 4,
   "metadata": {},
   "outputs": [],
   "source": [
    "config = read_config(\"/home/lmoraes/maestro/repositories/capturas/br_rj_riodejaneiro_brt_rdo/registros.yaml\")\n",
    "config[\"resources\"][\"timezone_config\"][\"config\"][\"timezone\"] = \"America/Sao_Paulo\"\n",
    "del config[\"solids\"][\"upload_to_bigquery\"]"
   ]
  },
  {
   "cell_type": "code",
   "execution_count": 5,
   "metadata": {
    "tags": []
   },
   "outputs": [
    {
     "output_type": "error",
     "ename": "AttributeError",
     "evalue": "module 'repositories.capturas.br_rj_riodejaneiro_onibus_rdo.registros' has no attribute 'br_rj_riodejaneiro_brt_rdo_registros'",
     "traceback": [
      "\u001b[0;31m---------------------------------------------------------------------------\u001b[0m",
      "\u001b[0;31mAttributeError\u001b[0m                            Traceback (most recent call last)",
      "\u001b[0;32m<ipython-input-5-ad529b52c421>\u001b[0m in \u001b[0;36m<module>\u001b[0;34m\u001b[0m\n\u001b[0;32m----> 1\u001b[0;31m dagster.execute_pipeline(pipeline.br_rj_riodejaneiro_brt_rdo_registros,\n\u001b[0m\u001b[1;32m      2\u001b[0m                          \u001b[0mrun_config\u001b[0m \u001b[0;34m=\u001b[0m \u001b[0mconfig\u001b[0m\u001b[0;34m,\u001b[0m\u001b[0;34m\u001b[0m\u001b[0;34m\u001b[0m\u001b[0m\n\u001b[1;32m      3\u001b[0m                          mode=\"dev\")\n",
      "\u001b[0;31mAttributeError\u001b[0m: module 'repositories.capturas.br_rj_riodejaneiro_onibus_rdo.registros' has no attribute 'br_rj_riodejaneiro_brt_rdo_registros'"
     ]
    }
   ],
   "source": [
    "dagster.execute_pipeline(pipeline.br_rj_riodejaneiro_brt_rdo_registros,\n",
    "                         run_config = config,\n",
    "                         mode=\"dev\")"
   ]
  },
  {
   "cell_type": "code",
   "execution_count": 16,
   "metadata": {},
   "outputs": [],
   "source": [
    "from openpyxl import load_workbook\n",
    "file_path = \"/home/lmoraes/maestro/notebooks/data/raw/br_rj_riodejaneiro_brt_rdo/registros/year=2021/month=03/RDO012021_v1.xlsx\"\n",
    "wb = load_workbook(file_path)\n",
    "ws =  wb.active\n",
    "ws.delete_rows(1)\n",
    "ws.insert_rows(1)\n",
    "\n",
    "for col in \n",
    "\n",
    "wb.save(file_path)"
   ]
  },
  {
   "cell_type": "code",
   "execution_count": 1,
   "metadata": {},
   "outputs": [],
   "source": [
    "import re"
   ]
  },
  {
   "cell_type": "code",
   "execution_count": 14,
   "metadata": {},
   "outputs": [
    {
     "output_type": "execute_result",
     "data": {
      "text/plain": [
       "'year=2021/month=03'"
      ]
     },
     "metadata": {},
     "execution_count": 14
    }
   ],
   "source": [
    "txt = \"raw/br_rj_riodejaneiro_brt_rdo/registros/year=2021/month=03/2021-03-17-17-41-09.xlsx\"\n",
    "x = re.findall(\"\\/([^\\/]*?)=(.*?)(?=\\/)\", txt)\n",
    "partitions = []\n",
    "\"/\".join([\"=\".join([i for i in j]) for j in x])"
   ]
  },
  {
   "cell_type": "code",
   "execution_count": 15,
   "metadata": {},
   "outputs": [
    {
     "output_type": "execute_result",
     "data": {
      "text/plain": [
       "['raw',\n",
       " 'br_rj_riodejaneiro_brt_rdo',\n",
       " 'registros',\n",
       " 'year=2021',\n",
       " 'month=03',\n",
       " '2021-03-17-17-41-09.xlsx']"
      ]
     },
     "metadata": {},
     "execution_count": 15
    }
   ],
   "source": [
    "txt.split(\"/\")"
   ]
  }
 ]
}