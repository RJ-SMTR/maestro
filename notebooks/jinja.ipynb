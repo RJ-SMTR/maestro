{
 "metadata": {
  "language_info": {
   "codemirror_mode": {
    "name": "ipython",
    "version": 3
   },
   "file_extension": ".py",
   "mimetype": "text/x-python",
   "name": "python",
   "nbconvert_exporter": "python",
   "pygments_lexer": "ipython3",
   "version": "3.8.5-final"
  },
  "orig_nbformat": 2,
  "kernelspec": {
   "name": "python385jvsc74a57bd0cce300793fbed1fa2210e09707bdd0519092c36818eb92cc10e2d1a82d267f33",
   "display_name": "Python 3.8.5 64-bit ('bus')"
  }
 },
 "nbformat": 4,
 "nbformat_minor": 2,
 "cells": [
  {
   "cell_type": "code",
   "execution_count": 2,
   "metadata": {},
   "outputs": [],
   "source": [
    "import os\n",
    "from jinja2 import Environment, FileSystemLoader"
   ]
  },
  {
   "cell_type": "code",
   "execution_count": 5,
   "metadata": {},
   "outputs": [],
   "source": [
    "def env_override(value, key):\n",
    "    return os.getenv(key, value)\n"
   ]
  },
  {
   "cell_type": "code",
   "execution_count": 11,
   "metadata": {},
   "outputs": [
    {
     "output_type": "stream",
     "name": "stdout",
     "text": [
      "solids:\n  get_raw:\n    inputs:\n      url: \n        value: http://webapibrt.rio.rj.gov.br/api/v1/brt\nresources:\n  basedosdados_config:\n    config:\n      table_id: registros\n      dataset_id: br_rj_riodejaneiro_brt_gps \n  timezone_config:\n    config:\n      timezone: \"America/Sao_Paulo\" \n  discord_webhook:\n    config:\n      url: \"lmoraes\"\n      success_cron: \"00 08 * * *\"\n"
     ]
    }
   ],
   "source": [
    "cars = [\n",
    "    {'name': 'Audi', 'price': 23000}, \n",
    "    {'name': 'Skoda', 'price': 17300}, \n",
    "    {'name': 'Volvo', 'price': 44300}, \n",
    "    {'name': 'Volkswagen', 'price': 21300}\n",
    "]\n",
    "\n",
    "file_loader = FileSystemLoader('/home/lmoraes/maestro/repositories/capturas/br_rj_riodejaneiro_brt_gps/')\n",
    "env = Environment(loader=file_loader)\n",
    "env.filters['env_override'] = env_override\n",
    "\n",
    "template = env.get_template('registros.yaml')\n",
    "\n",
    "output = template.render()\n",
    "print(output)"
   ]
  }
 ]
}