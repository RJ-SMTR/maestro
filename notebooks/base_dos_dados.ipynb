{
 "metadata": {
  "language_info": {
   "codemirror_mode": {
    "name": "ipython",
    "version": 3
   },
   "file_extension": ".py",
   "mimetype": "text/x-python",
   "name": "python",
   "nbconvert_exporter": "python",
   "pygments_lexer": "ipython3",
   "version": "3.8.5-final"
  },
  "orig_nbformat": 2,
  "kernelspec": {
   "name": "python3",
   "display_name": "Python 3.8.5 64-bit",
   "metadata": {
    "interpreter": {
     "hash": "5cf277a4ec1d7681f7d0dd7a91601f45b893318ad512e3543f7a4db7d6fbbadf"
    }
   }
  }
 },
 "nbformat": 4,
 "nbformat_minor": 2,
 "cells": [
  {
   "cell_type": "code",
   "execution_count": 1,
   "metadata": {},
   "outputs": [],
   "source": [
    "import sys\n",
    "sys.path.append(\"/home/lmoraes/maestro/\")\n",
    "import repositories.capturas.br_rj_riodejaneiro_brt_rdo.registros as pipeline\n",
    "import basedosdados as bd\n",
    "from pathlib import Path"
   ]
  },
  {
   "cell_type": "code",
   "execution_count": 5,
   "metadata": {},
   "outputs": [],
   "source": [
    "dataset_id = 'br_rj_riodejaneiro_rdo'\n",
    "table_id = 'brt_rdo40_registros'\n",
    "file_path = '../data/staging/br_rj_riodejaneiro_rdo/brt_rdo40_registros/ano=2021/mes=01/RDO012021.csv'"
   ]
  },
  {
   "cell_type": "code",
   "execution_count": 6,
   "metadata": {},
   "outputs": [],
   "source": [
    "tb = bd.Table(dataset_id=dataset_id, table_id=table_id)"
   ]
  },
  {
   "cell_type": "code",
   "execution_count": 8,
   "metadata": {},
   "outputs": [
    {
     "output_type": "stream",
     "name": "stderr",
     "text": [
      "Uploading files: 100%|██████████| 1/1 [00:01<00:00,  1.26s/it]\n"
     ]
    }
   ],
   "source": [
    "tb.create(\n",
    "        path=Path(file_path).parent.parent.parent,\n",
    "        partitioned=True,\n",
    "        if_table_exists=\"replace\",\n",
    "        if_storage_data_exists=\"replace\",\n",
    "        if_table_config_exists=\"replace\",\n",
    "    )"
   ]
  }
 ]
}