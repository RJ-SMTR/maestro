{
 "metadata": {
  "language_info": {
   "codemirror_mode": {
    "name": "ipython",
    "version": 3
   },
   "file_extension": ".py",
   "mimetype": "text/x-python",
   "name": "python",
   "nbconvert_exporter": "python",
   "pygments_lexer": "ipython3",
   "version": "3.8.5-final"
  },
  "orig_nbformat": 2,
  "kernelspec": {
   "name": "python3",
   "display_name": "Python 3.8.5 64-bit ('.maestro': venv)",
   "metadata": {
    "interpreter": {
     "hash": "5cf277a4ec1d7681f7d0dd7a91601f45b893318ad512e3543f7a4db7d6fbbadf"
    }
   }
  }
 },
 "nbformat": 4,
 "nbformat_minor": 2,
 "cells": [
  {
   "cell_type": "code",
   "execution_count": 43,
   "metadata": {},
   "outputs": [],
   "source": [
    "from basedosdados import Storage\n",
    "from pathlib import Path"
   ]
  },
  {
   "cell_type": "code",
   "execution_count": 50,
   "metadata": {},
   "outputs": [],
   "source": [
    "class StoragePlus(Storage):\n",
    "    def __init__(self, **kwargs):\n",
    "        super().__init__(**kwargs)\n",
    "\n",
    "    def download(\n",
    "        self,\n",
    "        filename,\n",
    "        file_path,\n",
    "        partitions,\n",
    "        mode=\"raw\",\n",
    "    ):\n",
    "        \"\"\" Download a single file from storage from <bucket_name>/<mode>/<dataset_id>/<table_id>/<partitions>/<filename> \n",
    "        \n",
    "        There are 2 modes:\n",
    "\n",
    "        * `raw`: download file from raw mode\n",
    "        * `staging`: download file from staging mode\n",
    "\n",
    "        Args:\n",
    "            filename (str): File to download\n",
    "\n",
    "            mode (str): Folder of which dataset to download [raw|staging]\n",
    "\n",
    "            partitions (str, pathlib.PosixPath, or dict): Optional.\n",
    "                    *If adding a single file*, use this to add it to a specific partition.\n",
    "                    * str : `<key>=<value>/<key2>=<value2>`\n",
    "                    * dict: `dict(key=value, key2=value2)`\n",
    "        \"\"\"\n",
    "        if (self.dataset_id is None) or (self.table_id is None):\n",
    "            raise Exception(\"You need to pass dataset_id and table_id\")\n",
    "\n",
    "        self._check_mode(mode)\n",
    "\n",
    "        # Create blob path\n",
    "        blob_name = self._build_blob_name(filename, mode, partitions)\n",
    "        blob = self.bucket.blob(blob_name)\n",
    "\n",
    "        # Create local file path\n",
    "        _file_path = f\"{file_path}/{filename}\"\n",
    "\n",
    "        # Download\n",
    "        if (not Path(file_path).is_file()) or (Path(file_path).is_file() and if_exists == 'replace'):\n",
    "            print(f\"deleting file {file_path}\")\n",
    "            delete_file(file_path)\n",
    "            Path(file_path).parent.mkdir(parents=True, exist_ok=True)\n",
    "            blob.download_to_filename(file_path)\n",
    "        elif if_exists == \"pass\":\n",
    "            pass\n",
    "        else:\n",
    "            raise Exception(\n",
    "                        f\"Data already exists at {_file_path}. \"\n",
    "                        \"Set if_exists to 'replace' to overwrite data\"\n",
    "                    )"
   ]
  },
  {
   "cell_type": "code",
   "execution_count": 53,
   "metadata": {},
   "outputs": [
    {
     "output_type": "stream",
     "name": "stdout",
     "text": [
      "raw/br_rj_riodejaneiro_brt_rdo/registros/year=2021/month=03/RDO012021_v1.xlsx\n<Blob: rj-smtr-dev, raw/br_rj_riodejaneiro_brt_rdo/registros/year=2021/month=03/RDO012021_v1.xlsx, None>\n"
     ]
    }
   ],
   "source": [
    "a = StoragePlus(dataset_id='br_rj_riodejaneiro_brt_rdo', table_id='registros')\n",
    "a.download(\"RDO012021_v1.xlsx\", \"/home/lmoraes/\", {\"year\": \"2021\", \"month\": \"03\"})"
   ]
  }
 ]
}